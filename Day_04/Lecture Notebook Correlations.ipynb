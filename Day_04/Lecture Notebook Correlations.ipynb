{
 "cells": [
  {
   "cell_type": "markdown",
   "metadata": {},
   "source": [
    "# Correlations"
   ]
  },
  {
   "cell_type": "markdown",
   "metadata": {},
   "source": [
    "#### Imports"
   ]
  },
  {
   "cell_type": "code",
   "execution_count": 7,
   "metadata": {},
   "outputs": [],
   "source": [
    "# Data\n",
    "import numpy as np\n",
    "import pandas as pd\n",
    "\n",
    "# Plotting\n",
    "import matplotlib.pyplot as plt\n",
    "import matplotlib.ticker as ticker\n",
    "import seaborn as sns; sns.set()"
   ]
  },
  {
   "cell_type": "markdown",
   "metadata": {},
   "source": [
    "#### Load 2015 USA Census Data\n",
    "Save all rows of data to dataframe called `usa`"
   ]
  },
  {
   "cell_type": "markdown",
   "metadata": {},
   "source": [
    "```python\n",
    "usa = pd.read_csv('../../data/census_2015/acs2015_county_data.csv')\n",
    "```"
   ]
  },
  {
   "cell_type": "code",
   "execution_count": null,
   "metadata": {},
   "outputs": [],
   "source": []
  },
  {
   "cell_type": "markdown",
   "metadata": {},
   "source": [
    "#### We only care obout those rows belonging to `Michigan`...for now.\n",
    "The line of code below is extremely common —we've talked about filtering rows before, but let's quickly break it down for review and really get a sense for what is happening."
   ]
  },
  {
   "cell_type": "markdown",
   "metadata": {},
   "source": [
    "```python\n",
    "mi = usa[usa['State'] == 'Michigan']\n",
    "```"
   ]
  },
  {
   "cell_type": "code",
   "execution_count": null,
   "metadata": {},
   "outputs": [],
   "source": []
  },
  {
   "cell_type": "markdown",
   "metadata": {},
   "source": [
    "<br>"
   ]
  },
  {
   "cell_type": "markdown",
   "metadata": {},
   "source": [
    "## Filter Rows - Deep Dive"
   ]
  },
  {
   "cell_type": "markdown",
   "metadata": {},
   "source": [
    "### -The Boolean Series-\n",
    "This will return a boolean series, this essentially goes down every single row of `usa`, looks at the `State` field and checks if it is `==` to `Michigan`. If it is, the matching index for the resulting series will be populated with a `True`; if it is not, the matching index of the resulting series will be populated with a `False`\n",
    "\n",
    "I added a .head() to limit the printout, but if you took it off you will `False` values for days, this is because the `usa` dataframe is sorted alphabetically by `State`, so all of the `True` values belonging to `Michigan` will be somewhere along the middle of the distribution and hidden from view"
   ]
  },
  {
   "cell_type": "markdown",
   "metadata": {},
   "source": [
    "```python\n",
    "(usa['State'] == 'Michigan').head()\n",
    "```"
   ]
  },
  {
   "cell_type": "code",
   "execution_count": null,
   "metadata": {},
   "outputs": [],
   "source": []
  },
  {
   "cell_type": "markdown",
   "metadata": {},
   "source": [
    "> **Pro-Tip:**\n",
    "Try replacing the `.head()` with a `.sum()` to get the **total** number of `True` values in a boolean series. There should only be 83 rows in the entire `usa` dataframe, where the state is `Michigan`"
   ]
  },
  {
   "cell_type": "markdown",
   "metadata": {},
   "source": [
    "```python\n",
    "(usa['State'] == 'Michigan').sum()\n",
    "```"
   ]
  },
  {
   "cell_type": "code",
   "execution_count": null,
   "metadata": {},
   "outputs": [],
   "source": []
  },
  {
   "cell_type": "markdown",
   "metadata": {},
   "source": [
    "> **Pro-Tip:**\n",
    "Try replacing the `.sum()` with a `.mean()` to get the **proportion** of values that are `True`, about 2.5% of the rows in the entire `usa` dataframe, where the state is `Michigan`."
   ]
  },
  {
   "cell_type": "markdown",
   "metadata": {},
   "source": [
    "```python\n",
    "(usa['State'] == 'Michigan').mean()\n",
    "\n",
    "# For percentage\n",
    "(usa['State'] == 'Michigan').mean() * 100\n",
    "```"
   ]
  },
  {
   "cell_type": "code",
   "execution_count": null,
   "metadata": {},
   "outputs": [],
   "source": []
  },
  {
   "cell_type": "markdown",
   "metadata": {},
   "source": [
    "<br>"
   ]
  },
  {
   "cell_type": "markdown",
   "metadata": {},
   "source": [
    "### -Boolean indexing-\n",
    "Now, we take that boolean series and use it to `index` the original `usa` dataframe, wherever the series has a `False` value, that row will be filtered out and only where the series is `True` will that row be kept. The following lines of code will illustrate this."
   ]
  },
  {
   "cell_type": "markdown",
   "metadata": {},
   "source": [
    "#### Comparing shape\n",
    "Becuase the resulting boolean series has as many values as the original dataframe, we can pass it in as an index, in this step we will look at the shape of both objects to prove this point.\n",
    "\n",
    "It is not necessary to save the boolean series to a variable, we can do it all in one step like we did at the very beginning, but if you do go this route, make sure you pick a descriptive name."
   ]
  },
  {
   "cell_type": "markdown",
   "metadata": {},
   "source": [
    "```python\n",
    "state_is_michigan = usa['State'] == \"Michigan\"\n",
    "\n",
    "# 3220 Rows, 1 Column\n",
    "print(state_is_michigan.shape)\n",
    "\n",
    "# 3220 Rows, 37 Column\n",
    "print(usa.shape)\n",
    "\n",
    "# Remember, we are filtering rows, so the difference in columns is irrelevant\n",
    "```"
   ]
  },
  {
   "cell_type": "code",
   "execution_count": null,
   "metadata": {},
   "outputs": [],
   "source": []
  },
  {
   "cell_type": "markdown",
   "metadata": {},
   "source": [
    "#### Index `usa` - Simple\n",
    "I picked a random range to index the dataframe, this is not too dissimilar from what we are about to do with the boolean series."
   ]
  },
  {
   "cell_type": "markdown",
   "metadata": {},
   "source": [
    "```python\n",
    "usa[55:60]\n",
    "```"
   ]
  },
  {
   "cell_type": "code",
   "execution_count": null,
   "metadata": {},
   "outputs": [],
   "source": []
  },
  {
   "cell_type": "markdown",
   "metadata": {},
   "source": [
    "#### Index `usa` - Boolean\n",
    "Now, we pass in the boolean series, instead of the random range"
   ]
  },
  {
   "cell_type": "markdown",
   "metadata": {},
   "source": [
    "```python\n",
    "# we can save over original `mi` variable, it doesn't matter in this case\n",
    "mi = usa[state_is_michigan]\n",
    "mi.head()\n",
    "```"
   ]
  },
  {
   "cell_type": "code",
   "execution_count": null,
   "metadata": {},
   "outputs": [],
   "source": []
  },
  {
   "cell_type": "markdown",
   "metadata": {},
   "source": [
    "#### Verify the final shape\n",
    "Look at that! same amount of rows in the final `mi` dataframe as there were `True` values in `state_is_michigan`"
   ]
  },
  {
   "cell_type": "markdown",
   "metadata": {},
   "source": [
    "```python\n",
    "mi.shape\n",
    "```"
   ]
  },
  {
   "cell_type": "code",
   "execution_count": null,
   "metadata": {},
   "outputs": [],
   "source": []
  },
  {
   "cell_type": "markdown",
   "metadata": {},
   "source": [
    "#### Recap\n",
    "Below are both approaches once again, for context"
   ]
  },
  {
   "cell_type": "markdown",
   "metadata": {},
   "source": [
    "```python\n",
    "# One-Liner\n",
    "mi = usa[usa['State'] == 'Michigan']\n",
    "\n",
    "# Broken-down\n",
    "state_is_michigan = usa['State'] == 'Michigan'\n",
    "mi = usa[state_is_michigan]\n",
    "```"
   ]
  },
  {
   "cell_type": "code",
   "execution_count": null,
   "metadata": {},
   "outputs": [],
   "source": []
  },
  {
   "cell_type": "markdown",
   "metadata": {},
   "source": [
    "<br>\n",
    "<br>\n",
    "<br>"
   ]
  },
  {
   "cell_type": "markdown",
   "metadata": {},
   "source": [
    "## Multivariate Exploratory Analysis \n",
    "aka Scatter plots"
   ]
  },
  {
   "cell_type": "markdown",
   "metadata": {},
   "source": [
    "### Scatter\n",
    "A scatter plot attempts to describe the `correlation`, sometimes called `covariance` between 2 continuous distributions of numbers. The idea is to test how the values of one change along with those of the other.\n",
    "\n",
    "Some common examples of correlations include\n",
    "**Positive Correlation:**\n",
    "- Sunlight and Plant Height - As the amount of sunlight a plant receives increases, so does the plant's height.\n",
    "- Time spend Studying and Grade - As the amt of time spent studying for a test inc, so does a student's score on said test.\n",
    "- etc...\n",
    "\n",
    "**Negative Correlation**\n",
    "- Absences and Grades - As a students # of abscences from school increases, their average grades decrease\n",
    "- Speed and Time spent driving - As the speed in my car increases, the amt of time it takes me to get to x decreases. \n",
    "- etc..."
   ]
  },
  {
   "cell_type": "markdown",
   "metadata": {},
   "source": [
    "#### Example Plots\n",
    "The folowing plots are extremely ideal, in practice a scatter plot will most certainly not be this clear cut, there will be outliers throughout, but if a correlation is present, there will either be a general trend up —or down."
   ]
  },
  {
   "cell_type": "markdown",
   "metadata": {},
   "source": [
    "<img src=\"Correlation-V1.0-Figure-A-and-B.png\">"
   ]
  },
  {
   "cell_type": "markdown",
   "metadata": {},
   "source": [
    "<br>"
   ]
  },
  {
   "cell_type": "markdown",
   "metadata": {},
   "source": [
    "### Exercise 1:\n",
    "I would like for you to list 3 more examples for each type of correlation below, this will also serve as practice for the markdown language, which is what is used in `markdown` cells. Notice the 4 `#` before Exercise 1, that made a heading of level 4."
   ]
  },
  {
   "cell_type": "markdown",
   "metadata": {},
   "source": [
    "#### More Positive Correlations:\n",
    "- here\n",
    "- here\n",
    "- here"
   ]
  },
  {
   "cell_type": "markdown",
   "metadata": {},
   "source": [
    "#### More Negative Correlations:\n",
    "- here\n",
    "- here\n",
    "- here"
   ]
  },
  {
   "cell_type": "markdown",
   "metadata": {},
   "source": [
    "<br>\n",
    "<br>"
   ]
  },
  {
   "cell_type": "markdown",
   "metadata": {},
   "source": [
    "### Our First Scatter Plot\n",
    "Whatever we put as the values for `feat1` and `feat2` will decide the output of the remaining cells of this notebook. For the exercise portion of this class we will be trying different combinations to test possible correlations."
   ]
  },
  {
   "cell_type": "code",
   "execution_count": 30,
   "metadata": {
    "scrolled": true
   },
   "outputs": [
    {
     "data": {
      "image/png": "[encoded data removed]",
      "text/plain": [
       "<Figure size 432x288 with 1 Axes>"
      ]
     },
     "metadata": {},
     "output_type": "display_data"
    }
   ],
   "source": [
    "feat1 = \"TotalPop\"\n",
    "feat2 = \"SelfEmployed\"\n",
    "# feat3 = \"Income\"\n",
    "\n",
    "sns.scatterplot(x= feat2, y= feat1, data=mi)\n",
    "plt.show()"
   ]
  },
  {
   "cell_type": "markdown",
   "metadata": {},
   "source": [
    "<br>\n",
    "<br>"
   ]
  },
  {
   "cell_type": "markdown",
   "metadata": {},
   "source": [
    "### Covariance\n",
    "The covariance is a measure of correlation, we can see that there are some repeated values in the resulting matrix, this is because the correlations are measured in combinations.\n",
    "\n",
    "Becuaseu of the confusing nature of the covariance matrix, we must seek out a better way to test the correlation between 2 numerical distributions, as it turns out a statistician by the name of `pearson` developed a much more roboust measure of correlation, which we will discuss below!"
   ]
  },
  {
   "cell_type": "code",
   "execution_count": 31,
   "metadata": {},
   "outputs": [
    {
     "data": {
      "text/plain": [
       "array([[ 6.70637016e+10, -1.77790952e+05],\n",
       "       [-1.77790952e+05,  2.63093153e+00]])"
      ]
     },
     "execution_count": 31,
     "metadata": {},
     "output_type": "execute_result"
    }
   ],
   "source": [
    "np.cov(mi[feat1], mi[feat2])"
   ]
  },
  {
   "cell_type": "markdown",
   "metadata": {},
   "source": [
    "<br>\n",
    "<br>"
   ]
  },
  {
   "cell_type": "markdown",
   "metadata": {},
   "source": [
    "### Pearson Correlation Coefficient\n",
    "\n",
    "This function takes in the string values for 2 olumns and the df to which they belong and returns a value Between -1 and 1, this value is called the PEarson Correlation Coefficient, It's entire purpose is to give a single number value that describes the intensity of a correlation. \n",
    "\n",
    "A really positive correlation will tend toward +1 \n",
    "A really negative correlation will tend towards -1 \n",
    "A non correlation will hover around 0, usually a small negative or positive decimal."
   ]
  },
  {
   "cell_type": "code",
   "execution_count": 52,
   "metadata": {},
   "outputs": [],
   "source": [
    "def pearson_coeff(feat_1, feat_2, df):\n",
    "    \n",
    "    x = df[feat_1]\n",
    "    y = df[feat_2]\n",
    "    \n",
    "    covar = np.cov(x,y)[0,1]\n",
    "    std_x = np.std(x)\n",
    "    std_y = np.std(y)\n",
    "    \n",
    "    \n",
    "    print('Pearson Correlation Coefficient:')\n",
    "    print(feat_1, \"VS.\", feat_2)\n",
    "    \n",
    "    return covar / (std_x * std_y)"
   ]
  },
  {
   "cell_type": "markdown",
   "metadata": {},
   "source": [
    "#### Call the function on the 2 features that were defined above.\n",
    "Aka call the function, pass in feat_1 = `feat1`, featu_2 = `feat2`, and df = `mi`\n",
    "\n",
    "BTW if you don't understand what a function is doing, that is okay. It is very common to treat a function like a black box, we may not know how it does what it does, but if the source is reputable enoug,  we can trust that it will take in a certain input and kick back our desired output. In this case, the inputs are described in the function definition and the output is the pearson correlation coefficient for those inputs"
   ]
  },
  {
   "cell_type": "code",
   "execution_count": null,
   "metadata": {},
   "outputs": [],
   "source": []
  },
  {
   "cell_type": "markdown",
   "metadata": {},
   "source": [
    "Visually, it does look like there is a general trend downwards, but it hard to tell how intense the negative correlation is, the numerical output of this function gives us a much better understanding of the kind of correlation present. \n",
    "\n",
    "In this case the correlation is around -.4, which is far enough from 0 to be considered a bonafide negative correlation, not a huge one like a -.7, but still significant enough to be measured."
   ]
  }
 ],
 "metadata": {
  "kernelspec": {
   "display_name": "Python 3",
   "language": "python",
   "name": "python3"
  },
  "language_info": {
   "codemirror_mode": {
    "name": "ipython",
    "version": 3
   },
   "file_extension": ".py",
   "mimetype": "text/x-python",
   "name": "python",
   "nbconvert_exporter": "python",
   "pygments_lexer": "ipython3",
   "version": "3.7.3"
  }
 },
 "nbformat": 4,
 "nbformat_minor": 2
}
