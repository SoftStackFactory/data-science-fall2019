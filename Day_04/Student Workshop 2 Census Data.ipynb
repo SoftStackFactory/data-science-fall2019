{
 "cells": [
  {
   "cell_type": "markdown",
   "metadata": {},
   "source": [
    "#### Import Libraries"
   ]
  },
  {
   "cell_type": "code",
   "execution_count": 1,
   "metadata": {},
   "outputs": [],
   "source": [
    "# numpy\n",
    "# pandas\n",
    "# matplotlib\n",
    "# seaborn"
   ]
  },
  {
   "cell_type": "markdown",
   "metadata": {},
   "source": [
    "#### Import Data"
   ]
  },
  {
   "cell_type": "code",
   "execution_count": 4,
   "metadata": {},
   "outputs": [],
   "source": [
    "# read usa data --- Filepath will be the same as the notebook!\n"
   ]
  },
  {
   "cell_type": "code",
   "execution_count": 5,
   "metadata": {},
   "outputs": [],
   "source": [
    "# Pick a state to filter your dataframe by, save it to a new state_df.\n",
    "# ex ca = usa[usa[?] == ?]\n"
   ]
  },
  {
   "cell_type": "markdown",
   "metadata": {},
   "source": [
    "##### Run a .dtypes to look at the columns that are available to compare"
   ]
  },
  {
   "cell_type": "code",
   "execution_count": null,
   "metadata": {},
   "outputs": [],
   "source": []
  },
  {
   "cell_type": "markdown",
   "metadata": {},
   "source": [
    "<br>"
   ]
  },
  {
   "cell_type": "markdown",
   "metadata": {},
   "source": [
    "### Scatter Plots"
   ]
  },
  {
   "cell_type": "markdown",
   "metadata": {},
   "source": [
    "```python\n",
    "# Pick two columns out of this new state_df \n",
    "# and examine potential correlations!\n",
    "fig = plt.figure()\n",
    "ax = fig.gca()\n",
    "\n",
    "y = \"some_column\"\n",
    "x = \"some_other_column\"\n",
    "\n",
    "ax.scatter(x, y, data=\"replace_me_with_state_df_variable\")\n",
    "ax.set_xlabel(x)\n",
    "ax.set_ylabel(y)\n",
    "plt.show()\n",
    "```"
   ]
  },
  {
   "cell_type": "code",
   "execution_count": null,
   "metadata": {},
   "outputs": [],
   "source": []
  },
  {
   "cell_type": "markdown",
   "metadata": {},
   "source": [
    "<br>"
   ]
  },
  {
   "cell_type": "markdown",
   "metadata": {},
   "source": [
    "### Covariance"
   ]
  },
  {
   "cell_type": "code",
   "execution_count": 9,
   "metadata": {},
   "outputs": [],
   "source": [
    "# use np.cov() to create a covariance matrix, \n",
    "\n",
    "# np.cov()"
   ]
  },
  {
   "cell_type": "markdown",
   "metadata": {},
   "source": [
    "<br>"
   ]
  },
  {
   "cell_type": "markdown",
   "metadata": {},
   "source": [
    "### Pearson Correlation Coefficient"
   ]
  },
  {
   "cell_type": "code",
   "execution_count": 51,
   "metadata": {},
   "outputs": [],
   "source": [
    "def pearson_coeff(x,y):\n",
    "    covariance = np.cov(x,y)[0,1]\n",
    "    std_x = np.std(x)\n",
    "    std_y = np.std(y)\n",
    "    \n",
    "    return covariance / (std_x * std_y)"
   ]
  },
  {
   "cell_type": "code",
   "execution_count": 10,
   "metadata": {},
   "outputs": [],
   "source": [
    "# Use the pearson_coeff function to determine \n",
    "# how the two features correlate\n",
    "\n",
    "# Do you remember how the Pearson Correlation Coefficient works?"
   ]
  },
  {
   "cell_type": "markdown",
   "metadata": {},
   "source": [
    "<br>"
   ]
  },
  {
   "cell_type": "markdown",
   "metadata": {},
   "source": [
    "### Repeat the previous to find a total of 3 examples for the 3 differtent types of correlations that the Pearson Correlation Coefficient describes!\n",
    "\n",
    "#### The different types are listed below... Go ahead and count your first set of numerical columns to whichever category of the 3 it ends up falling under."
   ]
  },
  {
   "cell_type": "markdown",
   "metadata": {},
   "source": [
    "#### 1. Negative Correlation"
   ]
  },
  {
   "cell_type": "code",
   "execution_count": 4,
   "metadata": {},
   "outputs": [],
   "source": [
    "# a. Pick new pair of numerical features\n",
    "# b. Plot Scatter\n",
    "# c. Caluculate Covariance\n",
    "# d. Calculate Pearson Coeff\n",
    "# e. Is it what you expected?"
   ]
  },
  {
   "cell_type": "markdown",
   "metadata": {},
   "source": [
    "#### 2. No Correlation"
   ]
  },
  {
   "cell_type": "code",
   "execution_count": 4,
   "metadata": {},
   "outputs": [],
   "source": [
    "# a. Pick new pair of numerical features\n",
    "# b. Plot Scatter\n",
    "# c. Caluculate Covariance\n",
    "# d. Calculate Pearson Coeff\n",
    "# e. Is it what you expected?"
   ]
  },
  {
   "cell_type": "markdown",
   "metadata": {},
   "source": [
    "#### 3. Positive Correlation"
   ]
  },
  {
   "cell_type": "code",
   "execution_count": 4,
   "metadata": {},
   "outputs": [],
   "source": [
    "# a. Pick new pair of numerical features\n",
    "# b. Plot Scatter\n",
    "# c. Caluculate Covariance\n",
    "# d. Calculate Pearson Coeff\n",
    "# e. Is it what you expected?"
   ]
  }
 ],
 "metadata": {
  "kernelspec": {
   "display_name": "Python 3",
   "language": "python",
   "name": "python3"
  },
  "language_info": {
   "codemirror_mode": {
    "name": "ipython",
    "version": 3
   },
   "file_extension": ".py",
   "mimetype": "text/x-python",
   "name": "python",
   "nbconvert_exporter": "python",
   "pygments_lexer": "ipython3",
   "version": "3.7.3"
  }
 },
 "nbformat": 4,
 "nbformat_minor": 2
}
