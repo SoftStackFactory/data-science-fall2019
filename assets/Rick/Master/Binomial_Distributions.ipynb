{
 "cells": [
  {
   "cell_type": "markdown",
   "metadata": {},
   "source": [
    "# Binomial Distributions\n",
    "\n",
    "\n",
    "[Numpy Documentation](https://docs.scipy.org/doc/numpy/user/quickstart.html)"
   ]
  },
  {
   "cell_type": "markdown",
   "metadata": {},
   "source": [
    "### Import Libraries"
   ]
  },
  {
   "cell_type": "code",
   "execution_count": 1,
   "metadata": {},
   "outputs": [],
   "source": [
    "import numpy as np\n",
    "import matplotlib.pyplot as plt\n",
    "import seaborn as sns"
   ]
  },
  {
   "cell_type": "markdown",
   "metadata": {},
   "source": [
    "### Numpy Random Function\n",
    "\n",
    "[Numpy Random Documentation](https://docs.scipy.org/doc/numpy-1.14.0/reference/routines.random.html)"
   ]
  },
  {
   "cell_type": "code",
   "execution_count": 2,
   "metadata": {},
   "outputs": [],
   "source": [
    "def flip_coin():\n",
    "    # Return random integers\n",
    "    return np.random.randint(2)\n",
    "\n",
    "\n",
    "def coin_game(num_flips):\n",
    "    coin_tosses = []\n",
    "    \n",
    "    for x in range(num_flips):\n",
    "        coin = flip_coin()\n",
    "        coin_tosses.append(coin)\n",
    "        \n",
    "    return coin_tosses\n",
    "\n",
    "\n",
    "def run_sims(num_sims):\n",
    "    all_tails = []\n",
    "    \n",
    "    for sim in range(num_sims):\n",
    "        coin_tosses = coin_game(10)\n",
    "        all_tails.append(sum(coin_tosses))\n",
    "    \n",
    "    return np.array(all_tails)"
   ]
  },
  {
   "cell_type": "code",
   "execution_count": 3,
   "metadata": {},
   "outputs": [
    {
     "data": {
      "text/plain": [
       "array([3, 6, 3, 8, 6, 4, 4, 8, 4, 2])"
      ]
     },
     "execution_count": 3,
     "metadata": {},
     "output_type": "execute_result"
    }
   ],
   "source": [
    "all_tails = run_sims(10)\n",
    "all_tails"
   ]
  },
  {
   "cell_type": "markdown",
   "metadata": {},
   "source": [
    "### Plot the distribution"
   ]
  },
  {
   "cell_type": "code",
   "execution_count": 5,
   "metadata": {},
   "outputs": [
    {
     "data": {
      "text/plain": [
       "Text(0.5, 0, 'Tails / Total Flips')"
      ]
     },
     "execution_count": 5,
     "metadata": {},
     "output_type": "execute_result"
    },
    {
     "data": {
      "image/png": "[encoded data removed]",
      "text/plain": [
       "<Figure size 432x288 with 1 Axes>"
      ]
     },
     "metadata": {
      "needs_background": "light"
     },
     "output_type": "display_data"
    }
   ],
   "source": [
    "all_tails = run_sims(1000)\n",
    "\n",
    "sns.countplot(all_tails)\n",
    "ax = plt.gca()\n",
    "ax.set_ylabel(\"Freq of Simulations\")\n",
    "ax.set_xlabel(\"Tails / Total Flips\")"
   ]
  },
  {
   "cell_type": "markdown",
   "metadata": {},
   "source": [
    "### Binomial Probabilities Formula\n",
    "\n",
    "<img src=\"https://phhp-faculty-cantrell.sites.medinfo.ufl.edu/files/2013/02/mod8-binomform.png\">"
   ]
  },
  {
   "cell_type": "code",
   "execution_count": 6,
   "metadata": {},
   "outputs": [],
   "source": [
    "# Convert above formula to code\n",
    "from math import factorial as ft\n",
    "\n",
    "def binomial_proba(N, x, p):\n",
    "    \n",
    "    factorial = (ft(N)/(ft(x)*ft(N-x)))\n",
    "    proba = (p**x)*(p**(N-x))\n",
    "    \n",
    "    return factorial * proba"
   ]
  },
  {
   "cell_type": "markdown",
   "metadata": {},
   "source": [
    "### The probability of rolling 5 tails out of 10 coin flips"
   ]
  },
  {
   "cell_type": "code",
   "execution_count": 8,
   "metadata": {},
   "outputs": [
    {
     "name": "stdout",
     "output_type": "stream",
     "text": [
      "Binomial Probability of {}\n",
      "\n",
      "Example of 10 simulations...\n",
      "10 Flips, 0 Tails: 0.00098\n",
      "10 Flips, 1 Tails: 0.00977\n",
      "10 Flips, 2 Tails: 0.04395\n",
      "10 Flips, 3 Tails: 0.11719\n",
      "10 Flips, 4 Tails: 0.20508\n",
      "10 Flips, 5 Tails: 0.24609\n",
      "10 Flips, 6 Tails: 0.20508\n",
      "10 Flips, 7 Tails: 0.11719\n",
      "10 Flips, 8 Tails: 0.04395\n",
      "10 Flips, 9 Tails: 0.00977\n",
      "10 Flips, 10 Tails: 0.00098\n"
     ]
    }
   ],
   "source": [
    "bp = binomial_proba(N=10, x=5, p=0.5)\n",
    "print('Binomial Probability of {}\\n\\nExample of 10 simulations...')\n",
    "\n",
    "for x in range(11):\n",
    "    print(\"10 Flips,\", x, \"Tails:\", round(binomial_proba(N=10, x=x, p=0.5), ndigits=5))"
   ]
  },
  {
   "cell_type": "markdown",
   "metadata": {},
   "source": [
    "# Box Plots"
   ]
  },
  {
   "cell_type": "code",
   "execution_count": 10,
   "metadata": {},
   "outputs": [
    {
     "data": {
      "image/png": "[encoded data removed]",
      "text/plain": [
       "<Figure size 432x288 with 1 Axes>"
      ]
     },
     "metadata": {
      "needs_background": "light"
     },
     "output_type": "display_data"
    }
   ],
   "source": [
    "# Generate Random Data with Numpy\n",
    "x = np.random.randint(1, 100, 100)\n",
    "y = np.random.randint(1, 100, 100)\n",
    "z = np.random.randint(1, 100, 100)\n",
    "\n",
    "# Create a list of the random data we just created\n",
    "combined = [x,y,z]\n",
    "\n",
    "# Define Plot \n",
    "plt.boxplot(combined)\n",
    "\n",
    "# Show boxplot\n",
    "plt.show()"
   ]
  },
  {
   "cell_type": "markdown",
   "metadata": {},
   "source": [
    "# Histograms"
   ]
  },
  {
   "cell_type": "code",
   "execution_count": 11,
   "metadata": {},
   "outputs": [
    {
     "data": {
      "image/png": "[encoded data removed]",
      "text/plain": [
       "<Figure size 432x288 with 1 Axes>"
      ]
     },
     "metadata": {
      "needs_background": "light"
     },
     "output_type": "display_data"
    }
   ],
   "source": [
    "# Create random data that is \"normally\" distributed.\n",
    "rand_arr = np.random.normal(1, 51, 1000)\n",
    "\n",
    "# Define plot\n",
    "plt.hist(rand_arr)\n",
    "\n",
    "# Clean-Up Plot Output\n",
    "plt.show()"
   ]
  },
  {
   "cell_type": "code",
   "execution_count": null,
   "metadata": {},
   "outputs": [],
   "source": []
  },
  {
   "cell_type": "code",
   "execution_count": null,
   "metadata": {},
   "outputs": [],
   "source": [
    "from math import factorial as ft\n",
    "\n",
    "def binomial_proba(N, x, p):\n",
    "    \n",
    "    factorial = (ft(N)/(ft(x)*ft(N-x)))\n",
    "    proba = (p**x)*(p**(N-x))\n",
    "    \n",
    "    return factorial * proba\n",
    "\n",
    "\n",
    "binomial_proba(N=10, x=5, p=0.5)\n",
    "\n",
    "for x in range(11):\n",
    "    print(\"10 Flips,\", x, \"Tails:\", round(binomial_proba(N=10, x=x, p=0.5), ndigits=5))\n",
    "    print()"
   ]
  }
 ],
 "metadata": {
  "kernelspec": {
   "display_name": "Python 3",
   "language": "python",
   "name": "python3"
  },
  "language_info": {
   "codemirror_mode": {
    "name": "ipython",
    "version": 3
   },
   "file_extension": ".py",
   "mimetype": "text/x-python",
   "name": "python",
   "nbconvert_exporter": "python",
   "pygments_lexer": "ipython3",
   "version": "3.7.3"
  }
 },
 "nbformat": 4,
 "nbformat_minor": 2
}
