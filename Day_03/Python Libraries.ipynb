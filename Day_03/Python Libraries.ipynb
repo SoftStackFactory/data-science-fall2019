{
 "cells": [
  {
   "cell_type": "markdown",
   "metadata": {},
   "source": [
    "# In this lesson...\n",
    "\n",
    "In this lesson, we'll go through the following:\n",
    "1. [Importing Libraries](#import-libraries)\n",
    "2. [Working With Mock Data](#mock-data)\n",
    "2. [Understanding Mock Data](#understand-mock-data)\n",
    "\n",
    "\n",
    "<hr>"
   ]
  },
  {
   "cell_type": "markdown",
   "metadata": {},
   "source": [
    "<br id=\"import-libraries\"> \n",
    "\n",
    "# <span style='color:blue;'>Import libraries</span>\n",
    "\n",
    "In general, it's good practice to keep all of your library imports at the top of your notebook or program."
   ]
  },
  {
   "cell_type": "code",
   "execution_count": 1,
   "metadata": {},
   "outputs": [],
   "source": [
    "# Collection Libraries\n",
    "import numpy as np\n",
    "import pandas as pd\n",
    "\n",
    "# Data Visualization Libraries\n",
    "import matplotlib.pyplot as plt\n",
    "import seaborn as sns\n",
    "\n",
    "# Library Configurations: \n",
    "sns.set() # make seaborn override the styling of matplotlib graphs\n",
    "pd.set_option('display.max_columns', None) # Make Pandas display all columns\n",
    "pd.set_option('display.max_rows', None) # Make Pandas display all rows"
   ]
  },
  {
   "cell_type": "markdown",
   "metadata": {},
   "source": [
    "<br id=\"mock-data\">\n",
    "\n",
    "<hr> \n",
    "\n",
    "\n",
    "# <span style='color:blue;'>Working Mith Mock Data </span>\n"
   ]
  },
  {
   "cell_type": "markdown",
   "metadata": {},
   "source": [
    "## Helper functions To Create Mock Data"
   ]
  },
  {
   "cell_type": "markdown",
   "metadata": {},
   "source": [
    "### Using Numpy's arange() Function To Generate Random Data:\n",
    "\n",
    "**[numpy.arange()](https://docs.scipy.org/doc/numpy-1.15.0/reference/generated/numpy.arange.html?highlight=arange#numpy.arange)** will return evenly spaced values within a given interval."
   ]
  },
  {
   "cell_type": "code",
   "execution_count": 2,
   "metadata": {},
   "outputs": [],
   "source": [
    "def generate_evenly_spaced_values_numpy_array(start, stop, step):\n",
    "    \"\"\"\n",
    "        Info:\n",
    "            This function return a numpy array of evenly spaced values within a given interval \n",
    "        Params:\n",
    "            start (type: int)\n",
    "            stop (type: int) \n",
    "            step (type: int)\n",
    "        Output:\n",
    "            numpy_array (type: numpy array)\n",
    "    \"\"\"\n",
    "    numpy_array = np.arange(start, stop, step) \n",
    "    return numpy_array"
   ]
  },
  {
   "cell_type": "markdown",
   "metadata": {},
   "source": [
    "### Using Numpy's randint() Function To Generate Random Data:\n",
    "**[numpy.randint()](https://docs.scipy.org/doc/numpy-1.15.0/reference/generated/numpy.random.randint.html)** will return random integers based on the “discrete uniform” distribution from low (inclusive) to high (exclusive).\n"
   ]
  },
  {
   "cell_type": "code",
   "execution_count": 3,
   "metadata": {},
   "outputs": [],
   "source": [
    "def generate_random_array(min_num, max_num, number_of_samples):\n",
    "    \"\"\"\n",
    "        Info:\n",
    "            This function will return a numpy array of random samples, given a range\n",
    "\n",
    "        Params:\n",
    "            min_num, inclusive (type: int)\n",
    "            max_num, exclusive (type: int) \n",
    "            number_of_samples (type: int)\n",
    "        Output:\n",
    "            numpy_array (type: numpy array)\n",
    "    \"\"\"\n",
    "    rand_arr = np.random.randint(min_num, max_num, size=number_of_samples)\n",
    "    return rand_arr"
   ]
  },
  {
   "cell_type": "markdown",
   "metadata": {},
   "source": [
    "### Using Numpy's random.normal() Function To Generate Random Data:\n",
    "[numpy.random.normal()](https://docs.scipy.org/doc/numpy-1.14.0/reference/generated/numpy.random.normal.html) will return random samples from a normal (Gaussian) distribution."
   ]
  },
  {
   "cell_type": "code",
   "execution_count": 4,
   "metadata": {},
   "outputs": [],
   "source": [
    "def generate_random_normal_array(mean, std, number_of_samples):\n",
    "    \"\"\"\n",
    "        Info:\n",
    "            This function will return random samples from a normal (Gaussian) distribution.\n",
    "\n",
    "        Params:\n",
    "            mean, (“centre”) of the distribution. (type: float)\n",
    "            std, Standard deviation (spread or “width”) of the distribution. (type: float)\n",
    "            number_of_samples (type: int)\n",
    "        Output:\n",
    "            numpy_array (type: numpy array)\n",
    "    \"\"\"\n",
    "    rand_normal_arr = np.random.normal(mean, std, number_of_samples)\n",
    "    return rand_normal_arr"
   ]
  },
  {
   "cell_type": "markdown",
   "metadata": {},
   "source": [
    "## Creating Mock Data Using Helper Functions"
   ]
  },
  {
   "cell_type": "code",
   "execution_count": 5,
   "metadata": {},
   "outputs": [],
   "source": [
    "def get_sample_data():\n",
    "    raw_data = {\n",
    "    'first_name': ['Mike', 'Robert', 'Peter', 'Scott', 'Harold'], \n",
    "    'last_name': ['Miller', 'Jacobson', 'Ali', 'Milner', 'Cooze'],\n",
    "    'unique_id': generate_random_array(1, 100, 5),\n",
    "    'age': generate_random_array(21, 70, 5),\n",
    "    'eye_color': ['green', 'brown', 'blue', 'hazel', np.nan],\n",
    "    'weight': generate_random_normal_array(150, 20, 5),\n",
    "    'favorite_number': generate_evenly_spaced_values_numpy_array(1,100,20) \n",
    "}\n",
    "    return pd.DataFrame(raw_data, columns = ['first_name', 'last_name', 'unique_id', 'age', 'eye_color', 'weight','favorite_number'])"
   ]
  },
  {
   "cell_type": "markdown",
   "metadata": {},
   "source": [
    "## Helper Functions To Modify Mock Data"
   ]
  },
  {
   "cell_type": "code",
   "execution_count": 6,
   "metadata": {},
   "outputs": [],
   "source": [
    "def rename_columns(dataframe, column_names):\n",
    "    \"\"\"\n",
    "        Info:\n",
    "            This function will rename all the columns of a pandas dataframe\n",
    "        Params:\n",
    "            dataframe (type: pandas dataframe)\n",
    "            column_names: (type: List)\n",
    "        Output:\n",
    "            dataframe (type: pandas dataframe)\n",
    "    \"\"\"\n",
    "    dataframe.columns = column_names\n",
    "    return dataframe"
   ]
  },
  {
   "cell_type": "code",
   "execution_count": 7,
   "metadata": {},
   "outputs": [],
   "source": [
    "def drop_record_by_value(dataframe, column_name, column_value):\n",
    "    \"\"\"\n",
    "        Info:\n",
    "            This function will drop records that contain a given value in a given column\n",
    "        Params:\n",
    "            dataframe: Target dataframe\n",
    "            column_name: Column of focus\n",
    "            column_value: Target value\n",
    "        Output:\n",
    "            dataframe (type: pandas dataframe)\n",
    "    \"\"\"\n",
    "    new_df = dataframe[dataframe[column_name] != column_value]\n",
    "    return new_df"
   ]
  },
  {
   "cell_type": "markdown",
   "metadata": {},
   "source": [
    "## Renaming Columns Using Helper Function"
   ]
  },
  {
   "cell_type": "code",
   "execution_count": 8,
   "metadata": {},
   "outputs": [
    {
     "name": "stdout",
     "output_type": "stream",
     "text": [
      "ORIGINAL DF:\n",
      "\n",
      "  first_name last_name  unique_id  age eye_color      weight  favorite_number\n",
      "0       Mike    Miller         84   50     green  175.882516                1\n",
      "1     Robert  Jacobson          5   58     brown  126.828452               21\n",
      "2      Peter       Ali         55   26      blue  152.575893               41\n",
      "3      Scott    Milner         19   53     hazel  139.324393               61\n",
      "4     Harold     Cooze         66   49       NaN  143.832737               81\n",
      "\n",
      "Updated DF, with new column names:\n",
      "\n",
      "    first      last  id  age eye_color      weight  fav_num\n",
      "0    Mike    Miller  84   50     green  175.882516        1\n",
      "1  Robert  Jacobson   5   58     brown  126.828452       21\n",
      "2   Peter       Ali  55   26      blue  152.575893       41\n",
      "3   Scott    Milner  19   53     hazel  139.324393       61\n",
      "4  Harold     Cooze  66   49       NaN  143.832737       81\n",
      "\n"
     ]
    }
   ],
   "source": [
    "# Get mock data\n",
    "df = get_sample_data()\n",
    "print(\"ORIGINAL DF:\\n\\n{}\\n\".format(df.head()))\n",
    "\n",
    "# Set function params\n",
    "new_column_names = ['first', 'last', 'id', 'age', 'eye_color', 'weight', 'fav_num']\n",
    "\n",
    "# Create new df with renamed columns\n",
    "new_df = rename_columns(df, new_column_names)\n",
    "print(\"Updated DF, with new column names:\\n\\n{}\\n\".format(df.head()))"
   ]
  },
  {
   "cell_type": "markdown",
   "metadata": {},
   "source": [
    "## Dropping A Row Based Off Of A Column Value Using Helper Function"
   ]
  },
  {
   "cell_type": "code",
   "execution_count": 9,
   "metadata": {},
   "outputs": [
    {
     "name": "stdout",
     "output_type": "stream",
     "text": [
      "ORIGINAL DF:\n",
      "\n",
      "  first_name last_name  unique_id  age eye_color      weight  favorite_number\n",
      "0       Mike    Miller         31   49     green  119.263748                1\n",
      "1     Robert  Jacobson         47   57     brown  121.756163               21\n",
      "2      Peter       Ali         32   66      blue  147.486812               41\n",
      "3      Scott    Milner          3   51     hazel  136.650292               61\n",
      "4     Harold     Cooze         58   69       NaN  181.464985               81\n",
      "\n",
      "Updated DF, with dropped row based on specific column value:\n",
      "\n",
      "  first_name last_name  unique_id  age eye_color      weight  favorite_number\n",
      "0       Mike    Miller         31   49     green  119.263748                1\n",
      "1     Robert  Jacobson         47   57     brown  121.756163               21\n",
      "2      Peter       Ali         32   66      blue  147.486812               41\n",
      "4     Harold     Cooze         58   69       NaN  181.464985               81\n",
      "\n"
     ]
    }
   ],
   "source": [
    "# Get mock data\n",
    "df = get_sample_data()\n",
    "print(\"ORIGINAL DF:\\n\\n{}\\n\".format(df.head()))\n",
    "\n",
    "# Set function params\n",
    "column_name = 'eye_color'\n",
    "column_value = 'hazel'\n",
    "\n",
    "# Create new df with removed records\n",
    "new_df = drop_record_by_value(df, column_name, column_value)\n",
    "\n",
    "print(\"Updated DF, with dropped row based on specific column value:\\n\\n{}\\n\".format(new_df.head()))"
   ]
  },
  {
   "cell_type": "markdown",
   "metadata": {},
   "source": [
    "<br id=\"understand-mock-data\"> \n",
    "\n",
    "<hr>\n",
    "\n",
    "# <span style='color:blue;'> Understanding The Mock Dataset<span>"
   ]
  },
  {
   "cell_type": "markdown",
   "metadata": {},
   "source": [
    "## Visualizing the head and tail "
   ]
  },
  {
   "cell_type": "code",
   "execution_count": 10,
   "metadata": {},
   "outputs": [
    {
     "data": {
      "text/html": [
       "<div>\n",
       "<style scoped>\n",
       "    .dataframe tbody tr th:only-of-type {\n",
       "        vertical-align: middle;\n",
       "    }\n",
       "\n",
       "    .dataframe tbody tr th {\n",
       "        vertical-align: top;\n",
       "    }\n",
       "\n",
       "    .dataframe thead th {\n",
       "        text-align: right;\n",
       "    }\n",
       "</style>\n",
       "<table border=\"1\" class=\"dataframe\">\n",
       "  <thead>\n",
       "    <tr style=\"text-align: right;\">\n",
       "      <th></th>\n",
       "      <th>first_name</th>\n",
       "      <th>last_name</th>\n",
       "      <th>unique_id</th>\n",
       "      <th>age</th>\n",
       "      <th>eye_color</th>\n",
       "      <th>weight</th>\n",
       "      <th>favorite_number</th>\n",
       "    </tr>\n",
       "  </thead>\n",
       "  <tbody>\n",
       "    <tr>\n",
       "      <td>0</td>\n",
       "      <td>Mike</td>\n",
       "      <td>Miller</td>\n",
       "      <td>31</td>\n",
       "      <td>49</td>\n",
       "      <td>green</td>\n",
       "      <td>119.263748</td>\n",
       "      <td>1</td>\n",
       "    </tr>\n",
       "    <tr>\n",
       "      <td>1</td>\n",
       "      <td>Robert</td>\n",
       "      <td>Jacobson</td>\n",
       "      <td>47</td>\n",
       "      <td>57</td>\n",
       "      <td>brown</td>\n",
       "      <td>121.756163</td>\n",
       "      <td>21</td>\n",
       "    </tr>\n",
       "    <tr>\n",
       "      <td>2</td>\n",
       "      <td>Peter</td>\n",
       "      <td>Ali</td>\n",
       "      <td>32</td>\n",
       "      <td>66</td>\n",
       "      <td>blue</td>\n",
       "      <td>147.486812</td>\n",
       "      <td>41</td>\n",
       "    </tr>\n",
       "    <tr>\n",
       "      <td>3</td>\n",
       "      <td>Scott</td>\n",
       "      <td>Milner</td>\n",
       "      <td>3</td>\n",
       "      <td>51</td>\n",
       "      <td>hazel</td>\n",
       "      <td>136.650292</td>\n",
       "      <td>61</td>\n",
       "    </tr>\n",
       "    <tr>\n",
       "      <td>4</td>\n",
       "      <td>Harold</td>\n",
       "      <td>Cooze</td>\n",
       "      <td>58</td>\n",
       "      <td>69</td>\n",
       "      <td>NaN</td>\n",
       "      <td>181.464985</td>\n",
       "      <td>81</td>\n",
       "    </tr>\n",
       "  </tbody>\n",
       "</table>\n",
       "</div>"
      ],
      "text/plain": [
       "  first_name last_name  unique_id  age eye_color      weight  favorite_number\n",
       "0       Mike    Miller         31   49     green  119.263748                1\n",
       "1     Robert  Jacobson         47   57     brown  121.756163               21\n",
       "2      Peter       Ali         32   66      blue  147.486812               41\n",
       "3      Scott    Milner          3   51     hazel  136.650292               61\n",
       "4     Harold     Cooze         58   69       NaN  181.464985               81"
      ]
     },
     "execution_count": 10,
     "metadata": {},
     "output_type": "execute_result"
    }
   ],
   "source": [
    "df.head(5)"
   ]
  },
  {
   "cell_type": "code",
   "execution_count": 11,
   "metadata": {},
   "outputs": [
    {
     "data": {
      "text/html": [
       "<div>\n",
       "<style scoped>\n",
       "    .dataframe tbody tr th:only-of-type {\n",
       "        vertical-align: middle;\n",
       "    }\n",
       "\n",
       "    .dataframe tbody tr th {\n",
       "        vertical-align: top;\n",
       "    }\n",
       "\n",
       "    .dataframe thead th {\n",
       "        text-align: right;\n",
       "    }\n",
       "</style>\n",
       "<table border=\"1\" class=\"dataframe\">\n",
       "  <thead>\n",
       "    <tr style=\"text-align: right;\">\n",
       "      <th></th>\n",
       "      <th>first_name</th>\n",
       "      <th>last_name</th>\n",
       "      <th>unique_id</th>\n",
       "      <th>age</th>\n",
       "      <th>eye_color</th>\n",
       "      <th>weight</th>\n",
       "      <th>favorite_number</th>\n",
       "    </tr>\n",
       "  </thead>\n",
       "  <tbody>\n",
       "    <tr>\n",
       "      <td>0</td>\n",
       "      <td>Mike</td>\n",
       "      <td>Miller</td>\n",
       "      <td>31</td>\n",
       "      <td>49</td>\n",
       "      <td>green</td>\n",
       "      <td>119.263748</td>\n",
       "      <td>1</td>\n",
       "    </tr>\n",
       "    <tr>\n",
       "      <td>1</td>\n",
       "      <td>Robert</td>\n",
       "      <td>Jacobson</td>\n",
       "      <td>47</td>\n",
       "      <td>57</td>\n",
       "      <td>brown</td>\n",
       "      <td>121.756163</td>\n",
       "      <td>21</td>\n",
       "    </tr>\n",
       "    <tr>\n",
       "      <td>2</td>\n",
       "      <td>Peter</td>\n",
       "      <td>Ali</td>\n",
       "      <td>32</td>\n",
       "      <td>66</td>\n",
       "      <td>blue</td>\n",
       "      <td>147.486812</td>\n",
       "      <td>41</td>\n",
       "    </tr>\n",
       "    <tr>\n",
       "      <td>3</td>\n",
       "      <td>Scott</td>\n",
       "      <td>Milner</td>\n",
       "      <td>3</td>\n",
       "      <td>51</td>\n",
       "      <td>hazel</td>\n",
       "      <td>136.650292</td>\n",
       "      <td>61</td>\n",
       "    </tr>\n",
       "    <tr>\n",
       "      <td>4</td>\n",
       "      <td>Harold</td>\n",
       "      <td>Cooze</td>\n",
       "      <td>58</td>\n",
       "      <td>69</td>\n",
       "      <td>NaN</td>\n",
       "      <td>181.464985</td>\n",
       "      <td>81</td>\n",
       "    </tr>\n",
       "  </tbody>\n",
       "</table>\n",
       "</div>"
      ],
      "text/plain": [
       "  first_name last_name  unique_id  age eye_color      weight  favorite_number\n",
       "0       Mike    Miller         31   49     green  119.263748                1\n",
       "1     Robert  Jacobson         47   57     brown  121.756163               21\n",
       "2      Peter       Ali         32   66      blue  147.486812               41\n",
       "3      Scott    Milner          3   51     hazel  136.650292               61\n",
       "4     Harold     Cooze         58   69       NaN  181.464985               81"
      ]
     },
     "execution_count": 11,
     "metadata": {},
     "output_type": "execute_result"
    }
   ],
   "source": [
    "df.tail(5)"
   ]
  },
  {
   "cell_type": "markdown",
   "metadata": {},
   "source": [
    "## Checking the shape of the data frame"
   ]
  },
  {
   "cell_type": "code",
   "execution_count": 12,
   "metadata": {},
   "outputs": [
    {
     "data": {
      "text/plain": [
       "(5, 7)"
      ]
     },
     "execution_count": 12,
     "metadata": {},
     "output_type": "execute_result"
    }
   ],
   "source": [
    "df.shape"
   ]
  },
  {
   "cell_type": "markdown",
   "metadata": {},
   "source": [
    "## Checking the data types of the columns\n",
    " "
   ]
  },
  {
   "cell_type": "code",
   "execution_count": 13,
   "metadata": {},
   "outputs": [
    {
     "data": {
      "text/plain": [
       "first_name          object\n",
       "last_name           object\n",
       "unique_id            int64\n",
       "age                  int64\n",
       "eye_color           object\n",
       "weight             float64\n",
       "favorite_number      int64\n",
       "dtype: object"
      ]
     },
     "execution_count": 13,
     "metadata": {},
     "output_type": "execute_result"
    }
   ],
   "source": [
    "df.dtypes"
   ]
  },
  {
   "cell_type": "markdown",
   "metadata": {},
   "source": [
    "### More info"
   ]
  },
  {
   "cell_type": "code",
   "execution_count": 14,
   "metadata": {},
   "outputs": [
    {
     "name": "stdout",
     "output_type": "stream",
     "text": [
      "<class 'pandas.core.frame.DataFrame'>\n",
      "RangeIndex: 5 entries, 0 to 4\n",
      "Data columns (total 7 columns):\n",
      "first_name         5 non-null object\n",
      "last_name          5 non-null object\n",
      "unique_id          5 non-null int64\n",
      "age                5 non-null int64\n",
      "eye_color          4 non-null object\n",
      "weight             5 non-null float64\n",
      "favorite_number    5 non-null int64\n",
      "dtypes: float64(1), int64(3), object(3)\n",
      "memory usage: 408.0+ bytes\n"
     ]
    }
   ],
   "source": [
    "df.info()"
   ]
  },
  {
   "cell_type": "markdown",
   "metadata": {},
   "source": [
    "## 5 summary statistic with numerical dtypes "
   ]
  },
  {
   "cell_type": "code",
   "execution_count": 15,
   "metadata": {},
   "outputs": [
    {
     "data": {
      "text/html": [
       "<div>\n",
       "<style scoped>\n",
       "    .dataframe tbody tr th:only-of-type {\n",
       "        vertical-align: middle;\n",
       "    }\n",
       "\n",
       "    .dataframe tbody tr th {\n",
       "        vertical-align: top;\n",
       "    }\n",
       "\n",
       "    .dataframe thead th {\n",
       "        text-align: right;\n",
       "    }\n",
       "</style>\n",
       "<table border=\"1\" class=\"dataframe\">\n",
       "  <thead>\n",
       "    <tr style=\"text-align: right;\">\n",
       "      <th></th>\n",
       "      <th>unique_id</th>\n",
       "      <th>age</th>\n",
       "      <th>weight</th>\n",
       "      <th>favorite_number</th>\n",
       "    </tr>\n",
       "  </thead>\n",
       "  <tbody>\n",
       "    <tr>\n",
       "      <td>count</td>\n",
       "      <td>5.000000</td>\n",
       "      <td>5.000000</td>\n",
       "      <td>5.000000</td>\n",
       "      <td>5.000000</td>\n",
       "    </tr>\n",
       "    <tr>\n",
       "      <td>mean</td>\n",
       "      <td>34.200000</td>\n",
       "      <td>58.400000</td>\n",
       "      <td>141.324400</td>\n",
       "      <td>41.000000</td>\n",
       "    </tr>\n",
       "    <tr>\n",
       "      <td>std</td>\n",
       "      <td>20.729206</td>\n",
       "      <td>8.876936</td>\n",
       "      <td>25.202566</td>\n",
       "      <td>31.622777</td>\n",
       "    </tr>\n",
       "    <tr>\n",
       "      <td>min</td>\n",
       "      <td>3.000000</td>\n",
       "      <td>49.000000</td>\n",
       "      <td>119.263748</td>\n",
       "      <td>1.000000</td>\n",
       "    </tr>\n",
       "    <tr>\n",
       "      <td>25%</td>\n",
       "      <td>31.000000</td>\n",
       "      <td>51.000000</td>\n",
       "      <td>121.756163</td>\n",
       "      <td>21.000000</td>\n",
       "    </tr>\n",
       "    <tr>\n",
       "      <td>50%</td>\n",
       "      <td>32.000000</td>\n",
       "      <td>57.000000</td>\n",
       "      <td>136.650292</td>\n",
       "      <td>41.000000</td>\n",
       "    </tr>\n",
       "    <tr>\n",
       "      <td>75%</td>\n",
       "      <td>47.000000</td>\n",
       "      <td>66.000000</td>\n",
       "      <td>147.486812</td>\n",
       "      <td>61.000000</td>\n",
       "    </tr>\n",
       "    <tr>\n",
       "      <td>max</td>\n",
       "      <td>58.000000</td>\n",
       "      <td>69.000000</td>\n",
       "      <td>181.464985</td>\n",
       "      <td>81.000000</td>\n",
       "    </tr>\n",
       "  </tbody>\n",
       "</table>\n",
       "</div>"
      ],
      "text/plain": [
       "       unique_id        age      weight  favorite_number\n",
       "count   5.000000   5.000000    5.000000         5.000000\n",
       "mean   34.200000  58.400000  141.324400        41.000000\n",
       "std    20.729206   8.876936   25.202566        31.622777\n",
       "min     3.000000  49.000000  119.263748         1.000000\n",
       "25%    31.000000  51.000000  121.756163        21.000000\n",
       "50%    32.000000  57.000000  136.650292        41.000000\n",
       "75%    47.000000  66.000000  147.486812        61.000000\n",
       "max    58.000000  69.000000  181.464985        81.000000"
      ]
     },
     "execution_count": 15,
     "metadata": {},
     "output_type": "execute_result"
    }
   ],
   "source": [
    "df.describe()"
   ]
  },
  {
   "cell_type": "markdown",
   "metadata": {},
   "source": [
    "## 5 summary statistic with categorical dtypes "
   ]
  },
  {
   "cell_type": "code",
   "execution_count": 16,
   "metadata": {},
   "outputs": [
    {
     "data": {
      "text/html": [
       "<div>\n",
       "<style scoped>\n",
       "    .dataframe tbody tr th:only-of-type {\n",
       "        vertical-align: middle;\n",
       "    }\n",
       "\n",
       "    .dataframe tbody tr th {\n",
       "        vertical-align: top;\n",
       "    }\n",
       "\n",
       "    .dataframe thead th {\n",
       "        text-align: right;\n",
       "    }\n",
       "</style>\n",
       "<table border=\"1\" class=\"dataframe\">\n",
       "  <thead>\n",
       "    <tr style=\"text-align: right;\">\n",
       "      <th></th>\n",
       "      <th>first_name</th>\n",
       "      <th>last_name</th>\n",
       "      <th>eye_color</th>\n",
       "    </tr>\n",
       "  </thead>\n",
       "  <tbody>\n",
       "    <tr>\n",
       "      <td>count</td>\n",
       "      <td>5</td>\n",
       "      <td>5</td>\n",
       "      <td>4</td>\n",
       "    </tr>\n",
       "    <tr>\n",
       "      <td>unique</td>\n",
       "      <td>5</td>\n",
       "      <td>5</td>\n",
       "      <td>4</td>\n",
       "    </tr>\n",
       "    <tr>\n",
       "      <td>top</td>\n",
       "      <td>Scott</td>\n",
       "      <td>Cooze</td>\n",
       "      <td>green</td>\n",
       "    </tr>\n",
       "    <tr>\n",
       "      <td>freq</td>\n",
       "      <td>1</td>\n",
       "      <td>1</td>\n",
       "      <td>1</td>\n",
       "    </tr>\n",
       "  </tbody>\n",
       "</table>\n",
       "</div>"
      ],
      "text/plain": [
       "       first_name last_name eye_color\n",
       "count           5         5         4\n",
       "unique          5         5         4\n",
       "top         Scott     Cooze     green\n",
       "freq            1         1         1"
      ]
     },
     "execution_count": 16,
     "metadata": {},
     "output_type": "execute_result"
    }
   ],
   "source": [
    "df.describe(include='object')"
   ]
  },
  {
   "cell_type": "markdown",
   "metadata": {},
   "source": [
    "## Exploring Column Value counts\n",
    "\n",
    "Note: the function display is used to print the data in a clean fashion"
   ]
  },
  {
   "cell_type": "code",
   "execution_count": 17,
   "metadata": {},
   "outputs": [
    {
     "name": "stdout",
     "output_type": "stream",
     "text": [
      "first_name\n"
     ]
    },
    {
     "data": {
      "text/plain": [
       "Scott     1\n",
       "Robert    1\n",
       "Peter     1\n",
       "Mike      1\n",
       "Harold    1\n",
       "Name: first_name, dtype: int64"
      ]
     },
     "metadata": {},
     "output_type": "display_data"
    },
    {
     "name": "stdout",
     "output_type": "stream",
     "text": [
      "\n",
      "last_name\n"
     ]
    },
    {
     "data": {
      "text/plain": [
       "Milner      1\n",
       "Miller      1\n",
       "Jacobson    1\n",
       "Cooze       1\n",
       "Ali         1\n",
       "Name: last_name, dtype: int64"
      ]
     },
     "metadata": {},
     "output_type": "display_data"
    },
    {
     "name": "stdout",
     "output_type": "stream",
     "text": [
      "\n",
      "unique_id\n"
     ]
    },
    {
     "data": {
      "text/plain": [
       "58    1\n",
       "47    1\n",
       "32    1\n",
       "31    1\n",
       "3     1\n",
       "Name: unique_id, dtype: int64"
      ]
     },
     "metadata": {},
     "output_type": "display_data"
    },
    {
     "name": "stdout",
     "output_type": "stream",
     "text": [
      "\n",
      "age\n"
     ]
    },
    {
     "data": {
      "text/plain": [
       "69    1\n",
       "66    1\n",
       "57    1\n",
       "51    1\n",
       "49    1\n",
       "Name: age, dtype: int64"
      ]
     },
     "metadata": {},
     "output_type": "display_data"
    },
    {
     "name": "stdout",
     "output_type": "stream",
     "text": [
      "\n",
      "eye_color\n"
     ]
    },
    {
     "data": {
      "text/plain": [
       "hazel    1\n",
       "green    1\n",
       "brown    1\n",
       "blue     1\n",
       "NaN      1\n",
       "Name: eye_color, dtype: int64"
      ]
     },
     "metadata": {},
     "output_type": "display_data"
    },
    {
     "name": "stdout",
     "output_type": "stream",
     "text": [
      "\n",
      "weight\n"
     ]
    },
    {
     "data": {
      "text/plain": [
       "181.464985    1\n",
       "147.486812    1\n",
       "136.650292    1\n",
       "121.756163    1\n",
       "119.263748    1\n",
       "Name: weight, dtype: int64"
      ]
     },
     "metadata": {},
     "output_type": "display_data"
    },
    {
     "name": "stdout",
     "output_type": "stream",
     "text": [
      "\n",
      "favorite_number\n"
     ]
    },
    {
     "data": {
      "text/plain": [
       "81    1\n",
       "61    1\n",
       "41    1\n",
       "21    1\n",
       "1     1\n",
       "Name: favorite_number, dtype: int64"
      ]
     },
     "metadata": {},
     "output_type": "display_data"
    },
    {
     "name": "stdout",
     "output_type": "stream",
     "text": [
      "\n"
     ]
    }
   ],
   "source": [
    "for column_name in df:\n",
    "    print(column_name)\n",
    "    display(df[column_name].value_counts(dropna=False).sort_index(ascending=False))\n",
    "    print()"
   ]
  },
  {
   "cell_type": "markdown",
   "metadata": {},
   "source": [
    "## Showing Unique Values"
   ]
  },
  {
   "cell_type": "code",
   "execution_count": 18,
   "metadata": {
    "scrolled": false
   },
   "outputs": [
    {
     "name": "stdout",
     "output_type": "stream",
     "text": [
      "Column name: first_name\n",
      "Number of unique values: 5\n",
      "['Mike' 'Robert' 'Peter' 'Scott' 'Harold']\n",
      "\n",
      "Column name: last_name\n",
      "Number of unique values: 5\n",
      "['Miller' 'Jacobson' 'Ali' 'Milner' 'Cooze']\n",
      "\n",
      "Column name: unique_id\n",
      "Number of unique values: 5\n",
      "[31 47 32  3 58]\n",
      "\n",
      "Column name: age\n",
      "Number of unique values: 5\n",
      "[49 57 66 51 69]\n",
      "\n",
      "Column name: eye_color\n",
      "Number of unique values: 4\n",
      "['green' 'brown' 'blue' 'hazel' nan]\n",
      "\n",
      "Column name: weight\n",
      "Number of unique values: 5\n",
      "[119.26374825 121.75616343 147.4868123  136.6502917  181.46498497]\n",
      "\n",
      "Column name: favorite_number\n",
      "Number of unique values: 5\n",
      "[ 1 21 41 61 81]\n",
      "\n"
     ]
    }
   ],
   "source": [
    "for column_name in df:\n",
    "    print(\"Column name:\", column_name )\n",
    "    print('Number of unique values:', df[column_name].nunique())\n",
    "    print(df[column_name].unique())\n",
    "    print()"
   ]
  },
  {
   "cell_type": "markdown",
   "metadata": {},
   "source": [
    "## Checking how many null values each column has\n",
    "Note: Operations on a data frame typically result in a 1 dimension lower output   "
   ]
  },
  {
   "cell_type": "code",
   "execution_count": 19,
   "metadata": {},
   "outputs": [
    {
     "data": {
      "text/plain": [
       "first_name         0\n",
       "last_name          0\n",
       "unique_id          0\n",
       "age                0\n",
       "eye_color          1\n",
       "weight             0\n",
       "favorite_number    0\n",
       "dtype: int64"
      ]
     },
     "execution_count": 19,
     "metadata": {},
     "output_type": "execute_result"
    }
   ],
   "source": [
    "df.isnull().sum()"
   ]
  }
 ],
 "metadata": {
  "kernelspec": {
   "display_name": "Python 3",
   "language": "python",
   "name": "python3"
  },
  "language_info": {
   "codemirror_mode": {
    "name": "ipython",
    "version": 3
   },
   "file_extension": ".py",
   "mimetype": "text/x-python",
   "name": "python",
   "nbconvert_exporter": "python",
   "pygments_lexer": "ipython3",
   "version": "3.7.3"
  }
 },
 "nbformat": 4,
 "nbformat_minor": 2
}
