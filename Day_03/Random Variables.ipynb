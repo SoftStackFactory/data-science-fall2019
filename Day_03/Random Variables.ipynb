{
 "cells": [
  {
   "cell_type": "markdown",
   "metadata": {},
   "source": [
    "### Random Variables\n",
    "    \n",
    "A variable whose value is subject to variations due to chance. A random variable can take on a set of possible different values. A Coin flip for example, can be Heads OR Tails, each with an associated probability of 0.50\n",
    "\n",
    "More technically, random numbers are numbers that occur in a sequence such that two conditions are met:\n",
    "- The values are uniformly distributed over a defined interval or set\n",
    "- It is impossible to predict future values based on past or present ones\n",
    " \n",
    "#### Types\n",
    "\n",
    "- **Discrete Random Variables**: a variable is a variable which can only take a countable number of values\n",
    "    - Eg: Genders of people buying shoes\n",
    "- **Continuous Random Variables**: a random variable where the data can take infinitely many values.\n",
    "    - Eg: Shoe Sales for the year\n",
    "    \n",
    "#### Generating Random numbers "
   ]
  },
  {
   "cell_type": "code",
   "execution_count": 1,
   "metadata": {},
   "outputs": [
    {
     "name": "stdout",
     "output_type": "stream",
     "text": [
      "Random float 0.8523594193946132\n",
      "Another random float 0.2742003381729776\n"
     ]
    }
   ],
   "source": [
    "# Import Numpy to use a function to produce random numbers\n",
    "import numpy as np\n",
    "\n",
    "print(\"Random float\", np.random.rand())\n",
    "print(\"Another random float\", np.random.rand())"
   ]
  },
  {
   "cell_type": "markdown",
   "metadata": {},
   "source": [
    "If you were to re-run the same code we will see that we will not have the same results, unless we implement seeds"
   ]
  },
  {
   "cell_type": "code",
   "execution_count": 2,
   "metadata": {},
   "outputs": [
    {
     "name": "stdout",
     "output_type": "stream",
     "text": [
      "Random float 0.015532237396625348\n",
      "Another random float 0.28103643499743514\n"
     ]
    }
   ],
   "source": [
    "print(\"Random float\", np.random.rand())\n",
    "print(\"Another random float\", np.random.rand())"
   ]
  },
  {
   "cell_type": "markdown",
   "metadata": {},
   "source": [
    "#### Seeds \n",
    "\n",
    "Computers create psuedo-random numbers, these numbers are generated using some kind of mathematical formula, starting from a random seed. This being said we can set a seed value before generating random numbers, which will allow us to replicate results. This will allow us to re-run experiments with the same results, which can be beneficial to altering the experiment to get more accurate results."
   ]
  },
  {
   "cell_type": "code",
   "execution_count": 3,
   "metadata": {},
   "outputs": [
    {
     "name": "stdout",
     "output_type": "stream",
     "text": [
      "Random float 0.6964691855978616\n",
      "Another Random float 0.28613933495037946\n"
     ]
    }
   ],
   "source": [
    "# Set Seed \n",
    "np.random.seed(123)\n",
    "print(\"Random float\", np.random.rand())\n",
    "print(\"Another Random float\", np.random.rand())"
   ]
  },
  {
   "cell_type": "markdown",
   "metadata": {},
   "source": [
    "If we reset the seed back to 123 and call rand twice more, we will get the exact same random numbers. "
   ]
  },
  {
   "cell_type": "code",
   "execution_count": 5,
   "metadata": {},
   "outputs": [
    {
     "name": "stdout",
     "output_type": "stream",
     "text": [
      "Random float 0.6964691855978616\n",
      "Another Random float 0.28613933495037946\n"
     ]
    }
   ],
   "source": [
    "# Set Seed\n",
    "np.random.seed(123)\n",
    "print(\"Random float\", np.random.rand())\n",
    "print(\"Another Random float\", np.random.rand())"
   ]
  }
 ],
 "metadata": {
  "kernelspec": {
   "display_name": "Python 3",
   "language": "python",
   "name": "python3"
  },
  "language_info": {
   "codemirror_mode": {
    "name": "ipython",
    "version": 3
   },
   "file_extension": ".py",
   "mimetype": "text/x-python",
   "name": "python",
   "nbconvert_exporter": "python",
   "pygments_lexer": "ipython3",
   "version": "3.7.3"
  }
 },
 "nbformat": 4,
 "nbformat_minor": 2
}
