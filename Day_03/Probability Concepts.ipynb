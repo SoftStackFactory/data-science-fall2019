{
 "cells": [
  {
   "cell_type": "markdown",
   "metadata": {},
   "source": [
    "## Probability Concepts\n",
    "\n",
    "### Random Variables\n",
    "    \n",
    "A variable whose value is subject to variations due to chance. A random variable can take on a set of possible different values. A Coin flip for example, can be Heads OR Tails, each with an associated probability of 0.50\n",
    "\n",
    "More technically, random numbers are numbers that occur in a sequence such that two conditions are met:\n",
    "- The values are uniformly distributed over a defined interval or set\n",
    "- It is impossible to predict future values based on past or present ones\n",
    " \n",
    "#### Types\n",
    "\n",
    "- **Discrete Random Variables**: a variable is a variable which can only take a countable number of values\n",
    "    - Eg: Genders of people buying shoes\n",
    "- **Continuous Random Variables**: a random variable where the data can take infinitely many values.\n",
    "    - Eg: Shoe Sales for the year\n",
    "    "
   ]
  },
  {
   "cell_type": "markdown",
   "metadata": {},
   "source": [
    "\n",
    "\n",
    "<hr> \n",
    "\n",
    "### Probability\n",
    "\n",
    "Probability is a mathematical way of calculating how likely an event is to occur. \n",
    "As a number, probability is from 0 (impossible) to 1 (certain).\n",
    "\n",
    "#### Events\n",
    "\n",
    "An event is a result of an experiment or activity that might include such things as flipping a coin, rolling a die or picking a card from a deck. More technically, an event is one (or more) outcomes of an experiment.\n",
    "\n",
    "In general we can use the following formula to find out how many outcomes an experiment can have:\n",
    "\n",
    "```number_of_outcomes = number_of_unique_values ^ number_of_trials```\n",
    "\n",
    "\n",
    "For example flipping one coin has two possible outcomes:\n",
    "\n",
    "One Coin: 2 ^ 1 = 2 = 2\n",
    "\n",
    "1. **H**\n",
    "2. **T**\n",
    "\n",
    "For example flipping two coins has 4 possible outcomes:\n",
    "\n",
    "Two Coins: 2 ^ 2 =  2 * 2 = 4\n",
    "\n",
    "1. **HH**\n",
    "2. **HT**\n",
    "3. **TH**\n",
    "4. **TT**\n",
    "\n",
    "#### Formula For Calculating A probability Of A Particular Event Happening: \n",
    "\n",
    "```p(event you want the probability of) = number_of_favorable_outcomes / total_number_of_outcomes```\n",
    "\n",
    "For example:\n",
    "```p(rolling a two on a single die) = 1 / 6```\n",
    "\n",
    "\n",
    "<hr> \n",
    "\n",
    "### Standard Error\n",
    "\n",
    "Is the measure of how far the estimate to be off, on average. More technically, it is the standard deviation of the sampling distribution of a statistic (mostly the mean). Please do not confuse it with standard deviation. Standard deviation is a measure of the variability of the observed quantity. Standard error, on the other hand, describes variability of the estimate.\n",
    "\n",
    "<hr>\n",
    "\n",
    "### Expected Value \n",
    "\n",
    "The expected value of a discrete random variable is the sum of the possible outdcomes weitghted by their probability. \n",
    "\n",
    "The expected value (EV) is an anticipated expected value of an outcome. By calculating expected values, investors can choose the scenario most likely to give the desired outcome.\n",
    "\n",
    "Formula: \n",
    "![Expected Value Formula](./assets/expected-value-formula.png)\n",
    "\n",
    "Coin Flip Example:\n",
    "![Expected Value Formula Example](./assets/expected-value-formula-example.png)\n",
    "\n",
    "Expected Value of a coin toss: ```EV(Heads) = 0*(0.5) + 1*(0.5) = 0.5```\n",
    "\n",
    "<hr>\n",
    "\n",
    "### Central Tendency\n",
    "\n",
    "The central tendency of a distribution is eqiuvalent to the average value of the distribution, howerver, there are many ways to define this central tendency. The two most common are `mean` and `median`, Another would be the `mode` (much less common)\n",
    "\n",
    "- The **mean** is calculated by finding the sum of all numbers in a distribution and dividing by the total number of items in said distribution. \n",
    "\n",
    "- The **median** is calculated by finding the middle value of the distribution when sorted in order from least to greatest. This can vary depending on if there are an even or odd amount of vaules in the distribution. \n",
    "\n",
    "**Note:** If the dataset has some outliers, performing the mean operation could be unaccurate, in this case make sure to compare to the median for more accurate results. To learn more check out this [link](https://statisticsbyjim.com/basics/measures-central-tendency-mean-median-mode/).\n",
    "\n",
    "<hr>\n",
    "\n",
    "### Variance\n",
    "\n",
    "Variance is a measure of dispersion. It measures how far a data set is spread out. \n",
    "\n",
    "It's the expected value of the squared deviation from its expected value. \n",
    "\n",
    "![Variance formula](./assets/variance-formula.png)\n",
    "\n",
    "**Note:** Another way to find the variance is defined as the average of the squared differences from the mean.\n",
    "\n",
    "### References\n",
    "- [Expected value, mean, and variance](https://campus.datacamp.com/courses/foundations-of-probability-in-python/lets-start-flipping-coins?ex=8)"
   ]
  },
  {
   "cell_type": "markdown",
   "metadata": {},
   "source": [
    "<hr>\n",
    "\n",
    "### Distributions\n",
    "\n",
    "#### Distribution: \n",
    "    \n",
    "The distribution of a statistical data set (or a population) is a listing or function showing all the possible values (or intervals) of the data and how often they occur.\n",
    "\n",
    "The frequency of occurrence or the natural geographic range or place where any item or category of items occurs. \n",
    "\n",
    "\n",
    "# Binomial Distributions\n",
    "\n",
    "A Binomial Distribution can be thought of as simply the probability of a SUCCESS or FAILURE outcome in an experiment or survey that is repeated multiple times. \n",
    "\n",
    "The binomial is a type of distribution that has two possible outcomes (the prefix “bi” means two, or twice). \n",
    "\n",
    "For example, a coin toss has only two possible outcomes: heads or tails and taking a test could have two possible outcomes: pass or fail.\n",
    "\n",
    "#### Binomial Probabilities Formula:\n",
    "- n = Number of trials\n",
    "- x = Number of successes among n trials\n",
    "- p = Probability of success in any one trial\n",
    "\n",
    "![Binomial Probabilities Formula](https://phhp-faculty-cantrell.sites.medinfo.ufl.edu/files/2013/02/mod8-binomform.png)\n",
    "\n",
    "#### Bernoulli Distributions\n",
    "\n",
    "A Bernoulli distribution has only two possible outcomes, namely 1 (success) and 0 (failure), and a single trial.\n",
    "\n",
    "So the random variable X which has a Bernoulli distribution can take value 1 with the probability of success, say p, and the value 0 with the probability of failure, say q or 1-p."
   ]
  },
  {
   "cell_type": "markdown",
   "metadata": {},
   "source": [
    "##### Binomial Distribution Example (Probability of rolling 5 tails out of 10 coin flips)\n",
    "\n",
    "\n",
    "This is why in `Hacker stats`, as we increase the number of trials (of 10 coin flips), the frequency of trials where we have 5 Tails approaches ~2500"
   ]
  },
  {
   "cell_type": "code",
   "execution_count": 1,
   "metadata": {},
   "outputs": [],
   "source": [
    "# Import libraries\n",
    "from math import factorial as factorial\n",
    "\n",
    "def binomial_probability (N, x, p):\n",
    "    \"\"\"\n",
    "        Info:\n",
    "            This is the Binomial Probabilities Formula\n",
    "        Params:\n",
    "            N (type: int) Number of trials\n",
    "            x (type: int) Number of successes among n trials\n",
    "            p (type: float) Probability of success in any one trial\n",
    "        Output:\n",
    "            type: float\n",
    "    \"\"\"\n",
    "    \n",
    "    factorial_result = factorial(N)/(factorial(x)*factorial(N-x))\n",
    "    probability = (p**x)*(p**(N-x))\n",
    "    \n",
    "    return factorial_result * probability"
   ]
  },
  {
   "cell_type": "code",
   "execution_count": 2,
   "metadata": {},
   "outputs": [
    {
     "name": "stdout",
     "output_type": "stream",
     "text": [
      "10 Flips, 0 Tails: 0.00098\n",
      "10 Flips, 1 Tails: 0.00977\n",
      "10 Flips, 2 Tails: 0.04395\n",
      "10 Flips, 3 Tails: 0.11719\n",
      "10 Flips, 4 Tails: 0.20508\n",
      "10 Flips, 5 Tails: 0.24609\n",
      "10 Flips, 6 Tails: 0.20508\n",
      "10 Flips, 7 Tails: 0.11719\n",
      "10 Flips, 8 Tails: 0.04395\n",
      "10 Flips, 9 Tails: 0.00977\n",
      "10 Flips, 10 Tails: 0.00098\n"
     ]
    }
   ],
   "source": [
    "# Loop thru 10 flips\n",
    "for x in range(11):\n",
    "    print(\"10 Flips,\", x, \"Tails:\", round(binomial_probability(N=10, x=x, p=0.5), ndigits=5))"
   ]
  },
  {
   "cell_type": "markdown",
   "metadata": {},
   "source": [
    "##### Bernoulli Distribution Example"
   ]
  },
  {
   "cell_type": "code",
   "execution_count": 3,
   "metadata": {},
   "outputs": [
    {
     "data": {
      "text/plain": [
       "[Text(0, 0.5, 'Frequency'), Text(0.5, 0, 'Bernoulli')]"
      ]
     },
     "execution_count": 3,
     "metadata": {},
     "output_type": "execute_result"
    }
   ],
   "source": [
    "# Import Libraries\n",
    "from scipy.stats import bernoulli\n",
    "import seaborn as sns\n",
    "\n",
    "\n",
    "# Generate random numbers from N(0,1)\n",
    "data_bern = bernoulli.rvs(size=10000,p=0.3)\n",
    "\n",
    "# Plot distribution\n",
    "ax= sns.distplot(data_bern,\n",
    "                 bins=2,\n",
    "                 kde=False,\n",
    "                 color=\"skyblue\",\n",
    "                 hist_kws={\"linewidth\": 15,'alpha':1})\n",
    "\n",
    "ax.set(xlabel='Bernoulli', ylabel='Frequency')"
   ]
  },
  {
   "cell_type": "markdown",
   "metadata": {},
   "source": [
    "# Normal Distributions (Bell Curve)\n",
    "\n",
    "A normal distribution is a distribution that resembles a bell (hence the nickname). The bell curve is symmetrical. Half of the data will fall to the left of the mean, half will fall to the right.\n",
    "\n",
    "<br>\n",
    "\n",
    "![Normal Distribution](assets/normal_distributions.gif)\n",
    "\n",
    "<br>\n",
    "\n",
    "Properties of a normal distribution:\n",
    "- The mean, mode and median are all equal.\n",
    "- The curve is symmetric at the center (i.e. around the mean, μ).\n",
    "- Exactly half of the values are to the left of center and exactly half the values are to the right.\n",
    "- The total area under the curve is 1\n",
    "\n",
    "Resources:\n",
    "- [DataCamp Video - Normal Distributions](https://campus.datacamp.com/courses/foundations-of-probability-in-python/important-probability-distributions?ex=1)"
   ]
  },
  {
   "cell_type": "markdown",
   "metadata": {},
   "source": [
    "##### Normal Distribution Example"
   ]
  },
  {
   "cell_type": "code",
   "execution_count": 4,
   "metadata": {},
   "outputs": [
    {
     "data": {
      "text/plain": [
       "[Text(0, 0.5, 'Frequency'), Text(0.5, 0, 'Normal')]"
      ]
     },
     "execution_count": 4,
     "metadata": {},
     "output_type": "execute_result"
    },
    {
     "data": {
      "image/png": "[encoded data removed]",
      "text/plain": [
       "<Figure size 432x288 with 1 Axes>"
      ]
     },
     "metadata": {
      "needs_background": "light"
     },
     "output_type": "display_data"
    }
   ],
   "source": [
    "# Import Libraries\n",
    "from scipy.stats import norm\n",
    "import seaborn as sns\n",
    "\n",
    "\n",
    "# Generate random numbers from N(0,1)\n",
    "data_normal = norm.rvs(size=10000,loc=0,scale=1)\n",
    "\n",
    "# Plot distribution\n",
    "ax = sns.distplot(data_normal,\n",
    "                  bins=100,\n",
    "                  kde=False,\n",
    "                  color='skyblue',\n",
    "                  hist_kws={\"linewidth\": 15,'alpha':1})\n",
    "\n",
    "ax.set(xlabel='Normal', ylabel='Frequency')"
   ]
  },
  {
   "cell_type": "markdown",
   "metadata": {},
   "source": [
    "# Other Distribution Types\n",
    "\n",
    "- Uniform\n",
    "- Poisson\n",
    "- Negative Binomial"
   ]
  },
  {
   "cell_type": "markdown",
   "metadata": {},
   "source": [
    "### Uniform\n",
    "\n",
    "A uniform distribution, also called a rectangular distribution, is a probability distribution that has constant probability.\n",
    "\n",
    "This distribution is defined by two parameters, a and b:\n",
    "- a is the minimum\n",
    "- b is the maximum\n",
    "\n",
    "###### Uniform Example"
   ]
  },
  {
   "cell_type": "code",
   "execution_count": 5,
   "metadata": {},
   "outputs": [
    {
     "data": {
      "text/plain": [
       "[Text(0, 0.5, 'Frequency'), Text(0.5, 0, 'Uniform ')]"
      ]
     },
     "execution_count": 5,
     "metadata": {},
     "output_type": "execute_result"
    },
    {
     "data": {
      "image/png": "[encoded data removed]",
      "text/plain": [
       "<Figure size 432x288 with 1 Axes>"
      ]
     },
     "metadata": {
      "needs_background": "light"
     },
     "output_type": "display_data"
    }
   ],
   "source": [
    "# Import Libraries\n",
    "from scipy.stats import uniform\n",
    "\n",
    "\n",
    "# random numbers from uniform distribution\n",
    "# Generate 10 numbers from 0 to 10\n",
    "n = 10000\n",
    "a = 0\n",
    "b = 10\n",
    "data_uniform = uniform.rvs(size=n, loc = a, scale=b)\n",
    "\n",
    "# Plot\n",
    "ax = sns.distplot(data_uniform,\n",
    "                  bins=100,\n",
    "                  kde=False,\n",
    "                  color='skyblue',\n",
    "                  hist_kws={\"linewidth\": 15,'alpha':1})\n",
    "\n",
    "ax.set(xlabel='Uniform ', ylabel='Frequency')"
   ]
  },
  {
   "cell_type": "markdown",
   "metadata": {},
   "source": [
    "### Poisson\n",
    "\n",
    "- Poisson random variable is typically used to model the number of times an event happened in a time interval. \n",
    "- For example, number of users visited your website in an interval can be thought of a Poisson process. \n",
    "- Poisson distribution is described in terms of the rate (mu) at which the events happen. \n",
    "- We can generate Poisson random variables in Python using poisson.rvs\n",
    "\n",
    "###### Poisson Example\n",
    "Generate 10000 random numbers from Poisson random variable with mu = 0.3 and plot them"
   ]
  },
  {
   "cell_type": "code",
   "execution_count": 6,
   "metadata": {},
   "outputs": [
    {
     "data": {
      "text/plain": [
       "[Text(0, 0.5, 'Frequency'), Text(0.5, 0, 'Poisson')]"
      ]
     },
     "execution_count": 6,
     "metadata": {},
     "output_type": "execute_result"
    },
    {
     "data": {
      "image/png": "[encoded data removed]",
      "text/plain": [
       "<Figure size 432x288 with 1 Axes>"
      ]
     },
     "metadata": {
      "needs_background": "light"
     },
     "output_type": "display_data"
    }
   ],
   "source": [
    "# Import Libraries\n",
    "from scipy.stats import poisson\n",
    "\n",
    "\n",
    "data_poisson = poisson.rvs(mu=3, size=10000)\n",
    "\n",
    "ax = sns.distplot(data_poisson,\n",
    "                  kde=False,\n",
    "                  color='green',\n",
    "                  hist_kws={\"linewidth\": 15,'alpha':1})\n",
    "\n",
    "ax.set(xlabel='Poisson', ylabel='Frequency')"
   ]
  },
  {
   "cell_type": "markdown",
   "metadata": {},
   "source": [
    "### Negative Binomial\n",
    "\n",
    "A negative binomial distribution (also called the Pascal Distribution) is a discrete probability distribution for random variables in a negative binomial experiment.\n",
    "\n",
    "##### Negative Binomial Example"
   ]
  },
  {
   "cell_type": "code",
   "execution_count": 7,
   "metadata": {},
   "outputs": [
    {
     "data": {
      "text/plain": [
       "[Text(0, 0.5, 'Frequency'), Text(0.5, 0, 'Negative Binomial')]"
      ]
     },
     "execution_count": 7,
     "metadata": {},
     "output_type": "execute_result"
    },
    {
     "data": {
      "image/png": "[encoded data removed]",
      "text/plain": [
       "<Figure size 432x288 with 1 Axes>"
      ]
     },
     "metadata": {
      "needs_background": "light"
     },
     "output_type": "display_data"
    }
   ],
   "source": [
    "# Import Libraries\n",
    "from scipy.stats import nbinom\n",
    "\n",
    "\n",
    "data_nbinom = nbinom.rvs(10, 0.5, size=10000)\n",
    "\n",
    "ax = sns.distplot(data_nbinom,\n",
    "                  kde=False,\n",
    "                  color='skyblue',\n",
    "                  hist_kws={\"linewidth\": 15,'alpha':1})\n",
    "\n",
    "ax.set(xlabel='Negative Binomial', ylabel='Frequency')"
   ]
  },
  {
   "cell_type": "markdown",
   "metadata": {},
   "source": [
    "# Continuous vs Discrete Distributions\n",
    "\n",
    "- Probability and Cumulative Density Functions (PDF, CDF) and Plots\n",
    "- Probability and Cumulative Mass Functions (PMF, CMF) and Plots\n",
    "- Datacamp Link to Probability Mass and Distributions\n",
    "- ECDF \n",
    "- ECDF Exercise Reference"
   ]
  },
  {
   "cell_type": "markdown",
   "metadata": {},
   "source": [
    "##### Probability Density Function Example"
   ]
  },
  {
   "cell_type": "code",
   "execution_count": 8,
   "metadata": {},
   "outputs": [
    {
     "data": {
      "text/plain": [
       "[<matplotlib.lines.Line2D at 0x7f93d9359d68>]"
      ]
     },
     "execution_count": 8,
     "metadata": {},
     "output_type": "execute_result"
    },
    {
     "data": {
      "image/png": "[encoded data removed]",
      "text/plain": [
       "<Figure size 432x288 with 1 Axes>"
      ]
     },
     "metadata": {
      "needs_background": "light"
     },
     "output_type": "display_data"
    }
   ],
   "source": [
    "# Import Libraries\n",
    "from scipy import stats\n",
    "import numpy as np\n",
    "import matplotlib.pyplot as plt\n",
    "\n",
    "\n",
    "samples = np.random.normal(size=1000)\n",
    "bins = np.arange(-4, 5)\n",
    "\n",
    "histogram = np.histogram(samples, bins=bins)[0]\n",
    "bins = 0.5*(bins[1:] + bins[:-1])\n",
    "\n",
    "pdf = stats.norm.pdf(bins)  # norm is a distribution object\n",
    "\n",
    "plt.plot(bins, histogram) \n",
    "plt.plot(bins, pdf) "
   ]
  },
  {
   "cell_type": "code",
   "execution_count": null,
   "metadata": {},
   "outputs": [],
   "source": []
  }
 ],
 "metadata": {
  "kernelspec": {
   "display_name": "Python 3",
   "language": "python",
   "name": "python3"
  },
  "language_info": {
   "codemirror_mode": {
    "name": "ipython",
    "version": 3
   },
   "file_extension": ".py",
   "mimetype": "text/x-python",
   "name": "python",
   "nbconvert_exporter": "python",
   "pygments_lexer": "ipython3",
   "version": "3.7.3"
  }
 },
 "nbformat": 4,
 "nbformat_minor": 2
}
