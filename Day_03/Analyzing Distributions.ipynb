{
 "cells": [
  {
   "cell_type": "markdown",
   "metadata": {},
   "source": [
    "# Analyzing Distributions of Numbers\n",
    "\n",
    "### Types of Distributions\n",
    "Below are just a few of the types of distributions that you will encounter as you begin to analyze sets of data. Play close attention to the data type that each distribution is discribing, as there are different analyses available, for each type. All examples are present in the Titanic Dataset!\n",
    "\n",
    "- **Continuous**: The Numbers in dist can take on any value accross a certain range. \n",
    "    - Examples\n",
    "    - `Fare`:`[8.50, 9.33, 7.15,...]`\n",
    "    - `Age`:`[1,4,43,21,22,...]`\n",
    "    - ...\n",
    "\n",
    "\n",
    "- **Categorical**: A *countable* set of categories\n",
    "    - Examples\n",
    "    - `Embarked`:`['S', 'S', 'Q', ...]`\n",
    "    - `Cabin`:`['C85', 'C123', 'E46', ...]`\n",
    "    - `building material`:`['wood', 'brick', 'hay'....]`\n",
    "    - ...\n",
    "    \n",
    "    \n",
    "- **Binary**: A choice between one value or another\n",
    "    -Examples\n",
    "    - `Survived`:`[1, 0, 0, 1, 0, 1, 0, ...]`\n",
    "    - `Gender` : `['M', 'F', 'F', 'M', ...]`\n",
    "    - ...\n",
    "   \n",
    "   \n",
    "- **Ordinal**: A mix between both above. Numbers that can be infered as categories\n",
    "    - Examples\n",
    "    - `Pclass`:`[3,2,1]`\n",
    "    - ...\n",
    "    \n",
    "   \n",
    "- **Unique** Usually some unique identifier for each row, could be an index of some sort.\n",
    "    - Examples\n",
    "    - `PassengerId`:`[1,2,3,4,5,...]`\n",
    "    - `Ticket` : `['PC 17599' , '347082', ...]`"
   ]
  },
  {
   "cell_type": "markdown",
   "metadata": {},
   "source": [
    "##### Import Libraries"
   ]
  },
  {
   "cell_type": "code",
   "execution_count": 1,
   "metadata": {
    "pycharm": {
     "is_executing": false
    }
   },
   "outputs": [],
   "source": [
    "import numpy as np\n",
    "import pandas as pd"
   ]
  },
  {
   "cell_type": "markdown",
   "metadata": {},
   "source": [
    "##### Load Data\n",
    "\n",
    "We will be using a partially cleaned version of the titanic dataset, this is actually a file that you will produce later on in the course as we get into week 3 where we will cover data cleaning."
   ]
  },
  {
   "cell_type": "code",
   "execution_count": 2,
   "metadata": {},
   "outputs": [],
   "source": [
    "df = pd.read_csv('assets/titanic_cleaned.csv')"
   ]
  },
  {
   "cell_type": "markdown",
   "metadata": {},
   "source": [
    "##### Look at the different columns at our disposal and their dtype"
   ]
  },
  {
   "cell_type": "code",
   "execution_count": 3,
   "metadata": {},
   "outputs": [
    {
     "data": {
      "text/plain": [
       "PassengerId      int64\n",
       "Survived         int64\n",
       "Pclass           int64\n",
       "Name            object\n",
       "Gender          object\n",
       "Age            float64\n",
       "SibSp            int64\n",
       "ParCh            int64\n",
       "Ticket          object\n",
       "Fare           float64\n",
       "Cabin           object\n",
       "Embarked        object\n",
       "Title           object\n",
       "dtype: object"
      ]
     },
     "execution_count": 3,
     "metadata": {},
     "output_type": "execute_result"
    }
   ],
   "source": [
    "df.dtypes"
   ]
  },
  {
   "cell_type": "markdown",
   "metadata": {},
   "source": [
    "##### Examine some distributions here with describe method"
   ]
  },
  {
   "cell_type": "code",
   "execution_count": 4,
   "metadata": {},
   "outputs": [
    {
     "data": {
      "text/html": [
       "<div>\n",
       "<style scoped>\n",
       "    .dataframe tbody tr th:only-of-type {\n",
       "        vertical-align: middle;\n",
       "    }\n",
       "\n",
       "    .dataframe tbody tr th {\n",
       "        vertical-align: top;\n",
       "    }\n",
       "\n",
       "    .dataframe thead th {\n",
       "        text-align: right;\n",
       "    }\n",
       "</style>\n",
       "<table border=\"1\" class=\"dataframe\">\n",
       "  <thead>\n",
       "    <tr style=\"text-align: right;\">\n",
       "      <th></th>\n",
       "      <th>PassengerId</th>\n",
       "      <th>Survived</th>\n",
       "      <th>Pclass</th>\n",
       "      <th>Age</th>\n",
       "      <th>SibSp</th>\n",
       "      <th>ParCh</th>\n",
       "      <th>Fare</th>\n",
       "    </tr>\n",
       "  </thead>\n",
       "  <tbody>\n",
       "    <tr>\n",
       "      <td>count</td>\n",
       "      <td>891.000000</td>\n",
       "      <td>891.000000</td>\n",
       "      <td>891.000000</td>\n",
       "      <td>891.000000</td>\n",
       "      <td>891.000000</td>\n",
       "      <td>891.000000</td>\n",
       "      <td>891.000000</td>\n",
       "    </tr>\n",
       "    <tr>\n",
       "      <td>mean</td>\n",
       "      <td>446.000000</td>\n",
       "      <td>0.383838</td>\n",
       "      <td>2.308642</td>\n",
       "      <td>29.841942</td>\n",
       "      <td>0.523008</td>\n",
       "      <td>0.381594</td>\n",
       "      <td>32.204208</td>\n",
       "    </tr>\n",
       "    <tr>\n",
       "      <td>std</td>\n",
       "      <td>257.353842</td>\n",
       "      <td>0.486592</td>\n",
       "      <td>0.836071</td>\n",
       "      <td>13.281525</td>\n",
       "      <td>1.102743</td>\n",
       "      <td>0.806057</td>\n",
       "      <td>49.693429</td>\n",
       "    </tr>\n",
       "    <tr>\n",
       "      <td>min</td>\n",
       "      <td>1.000000</td>\n",
       "      <td>0.000000</td>\n",
       "      <td>1.000000</td>\n",
       "      <td>0.420000</td>\n",
       "      <td>0.000000</td>\n",
       "      <td>0.000000</td>\n",
       "      <td>0.000000</td>\n",
       "    </tr>\n",
       "    <tr>\n",
       "      <td>25%</td>\n",
       "      <td>223.500000</td>\n",
       "      <td>0.000000</td>\n",
       "      <td>2.000000</td>\n",
       "      <td>22.000000</td>\n",
       "      <td>0.000000</td>\n",
       "      <td>0.000000</td>\n",
       "      <td>7.910400</td>\n",
       "    </tr>\n",
       "    <tr>\n",
       "      <td>50%</td>\n",
       "      <td>446.000000</td>\n",
       "      <td>0.000000</td>\n",
       "      <td>3.000000</td>\n",
       "      <td>30.000000</td>\n",
       "      <td>0.000000</td>\n",
       "      <td>0.000000</td>\n",
       "      <td>14.454200</td>\n",
       "    </tr>\n",
       "    <tr>\n",
       "      <td>75%</td>\n",
       "      <td>668.500000</td>\n",
       "      <td>1.000000</td>\n",
       "      <td>3.000000</td>\n",
       "      <td>36.000000</td>\n",
       "      <td>1.000000</td>\n",
       "      <td>0.000000</td>\n",
       "      <td>31.000000</td>\n",
       "    </tr>\n",
       "    <tr>\n",
       "      <td>max</td>\n",
       "      <td>891.000000</td>\n",
       "      <td>1.000000</td>\n",
       "      <td>3.000000</td>\n",
       "      <td>80.000000</td>\n",
       "      <td>8.000000</td>\n",
       "      <td>6.000000</td>\n",
       "      <td>512.329200</td>\n",
       "    </tr>\n",
       "  </tbody>\n",
       "</table>\n",
       "</div>"
      ],
      "text/plain": [
       "       PassengerId    Survived      Pclass         Age       SibSp  \\\n",
       "count   891.000000  891.000000  891.000000  891.000000  891.000000   \n",
       "mean    446.000000    0.383838    2.308642   29.841942    0.523008   \n",
       "std     257.353842    0.486592    0.836071   13.281525    1.102743   \n",
       "min       1.000000    0.000000    1.000000    0.420000    0.000000   \n",
       "25%     223.500000    0.000000    2.000000   22.000000    0.000000   \n",
       "50%     446.000000    0.000000    3.000000   30.000000    0.000000   \n",
       "75%     668.500000    1.000000    3.000000   36.000000    1.000000   \n",
       "max     891.000000    1.000000    3.000000   80.000000    8.000000   \n",
       "\n",
       "            ParCh        Fare  \n",
       "count  891.000000  891.000000  \n",
       "mean     0.381594   32.204208  \n",
       "std      0.806057   49.693429  \n",
       "min      0.000000    0.000000  \n",
       "25%      0.000000    7.910400  \n",
       "50%      0.000000   14.454200  \n",
       "75%      0.000000   31.000000  \n",
       "max      6.000000  512.329200  "
      ]
     },
     "execution_count": 4,
     "metadata": {},
     "output_type": "execute_result"
    }
   ],
   "source": [
    "df.describe()"
   ]
  },
  {
   "cell_type": "markdown",
   "metadata": {},
   "source": [
    "# Detour: Central Tendency - Mean vs Median\n",
    "\n",
    "Before we continue with the Titanic Dataset, lets first discuss a fundamental concept in Statistics called `Central Tendency`. The central tendency of a distribution is eqiuvalent to the average value of the distribution, howerver, there are many ways to define this central tendency. The two most common are `mean` and `median`, Another would be the `mode` (much less common)\n",
    "\n",
    "- The **mean** is calculated by finding the sum of all numbers in a distribution and dividing by the total number of items in said distribution. \n",
    "\n",
    "- The **median** is calculated by finding the middle value of the distribution when sorted in order from least to greatest. This can vary depending on if there are an even or odd amount of vaules in the distribution. \n",
    "\n",
    "For our purposes, calculating the `mean` or `median` will be as easy as calling either the `numpy` `mean`/`median` functions or the `pandas` variations, on the appropriate set of data ofourse."
   ]
  },
  {
   "cell_type": "markdown",
   "metadata": {},
   "source": [
    "##### Calculating Central Tendency\n",
    "\n",
    "Calculating GPA is a really common example of calculating a central tendency of a distribution, In this case the distribution are the number values for each grade, where an A is a 4, B is a 3, and so on..."
   ]
  },
  {
   "cell_type": "code",
   "execution_count": 5,
   "metadata": {},
   "outputs": [
    {
     "name": "stdout",
     "output_type": "stream",
     "text": [
      "My GPA was great this year! I got a 3.5!\n"
     ]
    }
   ],
   "source": [
    "my_grades = [3,4,4,4,3,3]\n",
    "\n",
    "gpa = np.mean(my_grades)\n",
    "\n",
    "print(\"My GPA was great this year! I got a\", str(gpa) + \"!\")"
   ]
  },
  {
   "cell_type": "markdown",
   "metadata": {},
   "source": [
    "##### Outliers affect Central Tendency\n",
    "\n",
    "An `outlier` is a value that is unllike the rest of the values found in a distribution. Some examples of outliers are a `16lb` baby in a distibution of `baby_birth_weights`, a `10,000,000` home in a distribution of `house_prices`, a `110` year old person in a distibution of `age` for the `san_diego_census`. \n",
    "\n",
    "The main reason we have to contend with `outliers` is that they tend to drag the central tendency of a distribution in their direction, distorting the average and leading to false insight. \n",
    "\n",
    "##### Below we'll see that the `median` is better at handling central tendency in the presence of outliers."
   ]
  },
  {
   "cell_type": "code",
   "execution_count": 6,
   "metadata": {},
   "outputs": [
    {
     "name": "stdout",
     "output_type": "stream",
     "text": [
      "Central Tendency For: [  0   1   2   3   4   5   6   7   8   9  10  34  56 100]\n",
      "----------------\n",
      "mean: 17.5\n",
      "median: 6.5\n"
     ]
    }
   ],
   "source": [
    "some_dist = np.array([0,1,2,3,4,5,6,7,8,9,10,34,56,100])\n",
    "\n",
    "print(\"Central Tendency For:\", some_dist)\n",
    "print(\"----------------\")\n",
    "print(\"mean:\", np.mean(some_dist))\n",
    "print(\"median:\", np.median(some_dist))"
   ]
  },
  {
   "cell_type": "markdown",
   "metadata": {},
   "source": [
    "We can see that the `mean` is severly distorted by the presence of the `100`, the median on the other hand seems much more reasonable"
   ]
  },
  {
   "cell_type": "markdown",
   "metadata": {},
   "source": [
    "# Unique Values in a distribution\n",
    "Knowing what the unique values of a distribution of numbers can simply things greatly! Let's explore the three most relevant pandas functions below."
   ]
  },
  {
   "cell_type": "markdown",
   "metadata": {},
   "source": [
    "#### First lets look at the first 20 values of `Embarked`\n",
    "This doesn't tell us much about the distribution at large, but does give us a quick glance and can definitely be useful. To do this we use the `.head()`, which normally returns 5 examples of a `dataframe` or `series`, but in this case it will give us `20` because we pass in that value as the sole argument."
   ]
  },
  {
   "cell_type": "code",
   "execution_count": 7,
   "metadata": {},
   "outputs": [
    {
     "name": "stdout",
     "output_type": "stream",
     "text": [
      "First 20 values of Embarked:\n"
     ]
    },
    {
     "data": {
      "text/plain": [
       "0     S\n",
       "1     C\n",
       "2     S\n",
       "3     S\n",
       "4     S\n",
       "5     Q\n",
       "6     S\n",
       "7     S\n",
       "8     S\n",
       "9     C\n",
       "10    S\n",
       "11    S\n",
       "12    S\n",
       "13    S\n",
       "14    S\n",
       "15    S\n",
       "16    Q\n",
       "17    S\n",
       "18    S\n",
       "19    C\n",
       "Name: Embarked, dtype: object"
      ]
     },
     "execution_count": 7,
     "metadata": {},
     "output_type": "execute_result"
    }
   ],
   "source": [
    "print(\"First 20 values of Embarked:\")\n",
    "\n",
    "df['Embarked'].head(20)"
   ]
  },
  {
   "cell_type": "markdown",
   "metadata": {},
   "source": [
    "##### df[column].unique()\n",
    "This method will return all unique values in a distribution"
   ]
  },
  {
   "cell_type": "code",
   "execution_count": 8,
   "metadata": {},
   "outputs": [
    {
     "name": "stdout",
     "output_type": "stream",
     "text": [
      "unique values in Embarked:\n"
     ]
    },
    {
     "data": {
      "text/plain": [
       "array(['S', 'C', 'Q'], dtype=object)"
      ]
     },
     "execution_count": 8,
     "metadata": {},
     "output_type": "execute_result"
    }
   ],
   "source": [
    "print(\"unique values in Embarked:\")\n",
    "df['Embarked'].unique()"
   ]
  },
  {
   "cell_type": "markdown",
   "metadata": {},
   "source": [
    "Notice how seeing the unique values simplifies the distribution greatly, as now we know that every value in this distribution can only take on one of 3 values!"
   ]
  },
  {
   "cell_type": "markdown",
   "metadata": {},
   "source": [
    "##### df[column].nunique()\n",
    "\n",
    "In the case when you have many unique values in a categorical distribution, sometimes it is useful to know how many different unique values there are. Ive seen datasets where there were over 20,000 unique values for a degree column. Some people describe their MBA as `M.B.A`, `mba`, `m.b.a`, `Mba`, etc..."
   ]
  },
  {
   "cell_type": "code",
   "execution_count": 9,
   "metadata": {},
   "outputs": [
    {
     "name": "stdout",
     "output_type": "stream",
     "text": [
      "Num Unique Values in Embarked:\n"
     ]
    },
    {
     "data": {
      "text/plain": [
       "3"
      ]
     },
     "execution_count": 9,
     "metadata": {},
     "output_type": "execute_result"
    }
   ],
   "source": [
    "print(\"Num Unique Values in Embarked:\")\n",
    "df['Embarked'].nunique()"
   ]
  },
  {
   "cell_type": "markdown",
   "metadata": {},
   "source": [
    "##### df[column].value_counts()\n",
    "\n",
    "Probably the most useful of the three, this function will return all unique values in a distribution as well as the frequency of each. This one is definitely one to remember!"
   ]
  },
  {
   "cell_type": "code",
   "execution_count": 10,
   "metadata": {},
   "outputs": [
    {
     "name": "stdout",
     "output_type": "stream",
     "text": [
      "Counts for Unique Values in Embarked:\n"
     ]
    },
    {
     "data": {
      "text/plain": [
       "S    646\n",
       "C    168\n",
       "Q     77\n",
       "Name: Embarked, dtype: int64"
      ]
     },
     "execution_count": 10,
     "metadata": {},
     "output_type": "execute_result"
    }
   ],
   "source": [
    "print('Counts for Unique Values in Embarked:')\n",
    "df['Embarked'].value_counts()"
   ]
  },
  {
   "cell_type": "markdown",
   "metadata": {},
   "source": [
    "# 5 Number Summary with `.describe()`\n",
    "`Pandas` has some really useful functions, but few come as close as `.describe()`, this is the very first method that I run when examining a distribution or even an entire dataframe. \n",
    "\n",
    "Earlier, we examined several distributions with the `.describe()` method, however one thing that we did not go over is the fact that the `.describe()` method will also function on an entire dataframe, saving us the trouble of running it on each column, one at a time. \n",
    "\n",
    "However, because there are many types of distributions, the describe method look differently for numerical and categorical distribution. Each \"flavor\" of `.describe()` is described below.\n",
    "\n",
    "##### Numerical - Default\n",
    "Notice how the default behavior of the method only picks out the numerical columns and gives us a breakdown of EACH distribution as before, except we only do 1 method call, instead of 7."
   ]
  },
  {
   "cell_type": "code",
   "execution_count": 11,
   "metadata": {},
   "outputs": [
    {
     "data": {
      "text/html": [
       "<div>\n",
       "<style scoped>\n",
       "    .dataframe tbody tr th:only-of-type {\n",
       "        vertical-align: middle;\n",
       "    }\n",
       "\n",
       "    .dataframe tbody tr th {\n",
       "        vertical-align: top;\n",
       "    }\n",
       "\n",
       "    .dataframe thead th {\n",
       "        text-align: right;\n",
       "    }\n",
       "</style>\n",
       "<table border=\"1\" class=\"dataframe\">\n",
       "  <thead>\n",
       "    <tr style=\"text-align: right;\">\n",
       "      <th></th>\n",
       "      <th>PassengerId</th>\n",
       "      <th>Survived</th>\n",
       "      <th>Pclass</th>\n",
       "      <th>Age</th>\n",
       "      <th>SibSp</th>\n",
       "      <th>ParCh</th>\n",
       "      <th>Fare</th>\n",
       "    </tr>\n",
       "  </thead>\n",
       "  <tbody>\n",
       "    <tr>\n",
       "      <td>count</td>\n",
       "      <td>891.000000</td>\n",
       "      <td>891.000000</td>\n",
       "      <td>891.000000</td>\n",
       "      <td>891.000000</td>\n",
       "      <td>891.000000</td>\n",
       "      <td>891.000000</td>\n",
       "      <td>891.000000</td>\n",
       "    </tr>\n",
       "    <tr>\n",
       "      <td>mean</td>\n",
       "      <td>446.000000</td>\n",
       "      <td>0.383838</td>\n",
       "      <td>2.308642</td>\n",
       "      <td>29.841942</td>\n",
       "      <td>0.523008</td>\n",
       "      <td>0.381594</td>\n",
       "      <td>32.204208</td>\n",
       "    </tr>\n",
       "    <tr>\n",
       "      <td>std</td>\n",
       "      <td>257.353842</td>\n",
       "      <td>0.486592</td>\n",
       "      <td>0.836071</td>\n",
       "      <td>13.281525</td>\n",
       "      <td>1.102743</td>\n",
       "      <td>0.806057</td>\n",
       "      <td>49.693429</td>\n",
       "    </tr>\n",
       "    <tr>\n",
       "      <td>min</td>\n",
       "      <td>1.000000</td>\n",
       "      <td>0.000000</td>\n",
       "      <td>1.000000</td>\n",
       "      <td>0.420000</td>\n",
       "      <td>0.000000</td>\n",
       "      <td>0.000000</td>\n",
       "      <td>0.000000</td>\n",
       "    </tr>\n",
       "    <tr>\n",
       "      <td>25%</td>\n",
       "      <td>223.500000</td>\n",
       "      <td>0.000000</td>\n",
       "      <td>2.000000</td>\n",
       "      <td>22.000000</td>\n",
       "      <td>0.000000</td>\n",
       "      <td>0.000000</td>\n",
       "      <td>7.910400</td>\n",
       "    </tr>\n",
       "    <tr>\n",
       "      <td>50%</td>\n",
       "      <td>446.000000</td>\n",
       "      <td>0.000000</td>\n",
       "      <td>3.000000</td>\n",
       "      <td>30.000000</td>\n",
       "      <td>0.000000</td>\n",
       "      <td>0.000000</td>\n",
       "      <td>14.454200</td>\n",
       "    </tr>\n",
       "    <tr>\n",
       "      <td>75%</td>\n",
       "      <td>668.500000</td>\n",
       "      <td>1.000000</td>\n",
       "      <td>3.000000</td>\n",
       "      <td>36.000000</td>\n",
       "      <td>1.000000</td>\n",
       "      <td>0.000000</td>\n",
       "      <td>31.000000</td>\n",
       "    </tr>\n",
       "    <tr>\n",
       "      <td>max</td>\n",
       "      <td>891.000000</td>\n",
       "      <td>1.000000</td>\n",
       "      <td>3.000000</td>\n",
       "      <td>80.000000</td>\n",
       "      <td>8.000000</td>\n",
       "      <td>6.000000</td>\n",
       "      <td>512.329200</td>\n",
       "    </tr>\n",
       "  </tbody>\n",
       "</table>\n",
       "</div>"
      ],
      "text/plain": [
       "       PassengerId    Survived      Pclass         Age       SibSp  \\\n",
       "count   891.000000  891.000000  891.000000  891.000000  891.000000   \n",
       "mean    446.000000    0.383838    2.308642   29.841942    0.523008   \n",
       "std     257.353842    0.486592    0.836071   13.281525    1.102743   \n",
       "min       1.000000    0.000000    1.000000    0.420000    0.000000   \n",
       "25%     223.500000    0.000000    2.000000   22.000000    0.000000   \n",
       "50%     446.000000    0.000000    3.000000   30.000000    0.000000   \n",
       "75%     668.500000    1.000000    3.000000   36.000000    1.000000   \n",
       "max     891.000000    1.000000    3.000000   80.000000    8.000000   \n",
       "\n",
       "            ParCh        Fare  \n",
       "count  891.000000  891.000000  \n",
       "mean     0.381594   32.204208  \n",
       "std      0.806057   49.693429  \n",
       "min      0.000000    0.000000  \n",
       "25%      0.000000    7.910400  \n",
       "50%      0.000000   14.454200  \n",
       "75%      0.000000   31.000000  \n",
       "max      6.000000  512.329200  "
      ]
     },
     "execution_count": 11,
     "metadata": {},
     "output_type": "execute_result"
    }
   ],
   "source": [
    "df.describe()"
   ]
  },
  {
   "cell_type": "markdown",
   "metadata": {},
   "source": [
    "The numerical flavor gives us a lot of information, In particular:\n",
    "\n",
    "`count` - The number of non-empty or non `Nan` values in the column\n",
    "`mean` - The mean aka basic average\n",
    "`std` - the standard deviation is a measure of spread, specifically —the average distance of each value from the mean.\n",
    "`min` - the smallest value of the distribution\n",
    "`25%` - the value at the 25th percentile, or 1/4th of the way to max\n",
    "`50%` - The median aka middle value\n",
    "`75%` - The value at the 75th percentile, or 3/4th of the way to max\n",
    "`max` - The largest value of the distribution\n",
    "\n",
    "The last 5 values are what is known as a five number summary, which is as simple as organizing data points from smallest to largest and looking at what values appear at each \"checkpoint\".\n",
    "\n",
    "I recommend going column by column to get a better idea of each distribution, this may involve walking away from the dataframe for a second to do some closer examination of a particular column, then moving on to the next."
   ]
  },
  {
   "cell_type": "markdown",
   "metadata": {},
   "source": [
    "# Categorical - custom argument\n",
    "In pandas, categorical data is denoted as `object`, we pass this value in as the argument for the `include` parameter."
   ]
  },
  {
   "cell_type": "code",
   "execution_count": 12,
   "metadata": {},
   "outputs": [
    {
     "data": {
      "text/html": [
       "<div>\n",
       "<style scoped>\n",
       "    .dataframe tbody tr th:only-of-type {\n",
       "        vertical-align: middle;\n",
       "    }\n",
       "\n",
       "    .dataframe tbody tr th {\n",
       "        vertical-align: top;\n",
       "    }\n",
       "\n",
       "    .dataframe thead th {\n",
       "        text-align: right;\n",
       "    }\n",
       "</style>\n",
       "<table border=\"1\" class=\"dataframe\">\n",
       "  <thead>\n",
       "    <tr style=\"text-align: right;\">\n",
       "      <th></th>\n",
       "      <th>Name</th>\n",
       "      <th>Gender</th>\n",
       "      <th>Ticket</th>\n",
       "      <th>Cabin</th>\n",
       "      <th>Embarked</th>\n",
       "      <th>Title</th>\n",
       "    </tr>\n",
       "  </thead>\n",
       "  <tbody>\n",
       "    <tr>\n",
       "      <td>count</td>\n",
       "      <td>891</td>\n",
       "      <td>891</td>\n",
       "      <td>891</td>\n",
       "      <td>204</td>\n",
       "      <td>891</td>\n",
       "      <td>891</td>\n",
       "    </tr>\n",
       "    <tr>\n",
       "      <td>unique</td>\n",
       "      <td>891</td>\n",
       "      <td>2</td>\n",
       "      <td>681</td>\n",
       "      <td>147</td>\n",
       "      <td>3</td>\n",
       "      <td>5</td>\n",
       "    </tr>\n",
       "    <tr>\n",
       "      <td>top</td>\n",
       "      <td>Stoytcheff, Mr. Ilia</td>\n",
       "      <td>male</td>\n",
       "      <td>CA. 2343</td>\n",
       "      <td>C23 C25 C27</td>\n",
       "      <td>S</td>\n",
       "      <td>Mr</td>\n",
       "    </tr>\n",
       "    <tr>\n",
       "      <td>freq</td>\n",
       "      <td>1</td>\n",
       "      <td>577</td>\n",
       "      <td>7</td>\n",
       "      <td>4</td>\n",
       "      <td>646</td>\n",
       "      <td>528</td>\n",
       "    </tr>\n",
       "  </tbody>\n",
       "</table>\n",
       "</div>"
      ],
      "text/plain": [
       "                        Name Gender    Ticket        Cabin Embarked Title\n",
       "count                    891    891       891          204      891   891\n",
       "unique                   891      2       681          147        3     5\n",
       "top     Stoytcheff, Mr. Ilia   male  CA. 2343  C23 C25 C27        S    Mr\n",
       "freq                       1    577         7            4      646   528"
      ]
     },
     "execution_count": 12,
     "metadata": {},
     "output_type": "execute_result"
    }
   ],
   "source": [
    "df.describe(include='object')"
   ]
  },
  {
   "cell_type": "markdown",
   "metadata": {},
   "source": [
    "The \"object\" flavor gives us a good amount information as well\n",
    "\n",
    "`count` - The number of non-empty or non `Nan` values in each column\n",
    "`unique` - The amount of unique categories per column\n",
    "`top` - the most frequent unique value\n",
    "`freq` - the actual frequency for that top value\n",
    "\n",
    "This is much more straightforward than the numerical variety."
   ]
  }
 ],
 "metadata": {
  "kernelspec": {
   "display_name": "Python 3",
   "language": "python",
   "name": "python3"
  },
  "language_info": {
   "codemirror_mode": {
    "name": "ipython",
    "version": 3
   },
   "file_extension": ".py",
   "mimetype": "text/x-python",
   "name": "python",
   "nbconvert_exporter": "python",
   "pygments_lexer": "ipython3",
   "version": "3.7.3"
  }
 },
 "nbformat": 4,
 "nbformat_minor": 2
}