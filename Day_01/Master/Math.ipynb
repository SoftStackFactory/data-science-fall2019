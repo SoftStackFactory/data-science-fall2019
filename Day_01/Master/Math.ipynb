{
 "cells": [
  {
   "cell_type": "markdown",
   "metadata": {},
   "source": [
    "## Math Overview\n",
    "\n",
    "A Python library is a collection of functions and methods that allows you to perform lots of actions without writing your own code.\n",
    "\n",
    "In general, it's good practice to keep all of your library imports at the top of your notebook or program.\n",
    "\n",
    "Lets import the math library to calculate the amount of water that can be carried in a container with a radius of 5cm and a height of 17cm.\n",
    "\n",
    "* The formula for the volume of a cylinder is $V = \\pi r^2 h$"
   ]
  },
  {
   "cell_type": "code",
   "execution_count": 13,
   "metadata": {
    "pycharm": {
     "is_executing": false
    }
   },
   "outputs": [
    {
     "name": "stdout",
     "output_type": "stream",
     "text": [
      "The volume of the cylinder is 1335.18\n"
     ]
    }
   ],
   "source": [
    "# Import libraries\n",
    "import math\n",
    "\n",
    "\n",
    "def volume_of_cylinder(radius, height):\n",
    "    \"\"\"\n",
    "        Purpose:\n",
    "            - This function is to calculate the volume of cylinder\n",
    "\n",
    "        Parameters:\n",
    "            - radius (type int)\n",
    "            - height (type int)\n",
    "\n",
    "        Return:\n",
    "            - volume (type float)\n",
    "    \"\"\"\n",
    "    return math.pi * math.pow(radius, 2) * height\n",
    "\n",
    "volume = volume_of_cylinder(5, 17)\n",
    "\n",
    "print(\"The volume of the cylinder is {0:.2f}\".format(volume))"
   ]
  },
  {
   "cell_type": "markdown",
   "metadata": {},
   "source": [
    "## Math Exercise\n",
    "\n",
    "Now it's your turn! Go to the Python [Math Docs](https://www.programiz.com/python-programming/modules/math) and select one of the following math functions:\n",
    "\n",
    "- Calculate the area of a triangle \n",
    "     - $area = 1/2 * Base * Height$\n",
    "    \n",
    "- Calculate the area of a circle\n",
    "    - $area = \\pi r^2$\n",
    "    \n",
    "- Calculate the length of an unknown side of a right triangle, given two sides that are known\n",
    "    - $Pythagorean$  $Theorem: a^2 + b^2 = c^2$\n",
    "\n",
    "- Calculate the area of a room\n",
    "    - $area$ = $length$ * $width$"
   ]
  },
  {
   "cell_type": "code",
   "execution_count": 26,
   "metadata": {},
   "outputs": [],
   "source": [
    "# Area of a triangle\n",
    "def area_of_triangle(base, height):\n",
    "    \"\"\"\n",
    "        Purpose:\n",
    "            - This function is to calculate the area of a triangle\n",
    "\n",
    "        Parameters:\n",
    "            - base (type float)\n",
    "            - height (type float)\n",
    "\n",
    "        Return:\n",
    "            - area_of_triangle (type float)\n",
    "    \"\"\"\n",
    "    area = (base * height) / 2\n",
    "    print(type(area))\n",
    "    return area\n",
    "\n",
    "\n",
    "# Area of a cirlcle\n",
    "def area_of_circle(radius):\n",
    "    \"\"\"\n",
    "        Purpose:\n",
    "            - This function is to calculate the area of a cirlcle\n",
    "\n",
    "        Parameters:\n",
    "            - radius (type float)\n",
    "\n",
    "        Return:\n",
    "            - area_of_circle (type float)\n",
    "    \"\"\"\n",
    "    area = math.pi * math.pow(radius, 2)\n",
    "    print(type(area))\n",
    "    return area\n",
    "\n",
    "\n",
    "# Pythagorean Theorem\n",
    "def length_of_side(side1, side2):\n",
    "    \"\"\"\n",
    "        Purpose:\n",
    "            - This function is to calculate the length of a side of a\n",
    "            right triangle, given the 2 other sides\n",
    "\n",
    "        Parameters:\n",
    "            - side1 (type float)\n",
    "            - side2 (type float)\n",
    "\n",
    "        Return:\n",
    "            - length (type float)\n",
    "    \"\"\"\n",
    "    length = math.pow(side1, 2) + math.pow(side2, 2)\n",
    "    print(type(length))\n",
    "    return math.sqrt(length)\n",
    "    \n",
    "    \n",
    "# Area of a room\n",
    "def area_of_room(length, width):\n",
    "    \"\"\"\n",
    "        Purpose:\n",
    "            - This function is to calculate the area of a room\n",
    "\n",
    "        Parameters:\n",
    "            - length (type float)\n",
    "            - height (type float)\n",
    "\n",
    "        Return:\n",
    "            - area_of_room (type float)\n",
    "    \"\"\"\n",
    "    area = length * width\n",
    "    print(type(area))\n",
    "    return area"
   ]
  },
  {
   "cell_type": "code",
   "execution_count": 30,
   "metadata": {},
   "outputs": [
    {
     "name": "stdout",
     "output_type": "stream",
     "text": [
      "<class 'float'>\n",
      "area_of_triangle returned: 15.0, should've returned 15.0\n",
      "\n",
      "<class 'float'>\n",
      "area_of_circle returned: 12.57, should've returned 12.57\n",
      "\n",
      "<class 'float'>\n",
      "length_of_side returned: 13.00, should've returned 13.00\n",
      "\n",
      "<class 'float'>\n",
      "area_of_room returned: 21.00, should've returned 21.00\n"
     ]
    }
   ],
   "source": [
    "# This section is used to test the above math functions\n",
    "# Running cell will output results\n",
    "\n",
    "aot = area_of_triangle(base=10, height=3)\n",
    "print(\"area_of_triangle returned: {}, should've returned 15.0\\n\".format(aot))\n",
    "\n",
    "\n",
    "aoc = area_of_circle(radius=2)\n",
    "print(\"area_of_circle returned: {0:.2f}, should've returned 12.57\\n\".format(aoc))\n",
    "\n",
    "\n",
    "los = length_of_side(side1=12, side2=5)\n",
    "print(\"length_of_side returned: {0:.2f}, should've returned 13.00\\n\".format(los))\n",
    "\n",
    "\n",
    "los = area_of_room(length=4.2, width=5)\n",
    "print(\"area_of_room returned: {0:.2f}, should've returned 21.00\".format(los))"
   ]
  },
  {
   "cell_type": "code",
   "execution_count": null,
   "metadata": {},
   "outputs": [],
   "source": []
  }
 ],
 "metadata": {
  "kernelspec": {
   "display_name": "Python 3",
   "language": "python",
   "name": "python3"
  },
  "language_info": {
   "codemirror_mode": {
    "name": "ipython",
    "version": 3
   },
   "file_extension": ".py",
   "mimetype": "text/x-python",
   "name": "python",
   "nbconvert_exporter": "python",
   "pygments_lexer": "ipython3",
   "version": "3.7.3"
  }
 },
 "nbformat": 4,
 "nbformat_minor": 2
}
