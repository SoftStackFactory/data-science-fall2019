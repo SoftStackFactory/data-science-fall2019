{
 "cells": [
  {
   "cell_type": "markdown",
   "metadata": {},
   "source": [
    "# Math Overview\n",
    "\n",
    "A Python library is a collection of functions and methods that allows you to perform lots of actions without writing your own code.\n",
    "\n",
    "In general, it's good practice to keep all of your library imports at the top of your notebook or program.\n",
    "\n",
    "Lets import the math library to calculate the amount of water that can be carried in a container with a radius of 5cm and a height of 17cm.\n",
    "\n",
    "* The formula for the volume of a cylinder is $V = \\pi r^2 h$"
   ]
  },
  {
   "cell_type": "code",
   "execution_count": 1,
   "metadata": {
    "pycharm": {
     "is_executing": false
    }
   },
   "outputs": [
    {
     "name": "stdout",
     "output_type": "stream",
     "text": [
      "The volume of the cylinder is 1335.18\n"
     ]
    }
   ],
   "source": [
    "# Import libraries\n",
    "import math\n",
    "\n",
    "\n",
    "def volume_of_cylinder(radius, height):\n",
    "    \"\"\"\n",
    "        Purpose:\n",
    "            - This function is to calculate the volume of cylinder\n",
    "\n",
    "        Parameters:\n",
    "            - radius (type int)\n",
    "            - height (type int)\n",
    "\n",
    "        Return:\n",
    "            - volume (type float)\n",
    "    \"\"\"\n",
    "    return math.pi * math.pow(radius, 2) * height\n",
    "\n",
    "volume = volume_of_cylinder(5, 17)\n",
    "\n",
    "print(\"The volume of the cylinder is {0:.2f}\".format(volume))"
   ]
  },
  {
   "cell_type": "markdown",
   "metadata": {},
   "source": [
    "# Math Exercise\n",
    "\n",
    "Now it's your turn! Go to the Python [Math Docs](https://www.programiz.com/python-programming/modules/math) and select one of the following math functions:\n",
    "\n",
    "- Calculate the area of a triangle \n",
    "     - $area = 1/2 * Base * Height$\n",
    "    \n",
    "- Calculate the area of a circle\n",
    "    - $area = \\pi r^2$\n",
    "    \n",
    "- Calculate the length of an unknown side of a right triangle, given two sides that are known\n",
    "    - $Pythagorean$  $Theorem: a^2 + b^2 = c^2$\n",
    "\n",
    "- Calculate the area of a room\n",
    "    - $area$ = $length$ * $width$"
   ]
  },
  {
   "cell_type": "code",
   "execution_count": 26,
   "metadata": {},
   "outputs": [],
   "source": [
    "# Area of a triangle\n",
    "def area_of_triangle(base, height):\n",
    "    \"\"\"\n",
    "        Purpose:\n",
    "            - This function is to calculate the area of a triangle\n",
    "\n",
    "        Parameters:\n",
    "            - base (type float)\n",
    "            - height (type float)\n",
    "\n",
    "        Return:\n",
    "            - area_of_triangle (type float)\n",
    "    \"\"\"\n",
    "    area = (base * height) / 2\n",
    "    print(type(area))\n",
    "    return area\n",
    "\n",
    "\n",
    "# Area of a cirlcle\n",
    "def area_of_circle(radius):\n",
    "    \"\"\"\n",
    "        Purpose:\n",
    "            - This function is to calculate the area of a cirlcle\n",
    "\n",
    "        Parameters:\n",
    "            - radius (type float)\n",
    "\n",
    "        Return:\n",
    "            - area_of_circle (type float)\n",
    "    \"\"\"\n",
    "    area = math.pi * math.pow(radius, 2)\n",
    "    print(type(area))\n",
    "    return area\n",
    "\n",
    "\n",
    "# Pythagorean Theorem\n",
    "def length_of_side(side1, side2):\n",
    "    \"\"\"\n",
    "        Purpose:\n",
    "            - This function is to calculate the length of a side of a\n",
    "            right triangle, given the 2 other sides\n",
    "\n",
    "        Parameters:\n",
    "            - side1 (type float)\n",
    "            - side2 (type float)\n",
    "\n",
    "        Return:\n",
    "            - length (type float)\n",
    "    \"\"\"\n",
    "    length = math.pow(side1, 2) + math.pow(side2, 2)\n",
    "    print(type(length))\n",
    "    return math.sqrt(length)\n",
    "    \n",
    "    \n",
    "# Area of a room\n",
    "def area_of_room(length, width):\n",
    "    \"\"\"\n",
    "        Purpose:\n",
    "            - This function is to calculate the area of a room\n",
    "\n",
    "        Parameters:\n",
    "            - length (type float)\n",
    "            - height (type float)\n",
    "\n",
    "        Return:\n",
    "            - area_of_room (type float)\n",
    "    \"\"\"\n",
    "    area = length * width\n",
    "    print(type(area))\n",
    "    return area"
   ]
  },
  {
   "cell_type": "code",
   "execution_count": 30,
   "metadata": {},
   "outputs": [
    {
     "name": "stdout",
     "output_type": "stream",
     "text": [
      "<class 'float'>\n",
      "area_of_triangle returned: 15.0, should've returned 15.0\n",
      "\n",
      "<class 'float'>\n",
      "area_of_circle returned: 12.57, should've returned 12.57\n",
      "\n",
      "<class 'float'>\n",
      "length_of_side returned: 13.00, should've returned 13.00\n",
      "\n",
      "<class 'float'>\n",
      "area_of_room returned: 21.00, should've returned 21.00\n"
     ]
    }
   ],
   "source": [
    "# This section is used to test the above math functions\n",
    "# Running cell will output results\n",
    "\n",
    "aot = area_of_triangle(base=10, height=3)\n",
    "print(\"area_of_triangle returned: {}, should've returned 15.0\\n\".format(aot))\n",
    "\n",
    "\n",
    "aoc = area_of_circle(radius=2)\n",
    "print(\"area_of_circle returned: {0:.2f}, should've returned 12.57\\n\".format(aoc))\n",
    "\n",
    "\n",
    "los = length_of_side(side1=12, side2=5)\n",
    "print(\"length_of_side returned: {0:.2f}, should've returned 13.00\\n\".format(los))\n",
    "\n",
    "\n",
    "los = area_of_room(length=4.2, width=5)\n",
    "print(\"area_of_room returned: {0:.2f}, should've returned 21.00\".format(los))"
   ]
  },
  {
   "cell_type": "markdown",
   "metadata": {},
   "source": [
    "# Numpy & Matplotlib\n",
    "\n",
    "In this section we'll cover Numpy & Matplotlib. \n",
    "\n",
    "We'll explore the random property of Numpy and demonstrate how we can use it to create mock data. As an exercise we'll have the students use the Numpy random function to create a simulation of coin flips. You'll be asked to create 3 separate functions:\n",
    "- First function will return a random number, either zero or one representing heads or tails\n",
    "- Next function will use the first one to simulate n number of coin flips\n",
    "- Last one will incorporate both prior functions to simulate n number of simulations\n",
    "\n",
    "From there we'll visualize the data using Matplotlib, more specifically the box plots and histograms.\n",
    "\n",
    "\n",
    "#### Resources:\n",
    "- [Numpy Documentation](https://docs.scipy.org/doc/numpy/user/quickstart.html)\n",
    "- [Numpy Random Documentation](https://docs.scipy.org/doc/numpy-1.14.0/reference/routines.random.html)\n",
    "- [Matplotlib Documentation](https://matplotlib.org/users/index.html)"
   ]
  },
  {
   "cell_type": "code",
   "execution_count": 11,
   "metadata": {},
   "outputs": [],
   "source": [
    "# Import Libraries\n",
    "import numpy as np\n",
    "import matplotlib.pyplot as plt\n",
    "import seaborn as sns"
   ]
  },
  {
   "cell_type": "code",
   "execution_count": 4,
   "metadata": {},
   "outputs": [
    {
     "data": {
      "text/plain": [
       "1"
      ]
     },
     "execution_count": 4,
     "metadata": {},
     "output_type": "execute_result"
    }
   ],
   "source": [
    "# Return random integer, takes range as param\n",
    "random_integer = np.random.randint(2)\n",
    "random_integer"
   ]
  },
  {
   "cell_type": "markdown",
   "metadata": {},
   "source": [
    "### Numpy Random Function\n",
    "\n",
    "[Numpy Random Documentation](https://docs.scipy.org/doc/numpy-1.14.0/reference/routines.random.html)"
   ]
  },
  {
   "cell_type": "code",
   "execution_count": 7,
   "metadata": {},
   "outputs": [],
   "source": [
    "def flip_coin():\n",
    "    # Returns random integer\n",
    "    return np.random.randint(2)\n",
    "\n",
    "\n",
    "def coin_game(num_flips):\n",
    "    # List to save coin flips\n",
    "    coin_tosses = []\n",
    "    \n",
    "    # Loop thru num_flips\n",
    "    for x in range(num_flips):\n",
    "        # Flip the coin\n",
    "        coin = flip_coin()\n",
    "        # Save coin result to list\n",
    "        coin_tosses.append(coin)\n",
    "        \n",
    "    # Return list of coin flips\n",
    "    return coin_tosses\n",
    "\n",
    "\n",
    "def run_sims(num_sims, num_flips):\n",
    "    # List to save simulations\n",
    "    all_tails = []\n",
    "    \n",
    "    # Loop thru num_sims\n",
    "    for sim in range(num_sims):\n",
    "        # Create list of coin games\n",
    "        coin_tosses = coin_game(num_flips)\n",
    "        # Save simulation results filtering by tails\n",
    "        all_tails.append(sum(coin_tosses))\n",
    "    \n",
    "    # Return list of integers, each integer represents the number\n",
    "    # of times the coin landed on tails\n",
    "    return np.array(all_tails)"
   ]
  },
  {
   "cell_type": "markdown",
   "metadata": {},
   "source": [
    "### Run Simulation & Plot the distribution"
   ]
  },
  {
   "cell_type": "code",
   "execution_count": 17,
   "metadata": {},
   "outputs": [
    {
     "data": {
      "image/png": "[encoded data removed]",
      "text/plain": [
       "<Figure size 432x288 with 1 Axes>"
      ]
     },
     "metadata": {
      "needs_background": "light"
     },
     "output_type": "display_data"
    }
   ],
   "source": [
    "# Simulate 1,000 simulations consisting of 10 flips per simulation\n",
    "all_tails = run_sims(1000, 10)\n",
    "\n",
    "# Plot results\n",
    "plt.hist(all_tails)\n",
    "plt.ylabel(\"Freq of Simulations\")\n",
    "plt.xlabel(\"Tails / Total Flips\")\n",
    "plt.show()"
   ]
  },
  {
   "cell_type": "markdown",
   "metadata": {},
   "source": [
    "### Binomial Probabilities Formula\n",
    "\n",
    "<img src=\"https://phhp-faculty-cantrell.sites.medinfo.ufl.edu/files/2013/02/mod8-binomform.png\">"
   ]
  },
  {
   "cell_type": "code",
   "execution_count": 19,
   "metadata": {},
   "outputs": [],
   "source": [
    "# Convert above formula to code\n",
    "from math import factorial as ft\n",
    "\n",
    "def binomial_proba(N, x, p):\n",
    "    \n",
    "    factorial = (ft(N)/(ft(x)*ft(N-x)))\n",
    "    proba = (p**x)*(p**(N-x))\n",
    "    \n",
    "    return factorial * proba"
   ]
  },
  {
   "cell_type": "code",
   "execution_count": 20,
   "metadata": {},
   "outputs": [
    {
     "name": "stdout",
     "output_type": "stream",
     "text": [
      "Binomial Probability of {}\n",
      "\n",
      "Example of 10 simulations...\n",
      "10 Flips, 0 Tails: 0.00098\n",
      "10 Flips, 1 Tails: 0.00977\n",
      "10 Flips, 2 Tails: 0.04395\n",
      "10 Flips, 3 Tails: 0.11719\n",
      "10 Flips, 4 Tails: 0.20508\n",
      "10 Flips, 5 Tails: 0.24609\n",
      "10 Flips, 6 Tails: 0.20508\n",
      "10 Flips, 7 Tails: 0.11719\n",
      "10 Flips, 8 Tails: 0.04395\n",
      "10 Flips, 9 Tails: 0.00977\n",
      "10 Flips, 10 Tails: 0.00098\n"
     ]
    }
   ],
   "source": [
    "# The probability of rolling 5 tails out of 10 coin flips\n",
    "N = 10\n",
    "bp = binomial_proba(N=N, x=5, p=0.5)\n",
    "\n",
    "print('Binomial Probability of {}\\n\\nExample of 10 simulations...')\n",
    "\n",
    "for x in range(11):\n",
    "    print(\"10 Flips,\", x, \"Tails:\", round(binomial_proba(N=10, x=x, p=0.5), ndigits=5))"
   ]
  },
  {
   "cell_type": "code",
   "execution_count": null,
   "metadata": {},
   "outputs": [],
   "source": []
  }
 ],
 "metadata": {
  "kernelspec": {
   "display_name": "Python 3",
   "language": "python",
   "name": "python3"
  },
  "language_info": {
   "codemirror_mode": {
    "name": "ipython",
    "version": 3
   },
   "file_extension": ".py",
   "mimetype": "text/x-python",
   "name": "python",
   "nbconvert_exporter": "python",
   "pygments_lexer": "ipython3",
   "version": "3.7.3"
  }
 },
 "nbformat": 4,
 "nbformat_minor": 2
}
