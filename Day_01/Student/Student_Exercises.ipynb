{
 "cells": [
  {
   "cell_type": "markdown",
   "metadata": {},
   "source": [
    "## Math Exercise\n",
    "\n",
    "Now it's your turn! Go to the Python [Math Docs](https://www.programiz.com/python-programming/modules/math) and select one of the following math functions:\n",
    "\n",
    "- Calculate the area of a triangle \n",
    "     - $area = 1/2 * Base * Height$\n",
    "    \n",
    "- Calculate the area of a circle\n",
    "    - $area = \\pi r^2$\n",
    "    \n",
    "- Calculate the length of an unknown side of a right triangle, given two sides that are known\n",
    "    - $Pythagorean$  $Theorem: a^2 + b^2 = c^2$\n",
    "\n",
    "- Calculate the area of a room\n",
    "    - $area$ = $length$ * $width$"
   ]
  },
  {
   "cell_type": "code",
   "execution_count": null,
   "metadata": {},
   "outputs": [],
   "source": [
    "# Place your code for the math exercise below\n",
    "\n",
    "\n",
    "\n"
   ]
  },
  {
   "cell_type": "code",
   "execution_count": null,
   "metadata": {},
   "outputs": [],
   "source": []
  }
 ],
 "metadata": {
  "kernelspec": {
   "display_name": "Python 3",
   "language": "python",
   "name": "python3"
  },
  "language_info": {
   "codemirror_mode": {
    "name": "ipython",
    "version": 3
   },
   "file_extension": ".py",
   "mimetype": "text/x-python",
   "name": "python",
   "nbconvert_exporter": "python",
   "pygments_lexer": "ipython3",
   "version": "3.7.3"
  }
 },
 "nbformat": 4,
 "nbformat_minor": 2
}
