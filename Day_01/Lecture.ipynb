{
 "cells": [
  {
   "cell_type": "markdown",
   "metadata": {},
   "source": [
    "# Math Overview\n",
    "\n",
    "A Python library is a collection of functions and methods that allows you to perform lots of actions without writing your own code.\n",
    "\n",
    "In general, it's good practice to keep all of your library imports at the top of your notebook or program.\n",
    "\n",
    "Lets import the math library to calculate the amount of water that can be carried in a container with a radius of 5cm and a height of 17cm.\n",
    "\n",
    "* The formula for the volume of a cylinder is $V = \\pi r^2 h$"
   ]
  },
  {
   "cell_type": "code",
   "execution_count": null,
   "metadata": {
    "pycharm": {
     "is_executing": false
    }
   },
   "outputs": [],
   "source": [
    "# Import libraries\n",
    "import math\n",
    "\n",
    "\n",
    "def volume_of_cylinder(radius, height):\n",
    "    \"\"\"\n",
    "        Purpose:\n",
    "            - This function is to calculate the volume of cylinder\n",
    "\n",
    "        Parameters:\n",
    "            - radius (type int)\n",
    "            - height (type int)\n",
    "\n",
    "        Return:\n",
    "            - volume (type float)\n",
    "    \"\"\"\n",
    "    return math.pi * math.pow(radius, 2) * height\n",
    "\n",
    "volume = volume_of_cylinder(5, 17)\n",
    "\n",
    "print(\"The volume of the cylinder is {0:.2f}\".format(volume))"
   ]
  },
  {
   "cell_type": "markdown",
   "metadata": {},
   "source": [
    "# Math Exercise\n",
    "\n",
    "Now it's your turn! Go to the Python [Math Docs](https://www.programiz.com/python-programming/modules/math) and select one of the following math functions:\n",
    "\n",
    "- Calculate the area of a triangle \n",
    "    \n",
    "- Calculate the area of a circle\n",
    "    \n",
    "- Calculate the length of an unknown side of a right triangle, given two sides that are known\n",
    "\n",
    "- Calculate the area of a room\n",
    "\n",
    "<hr>"
   ]
  },
  {
   "cell_type": "markdown",
   "metadata": {},
   "source": [
    "# Numpy & Matplotlib Overview\n",
    "\n",
    "In this section we'll cover Numpy & Matplotlib. \n",
    "\n",
    "We'll explore the random property of Numpy and demonstrate how we can use it to create mock data. As an exercise we'll have the students use the Numpy random function to create a simulation of coin flips. You'll be asked to create 3 separate functions:\n",
    "- First function will return a random number, either zero or one representing heads or tails\n",
    "- Next function will use the first one to simulate n number of coin flips\n",
    "- Last one will incorporate both prior functions to simulate n number of simulations\n",
    "\n",
    "From there we'll visualize the data using Matplotlib to plot a histogram.\n",
    "\n",
    "\n",
    "#### Resources:\n",
    "- [Numpy Documentation](https://docs.scipy.org/doc/numpy/user/quickstart.html)\n",
    "- [Numpy Random Documentation](https://docs.scipy.org/doc/numpy-1.14.0/reference/routines.random.html)\n",
    "- [Matplotlib Documentation](https://matplotlib.org/users/index.html)"
   ]
  },
  {
   "cell_type": "markdown",
   "metadata": {},
   "source": [
    "### Numpy Random Function\n",
    "\n",
    "[Numpy Random Documentation](https://docs.scipy.org/doc/numpy-1.14.0/reference/routines.random.html)"
   ]
  },
  {
   "cell_type": "code",
   "execution_count": null,
   "metadata": {},
   "outputs": [],
   "source": [
    "# Import Libraries\n",
    "import numpy as np\n",
    "\n",
    "# Return random integer, takes range as param\n",
    "np.random.randint(2)"
   ]
  },
  {
   "cell_type": "markdown",
   "metadata": {},
   "source": [
    "#### Lets look at the Numpy random function\n",
    "\n",
    "Execute the following cell..."
   ]
  },
  {
   "cell_type": "code",
   "execution_count": null,
   "metadata": {},
   "outputs": [],
   "source": [
    "?np.random"
   ]
  },
  {
   "cell_type": "markdown",
   "metadata": {},
   "source": [
    "# Numpy & Matplotlib Exercise\n",
    "\n",
    "#### Create 3 separate functions:\n",
    "- First function will return a random number, either zero or one representing heads or tails\n",
    "- Next function will use the first one to simulate n number of coin flips\n",
    "- Last one will incorporate both prior functions to simulate n number of simulations\n",
    "\n",
    "<hr>"
   ]
  }
 ],
 "metadata": {
  "kernelspec": {
   "display_name": "Python 3",
   "language": "python",
   "name": "python3"
  },
  "language_info": {
   "codemirror_mode": {
    "name": "ipython",
    "version": 3
   },
   "file_extension": ".py",
   "mimetype": "text/x-python",
   "name": "python",
   "nbconvert_exporter": "python",
   "pygments_lexer": "ipython3",
   "version": "3.7.3"
  }
 },
 "nbformat": 4,
 "nbformat_minor": 2
}
