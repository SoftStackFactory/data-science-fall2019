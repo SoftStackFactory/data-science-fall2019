{
 "cells": [
  {
   "cell_type": "markdown",
   "metadata": {},
   "source": [
    "# Math Overview\n",
    "\n",
    "A Python library is a collection of functions and methods that allows you to perform lots of actions without writing your own code.\n",
    "\n",
    "In general, it's good practice to keep all of your library imports at the top of your notebook or program.\n",
    "\n",
    "Lets import the math library to calculate the amount of water that can be carried in a container with a radius of 5cm and a height of 17cm.\n",
    "\n",
    "* The formula for the volume of a cylinder is $V = \\pi r^2 h$"
   ]
  },
  {
   "cell_type": "code",
   "execution_count": null,
   "metadata": {
    "pycharm": {
     "is_executing": false
    }
   },
   "outputs": [],
   "source": [
    "# Import libraries\n",
    "import math\n",
    "\n",
    "\n",
    "def volume_of_cylinder(radius, height):\n",
    "    \"\"\"\n",
    "        Purpose:\n",
    "            - This function is to calculate the volume of cylinder\n",
    "\n",
    "        Parameters:\n",
    "            - radius (type int)\n",
    "            - height (type int)\n",
    "\n",
    "        Return:\n",
    "            - volume (type float)\n",
    "    \"\"\"\n",
    "    return math.pi * math.pow(radius, 2) * height"
   ]
  },
  {
   "cell_type": "code",
   "execution_count": null,
   "metadata": {},
   "outputs": [],
   "source": [
    "# Test function\n",
    "volume = volume_of_cylinder(5, 17)\n",
    "\n",
    "print(\"The volume of the cylinder is {0:.2f}\".format(volume))"
   ]
  },
  {
   "cell_type": "markdown",
   "metadata": {},
   "source": [
    "# Math Exercise\n",
    "\n",
    "Now it's your turn! Go to the Python [Math Docs](https://www.programiz.com/python-programming/modules/math) and select one of the following math functions:\n",
    "\n",
    "- Calculate the area of a triangle \n",
    "    \n",
    "- Calculate the area of a circle\n",
    "    \n",
    "- Calculate the length of an unknown side of a right triangle, given two sides that are known\n",
    "\n",
    "- Calculate the area of a room\n",
    "\n",
    "<hr>"
   ]
  },
  {
   "cell_type": "markdown",
   "metadata": {},
   "source": [
    "# Numpy & Matplotlib Overview\n",
    "\n",
    "In this section we'll cover Numpy & Matplotlib. \n",
    "\n",
    "We'll explore the random property of Numpy and demonstrate how we can use it to create mock data. As an exercise we'll have the students use the Numpy random function to create a simulation of coin flips. You'll be asked to create 3 separate functions:\n",
    "- First function will return a random number, either zero or one representing heads or tails\n",
    "- Next function will use the first one to simulate n number of coin flips\n",
    "- Last one will incorporate both prior functions to simulate n number of simulations\n",
    "\n",
    "From there we'll visualize the data using Matplotlib to plot a histogram.\n",
    "\n",
    "\n",
    "#### Resources:\n",
    "- [Numpy Documentation](https://docs.scipy.org/doc/numpy/user/quickstart.html)\n",
    "- [Numpy Random Documentation](https://docs.scipy.org/doc/numpy-1.14.0/reference/routines.random.html)\n",
    "- [Matplotlib Documentation](https://matplotlib.org/users/index.html)"
   ]
  },
  {
   "cell_type": "markdown",
   "metadata": {},
   "source": [
    "### Numpy Random Function\n",
    "\n",
    "[Numpy Random Documentation](https://docs.scipy.org/doc/numpy-1.14.0/reference/routines.random.html)"
   ]
  },
  {
   "cell_type": "code",
   "execution_count": null,
   "metadata": {},
   "outputs": [],
   "source": [
    "# Import Libraries\n",
    "import numpy as np\n",
    "\n",
    "# Return random integer, takes range as param\n",
    "np.random.randint(2)"
   ]
  },
  {
   "cell_type": "markdown",
   "metadata": {},
   "source": [
    "#### Lets look at the Numpy random function\n",
    "\n",
    "Execute the following cell..."
   ]
  },
  {
   "cell_type": "code",
   "execution_count": null,
   "metadata": {},
   "outputs": [],
   "source": [
    "?np.random"
   ]
  },
  {
   "cell_type": "markdown",
   "metadata": {},
   "source": [
    "# Numpy & Matplotlib Exercise\n",
    "\n",
    "#### Create 3 separate functions:\n",
    "- First function will return a random number, either zero or one representing heads or tails\n",
    "- Next function will use the first one to simulate n number of coin flips\n",
    "- Last one will incorporate both prior functions to simulate n number of simulations\n",
    "\n",
    "<hr>"
   ]
  },
  {
   "cell_type": "markdown",
   "metadata": {},
   "source": [
    "# Pandas Overview\n",
    "\n",
    "In this section we'll review Pandas and dataframes. \n",
    "\n",
    "Lets import the pandas library and give it an alias of pd. We'll then write a function that replaces ALL values in a dataframe. Reference the [replace](https://pandas.pydata.org/pandasdocs/stable/reference/api/pandas.DataFrame.replace.html) method in the Pandas documentation for more information."
   ]
  },
  {
   "cell_type": "code",
   "execution_count": null,
   "metadata": {},
   "outputs": [],
   "source": [
    "# Import libraries\n",
    "import pandas as pd\n",
    "\n",
    "\n",
    "def update_values(dataframe, old_value, new_value):\n",
    "    \"\"\"\n",
    "        Purpose:\n",
    "            - This function replaces every occurance of a given value in a dataframe with another value\n",
    "\n",
    "        Parameters:\n",
    "            - dataframe (type: pandas dataframe)\n",
    "            - old_value (type: any)\n",
    "            - new_value (type: any)\n",
    "\n",
    "        Return:\n",
    "            - new_df (type: pandas dataframe)\n",
    "    \"\"\"\n",
    "    return dataframe.replace(old_value, new_value)"
   ]
  },
  {
   "cell_type": "markdown",
   "metadata": {},
   "source": [
    "#### Lets test the `update_values` function we just wrote\n",
    "\n",
    "We'll create some mock data for this example instead of importing a CSV like we've done in the past."
   ]
  },
  {
   "cell_type": "code",
   "execution_count": null,
   "metadata": {},
   "outputs": [],
   "source": [
    "# Mock data for example\n",
    "raw_data = {\n",
    "    'first_name': ['Jason', 'Molly', 'Tina', 'Jake', 'Amy'], \n",
    "    'last_name': ['Miller', 'Jacobson', 'Ali', 'Milner', 'Cooze'], \n",
    "    'age': [42, 52, 36, 24, 73], \n",
    "    'preTestScore': [-999, -999, -999, 2, 1],\n",
    "    'postTestScore': [2, 2, -999, 2, -999]}\n",
    "\n",
    "df = pd.DataFrame(raw_data, columns = ['first_name', 'last_name', 'age', 'preTestScore', 'postTestScore'])\n",
    "print(\"ORIGINAL DF\\n{}\".format(df.head()))"
   ]
  },
  {
   "cell_type": "code",
   "execution_count": null,
   "metadata": {},
   "outputs": [],
   "source": [
    "# Test different values by switching out the variables below\n",
    "old_value = -999\n",
    "new_value = 420\n",
    "\n",
    "new_df = update_values(dataframe=df, old_value=old_value, new_value=new_value)\n",
    "\n",
    "print(\"\\n\\nNEW DF\\n{}\".format(new_df.head()))"
   ]
  },
  {
   "cell_type": "markdown",
   "metadata": {},
   "source": [
    "# Pandas Exercise\n",
    "\n",
    "Now it's your turn! Select one of the following functions:\n",
    "\n",
    "- Create a function that renames columns in a dataframe \n",
    "    \n",
    "- Create a function that drops a row if it contains a certain value\n",
    "    \n",
    "- Create a function that sorts records in a dataframe\n",
    "\n",
    "Go to the [Pandas](https://pandas.pydata.org/pandas-docs/version/0.25) Documentation or [Chris Albon](https://pandas.pydata.org/pandas-docs/version/0.25) site for reference.\n",
    "\n",
    "<hr>"
   ]
  }
 ],
 "metadata": {
  "kernelspec": {
   "display_name": "Python 3",
   "language": "python",
   "name": "python3"
  },
  "language_info": {
   "codemirror_mode": {
    "name": "ipython",
    "version": 3
   },
   "file_extension": ".py",
   "mimetype": "text/x-python",
   "name": "python",
   "nbconvert_exporter": "python",
   "pygments_lexer": "ipython3",
   "version": "3.7.3"
  }
 },
 "nbformat": 4,
 "nbformat_minor": 2
}
