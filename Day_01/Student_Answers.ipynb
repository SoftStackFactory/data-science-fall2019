{
 "cells": [
  {
   "cell_type": "markdown",
   "metadata": {},
   "source": [
    "# Math Exercise\n",
    "\n",
    "Now it's your turn! Go to the Python [Math Docs](https://www.programiz.com/python-programming/modules/math) and select one of the following math functions:\n",
    "\n",
    "- Calculate the area of a triangle \n",
    "     - $area = 1/2 * Base * Height$\n",
    "    \n",
    "- Calculate the area of a circle\n",
    "    - $area = \\pi r^2$\n",
    "    \n",
    "- Calculate the length of an unknown side of a right triangle, given two sides that are known\n",
    "    - $Pythagorean$  $Theorem: a^2 + b^2 = c^2$\n",
    "\n",
    "- Calculate the area of a room\n",
    "    - $area$ = $length$ * $width$"
   ]
  },
  {
   "cell_type": "code",
   "execution_count": 1,
   "metadata": {
    "pycharm": {
     "is_executing": false
    }
   },
   "outputs": [],
   "source": [
    "# Import libraries\n",
    "import math\n",
    "\n",
    "# Area of a triangle\n",
    "def area_of_triangle(base, height):\n",
    "    \"\"\"\n",
    "        Purpose:\n",
    "            - This function is to calculate the area of a triangle\n",
    "\n",
    "        Parameters:\n",
    "            - base (type float)\n",
    "            - height (type float)\n",
    "\n",
    "        Return:\n",
    "            - area_of_triangle (type float)\n",
    "    \"\"\"\n",
    "    area = (base * height) / 2\n",
    "    print(type(area))\n",
    "    return area\n",
    "\n",
    "\n",
    "# Area of a cirlcle\n",
    "def area_of_circle(radius):\n",
    "    \"\"\"\n",
    "        Purpose:\n",
    "            - This function is to calculate the area of a cirlcle\n",
    "\n",
    "        Parameters:\n",
    "            - radius (type float)\n",
    "\n",
    "        Return:\n",
    "            - area_of_circle (type float)\n",
    "    \"\"\"\n",
    "    area = math.pi * math.pow(radius, 2)\n",
    "    print(type(area))\n",
    "    return area\n",
    "\n",
    "\n",
    "# Pythagorean Theorem\n",
    "def length_of_side(side1, side2):\n",
    "    \"\"\"\n",
    "        Purpose:\n",
    "            - This function is to calculate the length of a side of a\n",
    "            right triangle, given the 2 other sides\n",
    "\n",
    "        Parameters:\n",
    "            - side1 (type float)\n",
    "            - side2 (type float)\n",
    "\n",
    "        Return:\n",
    "            - length (type float)\n",
    "    \"\"\"\n",
    "    length = math.pow(side1, 2) + math.pow(side2, 2)\n",
    "    print(type(length))\n",
    "    return math.sqrt(length)\n",
    "    \n",
    "    \n",
    "# Area of a room\n",
    "def area_of_room(length, width):\n",
    "    \"\"\"\n",
    "        Purpose:\n",
    "            - This function is to calculate the area of a room\n",
    "\n",
    "        Parameters:\n",
    "            - length (type float)\n",
    "            - height (type float)\n",
    "\n",
    "        Return:\n",
    "            - area_of_room (type float)\n",
    "    \"\"\"\n",
    "    area = length * width\n",
    "    print(type(area))\n",
    "    return area\n",
    "\n",
    "\n",
    "\n"
   ]
  },
  {
   "cell_type": "markdown",
   "metadata": {},
   "source": [
    "#### Executing the cell below will test the above functions and print the results"
   ]
  },
  {
   "cell_type": "code",
   "execution_count": 2,
   "metadata": {},
   "outputs": [
    {
     "name": "stdout",
     "output_type": "stream",
     "text": [
      "<class 'float'>\n",
      "area_of_triangle returned: 15.0, should've returned 15.0\n",
      "\n",
      "<class 'float'>\n",
      "area_of_circle returned: 12.57, should've returned 12.57\n",
      "\n",
      "<class 'float'>\n",
      "length_of_side returned: 13.00, should've returned 13.00\n",
      "\n",
      "<class 'float'>\n",
      "area_of_room returned: 21.00, should've returned 21.00\n"
     ]
    }
   ],
   "source": [
    "# This section is used to test the above math functions\n",
    "# Running cell will output results\n",
    "\n",
    "aot = area_of_triangle(base=10, height=3)\n",
    "print(\"area_of_triangle returned: {}, should've returned 15.0\\n\".format(aot))\n",
    "\n",
    "\n",
    "aoc = area_of_circle(radius=2)\n",
    "print(\"area_of_circle returned: {0:.2f}, should've returned 12.57\\n\".format(aoc))\n",
    "\n",
    "\n",
    "los = length_of_side(side1=12, side2=5)\n",
    "print(\"length_of_side returned: {0:.2f}, should've returned 13.00\\n\".format(los))\n",
    "\n",
    "\n",
    "los = area_of_room(length=4.2, width=5)\n",
    "print(\"area_of_room returned: {0:.2f}, should've returned 21.00\".format(los))"
   ]
  },
  {
   "cell_type": "markdown",
   "metadata": {},
   "source": [
    "# Numpy & Matplotlib Exercise\n",
    "\n",
    "#### Create 3 separate functions:\n",
    "- First function will return a random number, either zero or one representing heads or tails\n",
    "- Next function will use the first one to simulate n number of coin flips\n",
    "- Last one will incorporate both prior functions to simulate n number of simulations"
   ]
  },
  {
   "cell_type": "code",
   "execution_count": 3,
   "metadata": {},
   "outputs": [],
   "source": [
    "def flip_coin():\n",
    "    \"\"\"\n",
    "        Info:\n",
    "            This function will return a random number, either zero or one, representing heads or tails\n",
    "        Params:\n",
    "            None\n",
    "        Output:\n",
    "            value: Integer\n",
    "    \"\"\"\n",
    "    # YOUR CODE GOES HERE\n",
    "    value = np.random.randint(2)\n",
    "    return value"
   ]
  },
  {
   "cell_type": "code",
   "execution_count": 4,
   "metadata": {},
   "outputs": [],
   "source": [
    "def coin_game(num_flips):\n",
    "    \"\"\"\n",
    "        Info:\n",
    "            This function will return a list containing integers which represent the results of a coin flip\n",
    "        Params:\n",
    "            num_flips: Integer\n",
    "        Output:\n",
    "            value: List of integers\n",
    "    \"\"\"\n",
    "    # List to save coin flips\n",
    "    value = []\n",
    "    \n",
    "    # Loop thru num_flips\n",
    "    for x in range(num_flips):\n",
    "        # Flip the coin\n",
    "        coin = flip_coin()\n",
    "        # Save coin result to list\n",
    "        value.append(coin)\n",
    "        \n",
    "    # Return list of coin flips\n",
    "    return value"
   ]
  },
  {
   "cell_type": "code",
   "execution_count": 5,
   "metadata": {},
   "outputs": [],
   "source": [
    "def run_sims(num_sims, num_flips):\n",
    "    \"\"\"\n",
    "        Info:\n",
    "            This function will execute n number of simulations, n number of flips and returns a list\n",
    "            containing the sum of all times each simulation landed on tails\n",
    "        Params:\n",
    "            num_sims: Integer\n",
    "            num_flips: Integer\n",
    "        Output:\n",
    "            value: List of integers\n",
    "    \"\"\"\n",
    "    # List to save simulations\n",
    "    value = []\n",
    "    \n",
    "    # Loop thru num_sims\n",
    "    for sim in range(num_sims):\n",
    "        \n",
    "        # Create list of coin games\n",
    "        coin_tosses = coin_game(num_flips)\n",
    "        \n",
    "        # Save simulation results filtering by tails\n",
    "        value.append(sum(coin_tosses))\n",
    "    \n",
    "    # Return list of integers, each integer represents the number\n",
    "    # of times the coin landed on tails\n",
    "    return np.array(value)"
   ]
  },
  {
   "cell_type": "markdown",
   "metadata": {},
   "source": [
    "### Run Simulation & Plot the distribution"
   ]
  },
  {
   "cell_type": "code",
   "execution_count": 7,
   "metadata": {},
   "outputs": [
    {
     "data": {
      "image/png": "[encoded data removed]",
      "text/plain": [
       "<Figure size 432x288 with 1 Axes>"
      ]
     },
     "metadata": {
      "needs_background": "light"
     },
     "output_type": "display_data"
    }
   ],
   "source": [
    "# Import libraries\n",
    "import numpy as np\n",
    "import matplotlib.pyplot as plt\n",
    "\n",
    "# Simulate 1,000 simulations consisting of 10 flips per simulation\n",
    "all_tails = run_sims(1000, 10)\n",
    "\n",
    "# Plot results\n",
    "plt.hist(all_tails)\n",
    "plt.ylabel(\"Freq of Simulations\")\n",
    "plt.xlabel(\"Tails / Total Flips\")\n",
    "plt.show()"
   ]
  },
  {
   "cell_type": "markdown",
   "metadata": {},
   "source": [
    "\n"
   ]
  }
 ],
 "metadata": {
  "kernelspec": {
   "display_name": "Python 3",
   "language": "python",
   "name": "python3"
  },
  "language_info": {
   "codemirror_mode": {
    "name": "ipython",
    "version": 3
   },
   "file_extension": ".py",
   "mimetype": "text/x-python",
   "name": "python",
   "nbconvert_exporter": "python",
   "pygments_lexer": "ipython3",
   "version": "3.7.3"
  }
 },
 "nbformat": 4,
 "nbformat_minor": 2
}
