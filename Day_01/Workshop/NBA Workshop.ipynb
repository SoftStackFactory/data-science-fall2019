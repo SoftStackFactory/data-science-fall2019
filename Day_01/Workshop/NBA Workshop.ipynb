{
 "cells": [
  {
   "cell_type": "markdown",
   "metadata": {},
   "source": [
    "# How has the NBA changed since 1950?\n",
    "\n",
    "For this workshop we'll explore NBA data going all the way back to 1950! We'll explore the data and try to answer the question that was proposed to us which is, has the NBA changed since 1950.\n",
    "\n",
    "First, we'll compare shooting percentages from 1950 & 2017. We'll structure the data we want then we'll visualize the data to see what the data is telling us.\n",
    "\n",
    "After looking at percentages, we'll try to determine if the College that a player attended affects performance in NBA?\n",
    "\n",
    "##### Resources:\n",
    "- [Basketball Data Definitions](https://www.basketball-reference.com/about/glossary.html)"
   ]
  },
  {
   "cell_type": "markdown",
   "metadata": {},
   "source": [
    "#### Import Libraries"
   ]
  },
  {
   "cell_type": "code",
   "execution_count": 1,
   "metadata": {},
   "outputs": [],
   "source": [
    "import numpy as np\n",
    "import pandas as pd\n",
    "import matplotlib.pyplot as plt\n",
    "import seaborn as sns ; sns.set()"
   ]
  },
  {
   "cell_type": "markdown",
   "metadata": {},
   "source": [
    "#### Import Data"
   ]
  },
  {
   "cell_type": "code",
   "execution_count": 3,
   "metadata": {},
   "outputs": [],
   "source": [
    "nba = pd.read_csv(\"../../data/nba_1950/season_stats.csv\")"
   ]
  },
  {
   "cell_type": "markdown",
   "metadata": {},
   "source": [
    "#### Quick feel for the data"
   ]
  },
  {
   "cell_type": "code",
   "execution_count": 21,
   "metadata": {
    "scrolled": false
   },
   "outputs": [
    {
     "name": "stdout",
     "output_type": "stream",
     "text": [
      "HEAD\n",
      "     Year           Player  Pos   Age   Tm     G  GS  MP  PER    TS%  ...  \\\n",
      "0  1950.0  Curly Armstrong  G-F  31.0  FTW  63.0 NaN NaN  NaN  0.368  ...   \n",
      "1  1950.0     Cliff Barker   SG  29.0  INO  49.0 NaN NaN  NaN  0.435  ...   \n",
      "2  1950.0    Leo Barnhorst   SF  25.0  CHS  67.0 NaN NaN  NaN  0.394  ...   \n",
      "3  1950.0       Ed Bartels    F  24.0  TOT  15.0 NaN NaN  NaN  0.312  ...   \n",
      "4  1950.0       Ed Bartels    F  24.0  DNN  13.0 NaN NaN  NaN  0.308  ...   \n",
      "\n",
      "     FT%  ORB  DRB  TRB    AST  STL  BLK  TOV     PF    PTS  \n",
      "0  0.705  NaN  NaN  NaN  176.0  NaN  NaN  NaN  217.0  458.0  \n",
      "1  0.708  NaN  NaN  NaN  109.0  NaN  NaN  NaN   99.0  279.0  \n",
      "2  0.698  NaN  NaN  NaN  140.0  NaN  NaN  NaN  192.0  438.0  \n",
      "3  0.559  NaN  NaN  NaN   20.0  NaN  NaN  NaN   29.0   63.0  \n",
      "4  0.548  NaN  NaN  NaN   20.0  NaN  NaN  NaN   27.0   59.0  \n",
      "\n",
      "[5 rows x 52 columns]\n",
      "============================================================\n",
      "\n",
      "TAIL\n",
      "     Year           Player  Pos   Age   Tm     G  GS  MP  PER    TS%  ...  \\\n",
      "0  1950.0  Curly Armstrong  G-F  31.0  FTW  63.0 NaN NaN  NaN  0.368  ...   \n",
      "1  1950.0     Cliff Barker   SG  29.0  INO  49.0 NaN NaN  NaN  0.435  ...   \n",
      "2  1950.0    Leo Barnhorst   SF  25.0  CHS  67.0 NaN NaN  NaN  0.394  ...   \n",
      "3  1950.0       Ed Bartels    F  24.0  TOT  15.0 NaN NaN  NaN  0.312  ...   \n",
      "4  1950.0       Ed Bartels    F  24.0  DNN  13.0 NaN NaN  NaN  0.308  ...   \n",
      "\n",
      "     FT%  ORB  DRB  TRB    AST  STL  BLK  TOV     PF    PTS  \n",
      "0  0.705  NaN  NaN  NaN  176.0  NaN  NaN  NaN  217.0  458.0  \n",
      "1  0.708  NaN  NaN  NaN  109.0  NaN  NaN  NaN   99.0  279.0  \n",
      "2  0.698  NaN  NaN  NaN  140.0  NaN  NaN  NaN  192.0  438.0  \n",
      "3  0.559  NaN  NaN  NaN   20.0  NaN  NaN  NaN   29.0   63.0  \n",
      "4  0.548  NaN  NaN  NaN   20.0  NaN  NaN  NaN   27.0   59.0  \n",
      "\n",
      "[5 rows x 52 columns]\n",
      "============================================================\n",
      "\n",
      "<class 'pandas.core.frame.DataFrame'>\n",
      "RangeIndex: 24691 entries, 0 to 24690\n",
      "Data columns (total 52 columns):\n",
      "Year      24624 non-null float64\n",
      "Player    24624 non-null object\n",
      "Pos       24624 non-null object\n",
      "Age       24616 non-null float64\n",
      "Tm        24624 non-null object\n",
      "G         24624 non-null float64\n",
      "GS        18233 non-null float64\n",
      "MP        24138 non-null float64\n",
      "PER       24101 non-null float64\n",
      "TS%       24538 non-null float64\n",
      "3PAr      18839 non-null float64\n",
      "FTr       24525 non-null float64\n",
      "ORB%      20792 non-null float64\n",
      "DRB%      20792 non-null float64\n",
      "TRB%      21571 non-null float64\n",
      "AST%      22555 non-null float64\n",
      "STL%      20792 non-null float64\n",
      "BLK%      20792 non-null float64\n",
      "TOV%      19582 non-null float64\n",
      "USG%      19640 non-null float64\n",
      "blanl     0 non-null float64\n",
      "OWS       24585 non-null float64\n",
      "DWS       24585 non-null float64\n",
      "WS        24585 non-null float64\n",
      "WS/48     24101 non-null float64\n",
      "blank2    0 non-null float64\n",
      "OBPM      20797 non-null float64\n",
      "DBPM      20797 non-null float64\n",
      "BPM       20797 non-null float64\n",
      "VORP      20797 non-null float64\n",
      "FG        24624 non-null float64\n",
      "FGA       24624 non-null float64\n",
      "FG%       24525 non-null float64\n",
      "3P        18927 non-null float64\n",
      "3PA       18927 non-null float64\n",
      "3P%       15416 non-null float64\n",
      "2P        24624 non-null float64\n",
      "2PA       24624 non-null float64\n",
      "2P%       24496 non-null float64\n",
      "eFG%      24525 non-null float64\n",
      "FT        24624 non-null float64\n",
      "FTA       24624 non-null float64\n",
      "FT%       23766 non-null float64\n",
      "ORB       20797 non-null float64\n",
      "DRB       20797 non-null float64\n",
      "TRB       24312 non-null float64\n",
      "AST       24624 non-null float64\n",
      "STL       20797 non-null float64\n",
      "BLK       20797 non-null float64\n",
      "TOV       19645 non-null float64\n",
      "PF        24624 non-null float64\n",
      "PTS       24624 non-null float64\n",
      "dtypes: float64(49), object(3)\n",
      "memory usage: 9.8+ MB\n",
      "INFORMATION\n",
      "None\n",
      "============================================================\n",
      "\n",
      "DESCRIBE\n",
      "               Year           Age             G            GS            MP  \\\n",
      "count  24624.000000  24616.000000  24624.000000  18233.000000  24138.000000   \n",
      "mean    1992.594989     26.664405     50.837110     23.593375   1209.720317   \n",
      "std       17.429594      3.841892     26.496161     28.632387    941.146575   \n",
      "min     1950.000000     18.000000      1.000000      0.000000      0.000000   \n",
      "25%     1981.000000     24.000000     27.000000      0.000000    340.000000   \n",
      "50%     1996.000000     26.000000     58.000000      8.000000   1053.000000   \n",
      "75%     2007.000000     29.000000     75.000000     45.000000   1971.000000   \n",
      "max     2017.000000     44.000000     88.000000     83.000000   3882.000000   \n",
      "\n",
      "                PER           TS%          3PAr           FTr          ORB%  \\\n",
      "count  24101.000000  24538.000000  18839.000000  24525.000000  20792.000000   \n",
      "mean      12.479071      0.493001      0.158604      0.325455      6.181565   \n",
      "std        6.039014      0.094469      0.187495      0.218971      4.872685   \n",
      "min      -90.600000      0.000000      0.000000      0.000000      0.000000   \n",
      "25%        9.800000      0.458000      0.005000      0.208000      2.600000   \n",
      "50%       12.700000      0.506000      0.064000      0.296000      5.400000   \n",
      "75%       15.600000      0.544000      0.288000      0.400000      9.000000   \n",
      "max      129.100000      1.136000      1.000000      6.000000    100.000000   \n",
      "\n",
      "       ...           FT%           ORB           DRB           TRB  \\\n",
      "count  ...  23766.000000  20797.000000  20797.000000  24312.000000   \n",
      "mean   ...      0.719279     62.189210    147.199404    224.637381   \n",
      "std    ...      0.141824     67.324881    145.921912    228.190203   \n",
      "min    ...      0.000000      0.000000      0.000000      0.000000   \n",
      "25%    ...      0.657000     12.000000     33.000000     51.000000   \n",
      "50%    ...      0.743000     38.000000    106.000000    159.000000   \n",
      "75%    ...      0.808000     91.000000    212.000000    322.000000   \n",
      "max    ...      1.000000    587.000000   1111.000000   2149.000000   \n",
      "\n",
      "                AST           STL           BLK           TOV            PF  \\\n",
      "count  24624.000000  20797.000000  20797.000000  19645.000000  24624.000000   \n",
      "mean     114.852623     39.897052     24.470260     73.939832    116.339222   \n",
      "std      135.863913     38.713053     36.935084     67.713803     84.791873   \n",
      "min        0.000000      0.000000      0.000000      0.000000      0.000000   \n",
      "25%       19.000000      9.000000      3.000000     18.000000     39.000000   \n",
      "50%       68.000000     29.000000     11.000000     55.000000    109.000000   \n",
      "75%      160.000000     60.000000     29.000000    112.000000    182.000000   \n",
      "max     1164.000000    301.000000    456.000000    464.000000    386.000000   \n",
      "\n",
      "                PTS  \n",
      "count  24624.000000  \n",
      "mean     510.116350  \n",
      "std      492.922981  \n",
      "min        0.000000  \n",
      "25%      106.000000  \n",
      "50%      364.000000  \n",
      "75%      778.000000  \n",
      "max     4029.000000  \n",
      "\n",
      "[8 rows x 49 columns]\n",
      "============================================================\n",
      "\n"
     ]
    }
   ],
   "source": [
    "line_break = '='*60\n",
    "\n",
    "# Look at head\n",
    "print('{}\\n{}\\n{}\\n'.format('HEAD', nba.head(5), line_break))\n",
    "\n",
    "# Look at tail\n",
    "print('{}\\n{}\\n{}\\n'.format('TAIL', nba.head(5), line_break))\n",
    "\n",
    "# Look at info\n",
    "print('{}\\n{}\\n{}\\n'.format('INFORMATION', nba.info(), line_break))\n",
    "\n",
    "# Look at describe\n",
    "print('{}\\n{}\\n{}\\n'.format('DESCRIBE', nba.describe(), line_break))"
   ]
  },
  {
   "cell_type": "markdown",
   "metadata": {},
   "source": [
    "# Shooting Percentage"
   ]
  },
  {
   "cell_type": "code",
   "execution_count": 22,
   "metadata": {},
   "outputs": [
    {
     "data": {
      "text/plain": [
       "0.500    235\n",
       "0.000    201\n",
       "0.521    188\n",
       "0.533    186\n",
       "0.530    182\n",
       "Name: TS%, dtype: int64"
      ]
     },
     "execution_count": 22,
     "metadata": {},
     "output_type": "execute_result"
    }
   ],
   "source": [
    "# Use pandas .value_counts() to look at the distribution of TS%\n",
    "shoot_percentage = nba['TS%'].value_counts()\n",
    "shoot_percentage.head()"
   ]
  },
  {
   "cell_type": "code",
   "execution_count": 23,
   "metadata": {},
   "outputs": [
    {
     "data": {
      "image/png": "[encoded data removed]",
      "text/plain": [
       "<Figure size 432x288 with 1 Axes>"
      ]
     },
     "metadata": {
      "needs_background": "light"
     },
     "output_type": "display_data"
    }
   ],
   "source": [
    "# Use pandas .hist() method to visualize distribution of TS%\n",
    "nba['TS%'].hist(bins=20)\n",
    "\n",
    "# Make it pretty\n",
    "ax = plt.gca()\n",
    "ax.set_title(\"True Shooting % Across all NBA Seasons\")\n",
    "ax.set_xlabel(\"True Shooting Percentage\")\n",
    "ax.set_ylabel(\"# of Players\")\n",
    "\n",
    "# \"print\" the plot\n",
    "plt.show()"
   ]
  },
  {
   "cell_type": "code",
   "execution_count": 26,
   "metadata": {},
   "outputs": [
    {
     "name": "stdout",
     "output_type": "stream",
     "text": [
      "First year: 1950.0\n",
      "Last year: 2017.0\n"
     ]
    },
    {
     "data": {
      "text/plain": [
       "pandas.core.frame.DataFrame"
      ]
     },
     "execution_count": 26,
     "metadata": {},
     "output_type": "execute_result"
    }
   ],
   "source": [
    "# Prep our data to answer the question asked by grabbing data from the year 1950 & 2017\n",
    "first_year = nba['Year'].min()\n",
    "last_year = nba['Year'].max()\n",
    "\n",
    "# Print years to confirm\n",
    "print('First year: {}\\nLast year: {}'.format(first_year, last_year))\n",
    "\n",
    "# Create new dataframes with records from specific years\n",
    "nba_1950 = nba[nba['Year'] == first_year]\n",
    "nba_2017 = nba[nba['Year'] == last_year]\n"
   ]
  },
  {
   "cell_type": "code",
   "execution_count": 27,
   "metadata": {},
   "outputs": [
    {
     "data": {
      "image/png": "[encoded data removed]",
      "text/plain": [
       "<Figure size 432x288 with 1 Axes>"
      ]
     },
     "metadata": {
      "needs_background": "light"
     },
     "output_type": "display_data"
    }
   ],
   "source": [
    "# Histogram of Shooting Percentage in 1950\n",
    "nba_1950['TS%'].hist(bins=20)\n",
    "\n",
    "# Make it pretty\n",
    "ax = plt.gca()\n",
    "ax.set_title(\"True Shooting in 1950\")\n",
    "ax.set_xlabel(\"True Shooting Percentage\")\n",
    "ax.set_ylabel(\"# of Players\")\n",
    "\n",
    "# \"print\" the plot\n",
    "plt.show()"
   ]
  },
  {
   "cell_type": "code",
   "execution_count": 28,
   "metadata": {},
   "outputs": [
    {
     "data": {
      "image/png": "[encoded data removed]",
      "text/plain": [
       "<Figure size 432x288 with 1 Axes>"
      ]
     },
     "metadata": {
      "needs_background": "light"
     },
     "output_type": "display_data"
    }
   ],
   "source": [
    "# Histogram of Shooting Percentage in 2017\n",
    "nba_2017['TS%'].hist(bins=20)\n",
    "\n",
    "# Make it pretty\n",
    "ax = plt.gca()\n",
    "ax.set_title(\"True Shooting % in 2017\")\n",
    "ax.set_xlabel(\"True Shooting Percentage\")\n",
    "ax.set_ylabel(\"# of Players\")\n",
    "\n",
    "# \"print\" the plot\n",
    "plt.show()"
   ]
  },
  {
   "cell_type": "markdown",
   "metadata": {},
   "source": [
    "### Using only the data from the Histograms for both years... \n",
    "\n",
    "### What has happened to the True Shooting Percentage between 1950 and 2017?"
   ]
  },
  {
   "cell_type": "code",
   "execution_count": null,
   "metadata": {},
   "outputs": [],
   "source": [
    "# Provide your short answer here\n",
    "\n"
   ]
  },
  {
   "cell_type": "markdown",
   "metadata": {},
   "source": [
    "# Does The College that a player attended affect performance in NBA?"
   ]
  },
  {
   "cell_type": "markdown",
   "metadata": {},
   "source": [
    "#### Import player data"
   ]
  },
  {
   "cell_type": "code",
   "execution_count": 31,
   "metadata": {},
   "outputs": [],
   "source": [
    "players = pd.read_csv('../../data/nba_1950/player_data.csv')"
   ]
  },
  {
   "cell_type": "code",
   "execution_count": 32,
   "metadata": {},
   "outputs": [],
   "source": [
    "top_5_colleges = ['University of Kentucky',\n",
    "                  'Duke Univeristy',\n",
    "                  'University of Kansas',\n",
    "                  'Syracuse University',\n",
    "                  'University of California, Los Angeles']"
   ]
  },
  {
   "cell_type": "code",
   "execution_count": 33,
   "metadata": {},
   "outputs": [
    {
     "data": {
      "text/plain": [
       "University of Kentucky                   99\n",
       "University of California, Los Angeles    91\n",
       "University of North Carolina             87\n",
       "University of Kansas                     72\n",
       "Duke University                          71\n",
       "Indiana University                       60\n",
       "University of Notre Dame                 56\n",
       "University of Louisville                 55\n",
       "St. John's University                    51\n",
       "University of Arizona                    51\n",
       "Name: college, dtype: int64"
      ]
     },
     "execution_count": 33,
     "metadata": {},
     "output_type": "execute_result"
    }
   ],
   "source": [
    "# Lets take a look at college column of players\n",
    "players['college'].value_counts().head(10)"
   ]
  },
  {
   "cell_type": "code",
   "execution_count": 34,
   "metadata": {},
   "outputs": [],
   "source": [
    "# We'll use Pandas .isin() method to check college column against\n",
    "in_top_5_colleges = players['college'].isin(top_5_colleges)"
   ]
  },
  {
   "cell_type": "code",
   "execution_count": 35,
   "metadata": {},
   "outputs": [
    {
     "data": {
      "text/plain": [
       "2      Kareem Abdul-Jabbar\n",
       "19            Jordan Adams\n",
       "22          Rafael Addison\n",
       "23             Bam Adebayo\n",
       "26           Arron Afflalo\n",
       "39            Cole Aldrich\n",
       "42         Cliff Alexander\n",
       "55            Lucius Allen\n",
       "63          Darrell Allums\n",
       "81          Derek Anderson\n",
       "91           Kyle Anderson\n",
       "102           Ike Anigbogu\n",
       "107        Carmelo Anthony\n",
       "120           Trevor Ariza\n",
       "134         Darrell Arthur\n",
       "157       Kelenna Azubuike\n",
       "171            Toby Bailey\n",
       "182             Lonzo Ball\n",
       "195           Cliff Barker\n",
       "199          Don Barksdale\n",
       "Name: name, dtype: object"
      ]
     },
     "execution_count": 35,
     "metadata": {},
     "output_type": "execute_result"
    }
   ],
   "source": [
    "# index entire players df by \"in_top_5\"\n",
    "players_in_top_5 = players[in_top_5_colleges]['name']\n",
    "players_in_top_5.head(20)"
   ]
  },
  {
   "cell_type": "code",
   "execution_count": 36,
   "metadata": {},
   "outputs": [],
   "source": [
    "# We'll use Pandas .isin() method to check players column in nba \n",
    "# against the players_in_top_5 series we just constructed\n",
    "in_top_colleges = nba['Player'].isin(players_in_top_5)"
   ]
  },
  {
   "cell_type": "code",
   "execution_count": 37,
   "metadata": {},
   "outputs": [],
   "source": [
    "# We will divide all of the rows of nba into 2 dataframes, \n",
    "# those players who attended the top colleges, and those who did not\n",
    "top_college = nba[in_top_colleges]\n",
    "bottom_college = nba[~in_top_colleges]"
   ]
  },
  {
   "cell_type": "code",
   "execution_count": 38,
   "metadata": {},
   "outputs": [
    {
     "data": {
      "image/png": "[encoded data removed]",
      "text/plain": [
       "<Figure size 432x288 with 1 Axes>"
      ]
     },
     "metadata": {
      "needs_background": "light"
     },
     "output_type": "display_data"
    }
   ],
   "source": [
    "# Plot the Players NOT FROM Top 5\n",
    "bottom_college['PER'].hist(bins=50) \n",
    "\n",
    "# Make it pretty\n",
    "ax = plt.gca()\n",
    "ax.set_title(\"PER for players NOT FROM Top 5 Colleges\")\n",
    "ax.set_xlabel(\"Player Efficiency Rating\")\n",
    "ax.set_ylabel(\"# of Players\")\n",
    "\n",
    "# \"print\" the plot\n",
    "plt.show()"
   ]
  },
  {
   "cell_type": "code",
   "execution_count": 39,
   "metadata": {},
   "outputs": [
    {
     "data": {
      "image/png": "[encoded data removed]",
      "text/plain": [
       "<Figure size 432x288 with 1 Axes>"
      ]
     },
     "metadata": {
      "needs_background": "light"
     },
     "output_type": "display_data"
    }
   ],
   "source": [
    "# Plot the Players FROM Top 5\n",
    "top_college['PER'].hist(bins=50) \n",
    "\n",
    "# Make it pretty\n",
    "ax = plt.gca()\n",
    "ax.set_title(\"PER for players FROM Top 5 Colleges\")\n",
    "ax.set_xlabel(\"Player Efficiency Rating\")\n",
    "ax.set_ylabel(\"# of Players\")\n",
    "\n",
    "# \"print\" the plot\n",
    "plt.show()"
   ]
  },
  {
   "cell_type": "markdown",
   "metadata": {},
   "source": [
    "### What conclusions can we draw about these 2 groups?"
   ]
  },
  {
   "cell_type": "code",
   "execution_count": null,
   "metadata": {},
   "outputs": [],
   "source": [
    "# Provide your short answer here\n",
    "# What could we do better? ..."
   ]
  }
 ],
 "metadata": {
  "kernelspec": {
   "display_name": "Python 3",
   "language": "python",
   "name": "python3"
  },
  "language_info": {
   "codemirror_mode": {
    "name": "ipython",
    "version": 3
   },
   "file_extension": ".py",
   "mimetype": "text/x-python",
   "name": "python",
   "nbconvert_exporter": "python",
   "pygments_lexer": "ipython3",
   "version": "3.7.3"
  }
 },
 "nbformat": 4,
 "nbformat_minor": 2
}
