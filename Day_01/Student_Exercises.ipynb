{
 "cells": [
  {
   "cell_type": "markdown",
   "metadata": {},
   "source": [
    "# Math Exercise\n",
    "\n",
    "Now it's your turn! Go to the Python [Math Docs](https://www.programiz.com/python-programming/modules/math) and select one of the following math functions:\n",
    "\n",
    "- Calculate the area of a triangle \n",
    "    \n",
    "- Calculate the area of a circle\n",
    "    \n",
    "- Calculate the length of an unknown side of a right triangle, given two sides that are known\n",
    "\n",
    "- Calculate the area of a room"
   ]
  },
  {
   "cell_type": "code",
   "execution_count": 1,
   "metadata": {
    "pycharm": {
     "is_executing": false
    }
   },
   "outputs": [],
   "source": [
    "# Place your code for the math exercise below\n",
    "\n",
    "\n",
    "\n"
   ]
  },
  {
   "cell_type": "markdown",
   "metadata": {},
   "source": [
    "# Numpy & Matplotlib Exercise\n",
    "\n",
    "#### Create 3 separate functions:\n",
    "- First function will return a random number, either zero or one representing heads or tails\n",
    "- Next function will use the first one to simulate n number of coin flips\n",
    "- Last one will incorporate both prior functions to simulate n number of simulations"
   ]
  },
  {
   "cell_type": "code",
   "execution_count": 3,
   "metadata": {},
   "outputs": [],
   "source": [
    "def flip_coin():\n",
    "    \"\"\"\n",
    "        Info:\n",
    "            This function will return a random number, either zero or one, representing heads or tails\n",
    "        Params:\n",
    "            None\n",
    "        Output:\n",
    "            value: Integer\n",
    "    \"\"\"\n",
    "    # YOUR CODE GOES HERE\n",
    "    return value"
   ]
  },
  {
   "cell_type": "code",
   "execution_count": 4,
   "metadata": {},
   "outputs": [],
   "source": [
    "def coin_game(num_flips):\n",
    "    \"\"\"\n",
    "        Info:\n",
    "            This function will return a list containing integers which represent the results of a coin flip\n",
    "        Params:\n",
    "            num_flips: Integer\n",
    "        Output:\n",
    "            value: List of integers\n",
    "    \"\"\"\n",
    "    # YOUR CODE GOES HERE\n",
    "    return value"
   ]
  },
  {
   "cell_type": "code",
   "execution_count": 5,
   "metadata": {},
   "outputs": [],
   "source": [
    "def run_sims(num_sims, num_flips):\n",
    "    \"\"\"\n",
    "        Info:\n",
    "            This function will execute n number of simulations, n number of flips and returns a list\n",
    "            containing the sum of all times each simulation landed on tails\n",
    "        Params:\n",
    "            num_sims: Integer\n",
    "            num_flips: Integer\n",
    "        Output:\n",
    "            value: List of integers\n",
    "    \"\"\"\n",
    "    # YOUR CODE GOES HERE\n",
    "    return value"
   ]
  },
  {
   "cell_type": "code",
   "execution_count": null,
   "metadata": {},
   "outputs": [],
   "source": []
  },
  {
   "cell_type": "markdown",
   "metadata": {},
   "source": [
    "\n"
   ]
  }
 ],
 "metadata": {
  "kernelspec": {
   "display_name": "Python 3",
   "language": "python",
   "name": "python3"
  },
  "language_info": {
   "codemirror_mode": {
    "name": "ipython",
    "version": 3
   },
   "file_extension": ".py",
   "mimetype": "text/x-python",
   "name": "python",
   "nbconvert_exporter": "python",
   "pygments_lexer": "ipython3",
   "version": "3.7.3"
  }
 },
 "nbformat": 4,
 "nbformat_minor": 2
}
