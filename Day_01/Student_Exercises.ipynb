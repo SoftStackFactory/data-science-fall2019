{
 "cells": [
  {
   "cell_type": "markdown",
   "metadata": {},
   "source": [
    "# Math Exercise\n",
    "\n",
    "Now it's your turn! Go to the Python [Math Docs](https://www.programiz.com/python-programming/modules/math) and select one of the following math functions:\n",
    "\n",
    "- Calculate the area of a triangle \n",
    "    \n",
    "- Calculate the area of a circle\n",
    "    \n",
    "- Calculate the length of an unknown side of a right triangle, given two sides that are known\n",
    "\n",
    "- Calculate the area of a room"
   ]
  },
  {
   "cell_type": "code",
   "execution_count": 1,
   "metadata": {
    "pycharm": {
     "is_executing": false
    }
   },
   "outputs": [],
   "source": [
    "# Place your code for the math exercise below\n",
    "\n",
    "\n",
    "\n"
   ]
  },
  {
   "cell_type": "markdown",
   "metadata": {},
   "source": [
    "# Numpy & Matplotlib Exercise\n",
    "\n",
    "#### Create 3 separate functions:\n",
    "- First function will return a random number, either zero or one representing heads or tails\n",
    "- Next function will use the first one to simulate n number of coin flips\n",
    "- Last one will incorporate both prior functions to simulate n number of simulations"
   ]
  },
  {
   "cell_type": "code",
   "execution_count": 3,
   "metadata": {},
   "outputs": [],
   "source": [
    "def flip_coin():\n",
    "    \"\"\"\n",
    "        Info:\n",
    "            This function will return a random number, either zero or one, representing heads or tails\n",
    "        Params:\n",
    "            None\n",
    "        Output:\n",
    "            value: Integer\n",
    "    \"\"\"\n",
    "    # YOUR CODE GOES HERE\n",
    "    return value"
   ]
  },
  {
   "cell_type": "code",
   "execution_count": 4,
   "metadata": {},
   "outputs": [],
   "source": [
    "def coin_game(num_flips):\n",
    "    \"\"\"\n",
    "        Info:\n",
    "            This function will return a list containing integers which represent the results of a coin flip\n",
    "        Params:\n",
    "            num_flips: Integer\n",
    "        Output:\n",
    "            value: List of integers\n",
    "    \"\"\"\n",
    "    # YOUR CODE GOES HERE\n",
    "    return value"
   ]
  },
  {
   "cell_type": "code",
   "execution_count": 5,
   "metadata": {},
   "outputs": [],
   "source": [
    "def run_sims(num_sims, num_flips):\n",
    "    \"\"\"\n",
    "        Info:\n",
    "            This function will execute n number of simulations, n number of flips and returns a list\n",
    "            containing the sum of all times each simulation landed on tails\n",
    "        Params:\n",
    "            num_sims: Integer\n",
    "            num_flips: Integer\n",
    "        Output:\n",
    "            value: List of integers\n",
    "    \"\"\"\n",
    "    # YOUR CODE GOES HERE\n",
    "    return value"
   ]
  },
  {
   "cell_type": "markdown",
   "metadata": {},
   "source": [
    "#### Run Simulation & Plot the distribution\n",
    "\n",
    "The below cell will test your run_sims function for 1,000 simulations consisting of 10 flips per simulation.\n",
    "\n",
    "After the simulation runs, a histogram displaying the distribution should be present."
   ]
  },
  {
   "cell_type": "code",
   "execution_count": null,
   "metadata": {},
   "outputs": [],
   "source": [
    "# Import libraries\n",
    "import numpy as np\n",
    "import matplotlib.pyplot as plt\n",
    "\n",
    "# Simulate 1,000 simulations consisting of 10 flips per simulation\n",
    "all_tails = run_sims(1000, 10)\n",
    "\n",
    "# Plot results\n",
    "plt.hist(all_tails)\n",
    "plt.ylabel(\"Freq of Simulations\")\n",
    "plt.xlabel(\"Tails / Total Flips\")\n",
    "plt.show()\n"
   ]
  },
  {
   "cell_type": "markdown",
   "metadata": {},
   "source": [
    "# Pandas Exercise\n",
    "\n",
    "Now it's your turn! Create a function for one of the following:\n",
    "\n",
    "- Renames columns in a dataframe \n",
    "    \n",
    "- Removes empty records in a dataframe\n",
    "    \n",
    "- Sorts records in a dataframe\n",
    "\n",
    "Go to the [Pandas](https://pandas.pydata.org/pandas-docs/version/0.25) Documentation or [Chris Albon](https://pandas.pydata.org/pandas-docs/version/0.25) site for reference."
   ]
  },
  {
   "cell_type": "code",
   "execution_count": null,
   "metadata": {},
   "outputs": [],
   "source": [
    "def rename_columns(dataframe, column_names):\n",
    "    \"\"\"\n",
    "        Info:\n",
    "            This function will rename all the columns of a pandas dataframe\n",
    "        Params:\n",
    "            dataframe (type: pandas dataframe)\n",
    "            column_names: (type: List)\n",
    "        Output:\n",
    "            dataframe (type: pandas dataframe)\n",
    "    \"\"\"\n",
    "    # YOUR CODE GOES HERE\n",
    "    return dataframe"
   ]
  },
  {
   "cell_type": "code",
   "execution_count": null,
   "metadata": {},
   "outputs": [],
   "source": [
    "def drop_record_by_value(dataframe, column_name, column_value):\n",
    "    \"\"\"\n",
    "        Info:\n",
    "            This function will drop records that contain a given value in a given column\n",
    "        Params:\n",
    "            dataframe: Target dataframe\n",
    "            column_name: Column of focus\n",
    "            column_value: Target value\n",
    "        Output:\n",
    "            new_df (type: pandas dataframe)\n",
    "    \"\"\"\n",
    "    # YOUR CODE GOES HERE\n",
    "    return new_df"
   ]
  },
  {
   "cell_type": "code",
   "execution_count": 1,
   "metadata": {},
   "outputs": [],
   "source": [
    "def sort_records(dataframe, column_name):\n",
    "    \"\"\"\n",
    "        Info:\n",
    "            This function will return a dataframe in sorted order by column name given\n",
    "        Params:\n",
    "            dataframe: (type: pandas dataframe)\n",
    "            column_name: Can be a column name or list of column names to sort by\n",
    "        Output:\n",
    "            new_df (type: pandas dataframe)\n",
    "    \"\"\"\n",
    "    return new_df"
   ]
  }
 ],
 "metadata": {
  "kernelspec": {
   "display_name": "Python 3",
   "language": "python",
   "name": "python3"
  },
  "language_info": {
   "codemirror_mode": {
    "name": "ipython",
    "version": 3
   },
   "file_extension": ".py",
   "mimetype": "text/x-python",
   "name": "python",
   "nbconvert_exporter": "python",
   "pygments_lexer": "ipython3",
   "version": "3.7.3"
  }
 },
 "nbformat": 4,
 "nbformat_minor": 2
}
