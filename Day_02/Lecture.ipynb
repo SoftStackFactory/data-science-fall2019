{
 "cells": [
  {
   "cell_type": "markdown",
   "metadata": {},
   "source": [
    "# Pandas Review\n",
    "\n",
    "### Before getting into Stats, lets go over a few Pandas examples:\n",
    "- ##### Working with CSVs\n",
    "    - Assigning path names\n",
    "    - [Reading CSVs](https://pandas.pydata.org/pandas-docs/stable/reference/api/pandas.read_csv.html)\n",
    "    - [Writing CSVs](https://pandas.pydata.org/pandas-docs/stable/reference/api/pandas.DataFrame.to_csv.html)\n",
    "- ##### How to get statistics of a dataframe\n",
    "    - [Describe](https://pandas.pydata.org/pandas-docs/stable/reference/api/pandas.DataFrame.describe.html)\n",
    "    - [Info](https://pandas.pydata.org/pandas-docs/stable/reference/api/pandas.DataFrame.info.html)\n",
    "    - [Shape](https://pandas.pydata.org/pandas-docs/stable/reference/api/pandas.DataFrame.shape.html)\n",
    "- ##### Visual inspection of the dataframe\n",
    "    - [head](https://pandas.pydata.org/pandas-docs/stable/reference/api/pandas.DataFrame.head.html)\n",
    "    - [tail](https://pandas.pydata.org/pandas-docs/stable/reference/api/pandas.DataFrame.tail.html)\n",
    "- ##### Introduce Pandas methods\n",
    "    - [isin](https://pandas.pydata.org/pandas-docs/stable/reference/api/pandas.DataFrame.isin.html)\n",
    "    - [value_counts](https://pandas.pydata.org/pandas-docs/stable/reference/api/pandas.Series.value_counts.html)"
   ]
  },
  {
   "cell_type": "code",
   "execution_count": null,
   "metadata": {
    "pycharm": {
     "is_executing": false
    }
   },
   "outputs": [],
   "source": [
    "# Import Libraries\n",
    "import pandas as pd\n",
    "\n",
    "# Create variable to assign filepath\n",
    "filepath = '../data/iris.csv'\n",
    "\n",
    "# Read CSV file to dataframe\n",
    "df = pd.read_csv(filepath)"
   ]
  },
  {
   "cell_type": "markdown",
   "metadata": {},
   "source": [
    "#### Get dataframe statistics"
   ]
  },
  {
   "cell_type": "code",
   "execution_count": null,
   "metadata": {},
   "outputs": [],
   "source": [
    "# Look at shape\n",
    "print('DF Shape')\n",
    "print(df.shape)"
   ]
  },
  {
   "cell_type": "code",
   "execution_count": null,
   "metadata": {},
   "outputs": [],
   "source": [
    "# Look at info\n",
    "df.info()"
   ]
  },
  {
   "cell_type": "code",
   "execution_count": null,
   "metadata": {},
   "outputs": [],
   "source": [
    "# Look at describe\n",
    "df.describe()"
   ]
  },
  {
   "cell_type": "markdown",
   "metadata": {},
   "source": [
    "#### Visual inspection of head & tail of dataframe"
   ]
  },
  {
   "cell_type": "code",
   "execution_count": null,
   "metadata": {},
   "outputs": [],
   "source": [
    "df.head()"
   ]
  },
  {
   "cell_type": "code",
   "execution_count": null,
   "metadata": {},
   "outputs": [],
   "source": [
    "df.tail()"
   ]
  },
  {
   "cell_type": "markdown",
   "metadata": {},
   "source": [
    "#### Pandas isin()\n",
    "\n",
    "Pandas isin() method is used to filter data frames. isin() method helps in selecting rows with having a particular(or Multiple) value in a particular column.\n",
    "\n",
    "[isin Docs](https://pandas.pydata.org/pandas-docs/stable/reference/api/pandas.DataFrame.isin.html)"
   ]
  },
  {
   "cell_type": "code",
   "execution_count": null,
   "metadata": {},
   "outputs": [],
   "source": [
    "# This will return a series of bool values based on the SepalLengthCm column\n",
    "# If the value is 6.5, return true\n",
    "new = df[\"SepalLengthCm\"].isin([6.5]) \n",
    "  \n",
    "# displaying data with SepalLengthCm = 6.5 only \n",
    "new_df = df[new].head()"
   ]
  },
  {
   "cell_type": "markdown",
   "metadata": {},
   "source": [
    "#### Pandas value_counts()\n",
    "\n",
    "Pandas Series.value_counts() function return a Series containing counts of unique values. The resulting object will be in descending order so that the first element is the most frequently-occurring element. Excludes NA values by default.\n",
    "\n",
    "[value_counts Docs](https://pandas.pydata.org/pandas-docs/stable/reference/api/pandas.Series.value_counts.html)"
   ]
  },
  {
   "cell_type": "code",
   "execution_count": null,
   "metadata": {},
   "outputs": [],
   "source": [
    "# This will return the count of each occurance of a value within the selected column\n",
    "df['Species'].value_counts()"
   ]
  },
  {
   "cell_type": "markdown",
   "metadata": {},
   "source": [
    "#### Save the data to a new CSV\n"
   ]
  },
  {
   "cell_type": "code",
   "execution_count": null,
   "metadata": {},
   "outputs": [],
   "source": [
    "# Save that new dataframe to CSV and name it new_csv.csv\n",
    "new_df.to_csv('new_csv.csv', index=None)"
   ]
  },
  {
   "cell_type": "markdown",
   "metadata": {},
   "source": [
    "# Time to pair up for a Pandas Exercise!"
   ]
  },
  {
   "cell_type": "markdown",
   "metadata": {},
   "source": [
    "# Basic Statistical Functions\n",
    "\n",
    "Statistics is a field of study concerned with collecting and analyzing data. \n",
    "\n",
    "A well trained statistician is able to use the conclusions borne out from these analyses, to help a business make better decisions.\n",
    "\n",
    "Two main types of *activities* in Statistics: \n",
    "- Descriptive statistics: \n",
    "> Encompasses the many tools used to *DESCRIBE* data \n",
    "- Inferential statistics: \n",
    "> Encompasses the many tools used to *INFER* from data.   \n"
   ]
  },
  {
   "cell_type": "markdown",
   "metadata": {},
   "source": [
    "### Mean\n",
    "\n",
    "- The Central Tendency of a set refers to the general behavior of the set at its *middle*\n",
    "\n",
    "- Mean and Median are just 2 different definitions for this \"middle\" of the set\n",
    "\n",
    "- Mean - The *AVERAGE* value of a set\n",
    "\n",
    "- The mean can be too sensitive to outliers, which is one reason why the median is sometimes used instead of the mean.\n",
    "\n",
    "Given a set X with n items: \n",
    "> X = (X1, X2, X3, ... Xn)\n",
    "\n",
    "The MEAN can be generalized as: \n",
    "> MEAN = (1/n) * (X1 + X2 + X3 + ... + Xn)\n",
    "\n",
    "#### Example:  Find MEAN for X = [1,10,3,4,7]\n",
    "\n",
    "    MEAN = (1/5) * (1 + 3 + 4 + 7 + 10)      = (1/5) * (25) = 25/5 = 5\n",
    "    MEAN  = 5\n",
    "    \n",
    "Now lets use Numpy to verify our example..."
   ]
  },
  {
   "cell_type": "code",
   "execution_count": null,
   "metadata": {},
   "outputs": [],
   "source": [
    "# Import Libraries\n",
    "import numpy as np\n",
    "\n",
    "# Mock data\n",
    "a_set = 1,10,3,4,7\n",
    "\n",
    "mean = np.mean(a_set)\n",
    "\n",
    "print(\"MEAN = {}\".format(mean))"
   ]
  },
  {
   "cell_type": "markdown",
   "metadata": {},
   "source": [
    "### Medium\n",
    "- The MIDDLE value of an ORDERED set\n",
    "\n",
    "Given an ordered set X with n items: \n",
    "> X = (X1, X2, X3, ... Xn)\n",
    "\n",
    "The MEDIAN can be generalized as:\n",
    "- If n = ODD\n",
    "> MEDIAN = X((n/2) + 1) \n",
    "\n",
    "- If n = EVEN\n",
    "> MEDIAN = 1/2 * [X(n/2) + X((n/2) + 1)] \n",
    "\n",
    "#### Example:  Find MEAN for X = [1, 3, 4, 7, 10]\n",
    "\n",
    "    MEDIAN = X(5/2 + 1) =  X(2 + 1) = X(3) = 4\n",
    "    MEDIAN = 4\n",
    "    \n",
    "Now lets use Numpy to verify our example..."
   ]
  },
  {
   "cell_type": "code",
   "execution_count": null,
   "metadata": {},
   "outputs": [],
   "source": [
    "# Import Libraries\n",
    "import numpy as np\n",
    "\n",
    "# Mock data\n",
    "a_set = 1,10,3,4,7\n",
    "\n",
    "median = np.median(a_set)\n",
    "\n",
    "print(\"MEDIAN = {}\".format(median))"
   ]
  },
  {
   "cell_type": "markdown",
   "metadata": {},
   "source": [
    "In this case we had the very same set but we calculated a different value for our Central Tendecy. \n",
    "\n",
    "MEAN = 5 || MEDIAN = 4"
   ]
  },
  {
   "cell_type": "markdown",
   "metadata": {},
   "source": [
    "### Variance and Standard Deviation\n",
    "\n",
    "Variance and Std. Deviation are values that refer to the \"spread\" of a dataset aka distance between the individual points of a given set.\n",
    "\n",
    "#### Variance\n",
    "\n",
    "The VARIANCE uses the MEAN to calculate spread\n",
    "\n",
    "Given an ordered set X with n items and MEAN M: \n",
    "> X = (X1, X2, X3, ... Xn) || mean = M\n",
    "\n",
    "The VARIANCE can be generalized below where X stands for each element in set:\n",
    "> VARIANCE = [ Sum[(X - MEAN)^2]] / n \n",
    "\n",
    "\n",
    "Formula:\n",
    "> $$\\sigma^2 = \\frac{\\displaystyle\\sum_{i=1}^{n}(x_i - M)^2} {n}$$\n",
    "\n",
    "#### Example:  Find VARIANCE for X = [1, 10, 3, 4, 7]\n",
    "Take each difference (Xi - MEAN). Square it. Then average the result:\n",
    "\n",
    "    σ2 = [ (1-5)^2 + (10-5)^2 + (3-5)^2 + (4-5)^2 + (7-5)^2 ] / 5\n",
    "    σ2 = [ (-4)^2 + (5)^2 + (-2)^2 + (-1)^2 + (2)^2 ] / 5\n",
    "    σ2 = [ 16 + 25 + 4 + 1 + 4 ] / 5\n",
    "    σ2 = [ 50 ] / 5\n",
    "    σ2 = 10.0\n",
    "    \n",
    "Now lets use Numpy to verify our example..."
   ]
  },
  {
   "cell_type": "code",
   "execution_count": null,
   "metadata": {},
   "outputs": [],
   "source": [
    "# Import Libraries\n",
    "import numpy as np\n",
    "\n",
    "# Mock data\n",
    "a_set = 1,10,3,4,7\n",
    "\n",
    "variance = np.var(a_set)\n",
    "\n",
    "print(\"VARIANCE = {}\".format(variance))"
   ]
  },
  {
   "cell_type": "markdown",
   "metadata": {},
   "source": [
    "#### Standard Deviation\n",
    "The STD Deviation is a measure of VARIANCE\n",
    "\n",
    "Given an ordered set X with n items and MEAN M: \n",
    "> X = (X1, X2, X3, ... Xn) || mean = M\n",
    "\n",
    "Formula:\n",
    "\n",
    "$$SD = \\sqrt{\\frac{\\displaystyle\\sum_{i=1}^{n}(x_i - M)^2} {n}}$$\n",
    "\n",
    "#### Example:  Find STANDARD DEVIATION for X = [1, 10, 3, 4, 7]\n",
    "Notice it is simply the square root of the variance equation\n",
    "\n",
    "    SD = Square Root(Variance)\n",
    "    SD = Square Root(10.0)\n",
    "    SD = 3.162277..."
   ]
  },
  {
   "cell_type": "code",
   "execution_count": null,
   "metadata": {},
   "outputs": [],
   "source": [
    "# Import Libraries\n",
    "import numpy as np\n",
    "\n",
    "# Mock data\n",
    "a_set = 1,10,3,4,7\n",
    "\n",
    "std_dev = np.std(a_set)\n",
    "\n",
    "print(\"STANDARD DEVIATION = {}\".format(std_dev))"
   ]
  },
  {
   "cell_type": "markdown",
   "metadata": {},
   "source": [
    "### Pulling It All Together!"
   ]
  },
  {
   "cell_type": "code",
   "execution_count": null,
   "metadata": {},
   "outputs": [],
   "source": [
    "# X is a Python List\n",
    "X = [37.89, 53.18, 27.31, 39.33, 44.64, 53.79, 11.11, 22.12, 19.55]\n",
    "\n",
    "# Sorting the data and printing it.\n",
    "X.sort()\n",
    "print(X)"
   ]
  },
  {
   "cell_type": "code",
   "execution_count": null,
   "metadata": {},
   "outputs": [],
   "source": [
    "# Using NumPy's built-in functions to Find Mean, Median, Variance \n",
    "# and Standard Deviation\n",
    "mean = np.mean(X)\n",
    "median = np.median(X)\n",
    "variance = np.var(X)\n",
    "sd = np.std(X)"
   ]
  },
  {
   "cell_type": "code",
   "execution_count": null,
   "metadata": {},
   "outputs": [],
   "source": [
    "# Printing the values\n",
    "print(\"Mean:\", mean)\n",
    "print(\"Median:\", median)\n",
    "print(\"Variance:\", variance)\n",
    "print(\"Standard Deviation:\", sd) "
   ]
  },
  {
   "cell_type": "markdown",
   "metadata": {},
   "source": [
    "# Time to pair up for a Exercise on Numpy Stats!"
   ]
  },
  {
   "cell_type": "markdown",
   "metadata": {},
   "source": [
    "# Descriptive Statistical Plots\n",
    "\n",
    "\n",
    "[Matplotlib](http://matplotlib.org/) is the most common charting package, see its [documentation](http://matplotlib.org/api/pyplot_api.html) for details, and its [examples](http://matplotlib.org/gallery.html#statistics) for inspiration."
   ]
  },
  {
   "cell_type": "markdown",
   "metadata": {},
   "source": [
    "### Line Chart"
   ]
  },
  {
   "cell_type": "code",
   "execution_count": null,
   "metadata": {},
   "outputs": [],
   "source": [
    "import matplotlib.pyplot as plt\n",
    "\n",
    "# Params set to change axis color as Colab theme is black\n",
    "# text is unreadable so they are changed to white\n",
    "params = {\"ytick.color\" : \"b\",\n",
    "          \"xtick.color\" : \"b\",\n",
    "          \"axes.labelcolor\" : \"b\",\n",
    "          \"axes.edgecolor\" : \"b\"}\n",
    "\n",
    "plt.rcParams.update(params)\n",
    "\n",
    "# list of random values\n",
    "x  = [1, 2, 3, 4, 5, 6, 7, 8, 9]\n",
    "y1 = [1, 3, 5, 3, 1, 3, 5, 3, 1]\n",
    "y2 = [2, 4, 6, 4, 2, 4, 6, 4, 2]\n",
    "\n",
    "# add legend label\n",
    "plt.plot(x, y1, label=\"line L\")\n",
    "plt.plot(x, y2, label=\"line H\")\n",
    "plt.plot()\n",
    "\n",
    "# add label for axis\n",
    "plt.xlabel(\"x axis\")\n",
    "plt.ylabel(\"y axis\")\n",
    "\n",
    "# add label for title\n",
    "title_obj = plt.title(\"Line Graph Example\")\n",
    "plt.setp(title_obj, color='b') \n",
    "plt.legend()\n",
    "\n",
    "# display chart\n",
    "plt.show()"
   ]
  },
  {
   "cell_type": "markdown",
   "metadata": {},
   "source": [
    "### Pie Chart"
   ]
  },
  {
   "cell_type": "code",
   "execution_count": null,
   "metadata": {},
   "outputs": [],
   "source": [
    "import matplotlib.pyplot as plt\n",
    "\n",
    "labels = 'S1', 'S2', 'S3'\n",
    "sections = [56, 66, 24]\n",
    "colors = ['c', 'g', 'y']\n",
    "\n",
    "plt.pie(sections, labels=labels, colors=colors,\n",
    "        startangle=90,\n",
    "        explode = (0.02, 0.02, 0.02), # specifies the fraction of the radius with which to offset each wedge\n",
    "        autopct = '%1.1f%%') # used to label the wedges with their numeric value\n",
    "\n",
    "plt.axis('equal') # Try commenting this out.\n",
    "title_obj = plt.title(\"Pie Chart Example\")\n",
    "plt.setp(title_obj, color='b') \n",
    "plt.show()"
   ]
  },
  {
   "cell_type": "markdown",
   "metadata": {},
   "source": [
    "### Bar Chart"
   ]
  },
  {
   "cell_type": "code",
   "execution_count": null,
   "metadata": {},
   "outputs": [],
   "source": [
    "import matplotlib.pyplot as plt\n",
    "\n",
    "# Look at index 4 and 6, which demonstrate overlapping cases.\n",
    "x1 = [1, 3, 4, 5, 6, 7, 9]\n",
    "y1 = [4, 7, 2, 4, 7, 8, 3]\n",
    "\n",
    "x2 = [2, 4, 6, 8, 10]\n",
    "y2 = [5, 6, 2, 6, 2]\n",
    "\n",
    "plt.bar(x1, y1, label=\"Blue Bar\", color='b')\n",
    "plt.bar(x2, y2, label=\"Green Bar\", color='g')\n",
    "plt.plot()\n",
    "\n",
    "plt.xlabel(\"bar number\")\n",
    "plt.ylabel(\"bar height\")\n",
    "title_obj = plt.title(\"Bar Chart Example\")\n",
    "plt.setp(title_obj, color='b') \n",
    "plt.legend()\n",
    "plt.show()"
   ]
  },
  {
   "cell_type": "markdown",
   "metadata": {},
   "source": [
    "### Histogram"
   ]
  },
  {
   "cell_type": "code",
   "execution_count": null,
   "metadata": {},
   "outputs": [],
   "source": [
    "import matplotlib.pyplot as plt\n",
    "import numpy as np\n",
    "\n",
    "# Use numpy to generate a bunch of random data in a bell curve around 5.\n",
    "n = 5 + np.random.randn(1000)\n",
    "\n",
    "m = [m for m in range(len(n))]\n",
    "plt.bar(m, n)\n",
    "title_obj = plt.title(\"Raw Data\")\n",
    "plt.setp(title_obj, color='b') \n",
    "plt.show()\n",
    "\n",
    "plt.hist(n, bins=20)\n",
    "title_obj = plt.title(\"Histogram\")\n",
    "plt.setp(title_obj, color='b') \n",
    "plt.show()\n",
    "\n",
    "plt.hist(n, cumulative=True, bins=20)\n",
    "title_obj = plt.title(\"Cumulative Histogram\")\n",
    "plt.setp(title_obj, color='b') \n",
    "plt.show()"
   ]
  },
  {
   "cell_type": "markdown",
   "metadata": {},
   "source": [
    "### Boxplot"
   ]
  },
  {
   "cell_type": "code",
   "execution_count": null,
   "metadata": {},
   "outputs": [],
   "source": [
    "import matplotlib.pyplot as plt\n",
    "\n",
    "## Create data\n",
    "np.random.seed(10)\n",
    "collectn_1 = np.random.normal(100, 10, 200)\n",
    "collectn_2 = np.random.normal(80, 30, 200)\n",
    "collectn_3 = np.random.normal(90, 20, 200)\n",
    "collectn_4 = np.random.normal(70, 25, 200)\n",
    "\n",
    "# combine these different collections into a list    \n",
    "data_to_plot = [collectn_1, collectn_2, collectn_3, collectn_4]\n",
    "\n",
    "# Create a figure instance\n",
    "fig = plt.figure(1, figsize=(9, 6))\n",
    "\n",
    "# Create an axes instance\n",
    "ax = fig.add_subplot(111)\n",
    "\n",
    "# Create the boxplot\n",
    "bp = ax.boxplot(data_to_plot)"
   ]
  },
  {
   "cell_type": "markdown",
   "metadata": {},
   "source": [
    "### Scatter Plot"
   ]
  },
  {
   "cell_type": "code",
   "execution_count": null,
   "metadata": {},
   "outputs": [],
   "source": [
    "import matplotlib.pyplot as plt\n",
    "\n",
    "# random list of cordinates\n",
    "x1 = [2, 3, 4]\n",
    "y1 = [5, 5, 5]\n",
    "x2 = [1, 2, 3, 4, 5]\n",
    "y2 = [2, 3, 2, 3, 4]\n",
    "y3 = [6, 8, 7, 8, 7]\n",
    "\n",
    "# plot points\n",
    "plt.scatter(x1, y1)\n",
    "plt.scatter(x2, y2, marker='v', color='r')\n",
    "plt.scatter(x2, y3, marker='^', color='m')\n",
    "\n",
    "# Add title\n",
    "title_obj = plt.title(\"Scatter Plot Example\")\n",
    "plt.setp(title_obj, color='b') \n",
    "\n",
    "# display chart\n",
    "plt.show()"
   ]
  },
  {
   "cell_type": "markdown",
   "metadata": {},
   "source": [
    "# Time to pair up for a Exercise on Descriptive Statistical Plots"
   ]
  }
 ],
 "metadata": {
  "kernelspec": {
   "display_name": "Python 3",
   "language": "python",
   "name": "python3"
  },
  "language_info": {
   "codemirror_mode": {
    "name": "ipython",
    "version": 3
   },
   "file_extension": ".py",
   "mimetype": "text/x-python",
   "name": "python",
   "nbconvert_exporter": "python",
   "pygments_lexer": "ipython3",
   "version": "3.7.3"
  }
 },
 "nbformat": 4,
 "nbformat_minor": 2
}
