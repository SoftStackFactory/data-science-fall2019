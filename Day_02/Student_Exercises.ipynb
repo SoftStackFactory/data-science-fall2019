{
 "cells": [
  {
   "cell_type": "markdown",
   "metadata": {},
   "source": [
    "# Pandas Exercise\n",
    "\n",
    "- Read CSV to dataframe\n",
    "- View Info and Shape\n",
    "- Use isin() method to filter by SepalLengthCm = 5.9\n",
    "- Create new dataframe consisting of only SepalLengthCm = 5.9\n",
    "- View the head & tail of new dataframe to confirm you filtered it correctly\n",
    "- Save the new dataframe to CSV"
   ]
  },
  {
   "cell_type": "code",
   "execution_count": null,
   "metadata": {
    "scrolled": false
   },
   "outputs": [],
   "source": []
  },
  {
   "cell_type": "markdown",
   "metadata": {},
   "source": [
    "# Numpy Stats Exercise\n",
    "\n",
    "- Use Pandas to read the iris dataset\n",
    "- Use Numpy to check the mean of any feature in the dataset\n",
    "- Use Numpy to check the standard of deviation of any feature in the dataset\n",
    "- Use Pandas .describe() to compare your Numpy results"
   ]
  },
  {
   "cell_type": "code",
   "execution_count": null,
   "metadata": {},
   "outputs": [],
   "source": []
  },
  {
   "cell_type": "markdown",
   "metadata": {},
   "source": [
    "# Descriptive Statistical Plots Exercise\n",
    "\n",
    "The purpose of this exercise is to get you comfortable with using and customizing graphing charts.\n",
    "\n",
    "- Select any of the charts we just reviewed and paste that code below and run the cell\n",
    "- In a new cell, paste that same code but now go to the documentation and look at ways you can modify the chart.\n",
    "    - Example: Change the font color\n",
    "    - Example: Adjust spacing"
   ]
  },
  {
   "cell_type": "code",
   "execution_count": null,
   "metadata": {},
   "outputs": [],
   "source": [
    "# Paste example here"
   ]
  },
  {
   "cell_type": "code",
   "execution_count": null,
   "metadata": {},
   "outputs": [],
   "source": [
    "# Modify the example here"
   ]
  }
 ],
 "metadata": {
  "kernelspec": {
   "display_name": "Python 3",
   "language": "python",
   "name": "python3"
  },
  "language_info": {
   "codemirror_mode": {
    "name": "ipython",
    "version": 3
   },
   "file_extension": ".py",
   "mimetype": "text/x-python",
   "name": "python",
   "nbconvert_exporter": "python",
   "pygments_lexer": "ipython3",
   "version": "3.7.3"
  }
 },
 "nbformat": 4,
 "nbformat_minor": 2
}
