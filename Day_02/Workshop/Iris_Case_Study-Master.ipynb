{
 "cells": [
  {
   "cell_type": "markdown",
   "metadata": {},
   "source": [
    "## Case Study with the Iris dataset\n",
    "\n",
    "![Iris Flowers](../../assets/images/iris.png)\n",
    "\n",
    "### Iris Flower:\n",
    "Iris is the family in the flower which contains the several species such as the iris.setosa, iris.versicolor, iris.virginica, etc."
   ]
  },
  {
   "cell_type": "markdown",
   "metadata": {},
   "source": [
    "## Imports"
   ]
  },
  {
   "cell_type": "code",
   "execution_count": null,
   "metadata": {
    "pycharm": {
     "is_executing": false
    }
   },
   "outputs": [],
   "source": [
    "import pandas as pd\n",
    "import matplotlib.pyplot as plt"
   ]
  },
  {
   "cell_type": "markdown",
   "metadata": {},
   "source": [
    "## Load Data"
   ]
  },
  {
   "cell_type": "code",
   "execution_count": null,
   "metadata": {},
   "outputs": [],
   "source": [
    "df = pd.read_csv('../../../data-science-fall2019/data/Iris.csv')\n",
    "\n",
    "# Set Id as Index\n",
    "df.set_index('Id',inplace=True)"
   ]
  },
  {
   "cell_type": "markdown",
   "metadata": {},
   "source": [
    "## Data Exploration"
   ]
  },
  {
   "cell_type": "code",
   "execution_count": null,
   "metadata": {},
   "outputs": [],
   "source": [
    "# View head\n",
    "df.head(4)"
   ]
  },
  {
   "cell_type": "code",
   "execution_count": null,
   "metadata": {},
   "outputs": [],
   "source": [
    "# View tail\n",
    "df.tail(4)"
   ]
  },
  {
   "cell_type": "code",
   "execution_count": null,
   "metadata": {},
   "outputs": [],
   "source": [
    "# View Info\n",
    "df.info()"
   ]
  },
  {
   "cell_type": "code",
   "execution_count": null,
   "metadata": {},
   "outputs": [],
   "source": [
    "# View Describe\n",
    "df.describe()"
   ]
  },
  {
   "cell_type": "markdown",
   "metadata": {},
   "source": [
    "## Visualizing Data"
   ]
  },
  {
   "cell_type": "markdown",
   "metadata": {},
   "source": [
    "#### Scatter plots for Petal Length for each species"
   ]
  },
  {
   "cell_type": "code",
   "execution_count": null,
   "metadata": {},
   "outputs": [],
   "source": [
    "# Isolate PetalLength & Species into a new dataframe\n",
    "df_scatter = df[['PetalLengthCm', 'PetalWidthCm', 'Species']]\n",
    "\n",
    "colors = ['red', 'orange', 'blue']\n",
    "species = ['Setosa', 'Versicolor', 'Virginica']\n",
    "\n",
    "for i in range(0, 3):    \n",
    "    plt.scatter(        \n",
    "        df_scatter['PetalWidthCm'],        \n",
    "        df_scatter['PetalLengthCm'],\n",
    "        color=colors[i],        \n",
    "        alpha=0.2,        \n",
    "        label=species[i]\n",
    "    )\n",
    "    \n",
    "plt.xlabel('petal width (cm)')\n",
    "plt.ylabel('petal length (cm)')\n",
    "plt.title('Iris dataset: petal length vs petal width')\n",
    "plt.legend(loc='lower right')\n",
    "\n",
    "plt.show()"
   ]
  },
  {
   "cell_type": "markdown",
   "metadata": {},
   "source": [
    "#### Pie Chart"
   ]
  },
  {
   "cell_type": "code",
   "execution_count": null,
   "metadata": {},
   "outputs": [],
   "source": [
    "# Set labels\n",
    "labels = ['Setosa', 'Versicolor', 'Virginica']\n",
    "\n",
    "# Get counts using Pandas .value_counts()\n",
    "sections = df['Species'].value_counts().tolist()\n",
    "\n",
    "colors = ['c', 'g', 'y']\n",
    "\n",
    "plt.pie(sections, labels=labels, colors=colors,\n",
    "        startangle=90,\n",
    "        explode = (0.02, 0.02, 0.02), # specifies the fraction of the radius with which to offset each wedge\n",
    "        autopct = '%1.1f%%') # used to label the wedges with their numeric value\n",
    "\n",
    "title_obj = plt.title(\"IRIS Count by Species\")\n",
    "plt.setp(title_obj, color='black') \n",
    "plt.show()\n",
    "\n"
   ]
  },
  {
   "cell_type": "markdown",
   "metadata": {},
   "source": [
    "#### Boxplots for Petal Length for each species"
   ]
  },
  {
   "cell_type": "code",
   "execution_count": null,
   "metadata": {},
   "outputs": [],
   "source": [
    "# Isolate PetalLength & Species into a new dataframe\n",
    "petal_length = df[['PetalLengthCm', 'Species']]\n",
    "\n",
    "# Review its head, shape and info\n",
    "print('Shape = {}\\n'.format(petal_length.shape))\n",
    "\n",
    "print('Info = {}\\n'.format(petal_length.info()))\n",
    "\n",
    "petal_length.head()"
   ]
  },
  {
   "cell_type": "code",
   "execution_count": null,
   "metadata": {},
   "outputs": [],
   "source": [
    "# Save the new dataframe you created\n",
    "petal_length.to_csv('boxplot_example.csv', index=None)\n",
    "\n",
    "# Create a new dataframe for setosa\n",
    "setosa = petal_length[\"Species\"].isin(['Iris-setosa']) \n",
    "df_setosa = petal_length[setosa]\n",
    "\n",
    "# Plot setosa boxplot\n",
    "plt.figure(figsize = (10, 7)) \n",
    "plt.title('Iris-setosa')\n",
    "df_setosa.boxplot()\n",
    "\n",
    "# Create a new dataframe for versicolor\n",
    "versicolor = petal_length[\"Species\"].isin(['Iris-versicolor']) \n",
    "df_versicolor = petal_length[versicolor]\n",
    "\n",
    "# Plot versicolor boxplot\n",
    "plt.figure(figsize = (10, 7)) \n",
    "plt.title('Iris-versicolor')\n",
    "df_versicolor.boxplot()\n",
    "\n",
    "# Create a new dataframe for virginica\n",
    "virginica = petal_length[\"Species\"].isin(['Iris-virginica']) \n",
    "df_virginica = petal_length[virginica]\n",
    "\n",
    "# Plot virginica boxplot\n",
    "plt.figure(figsize = (10, 7)) \n",
    "plt.title('Iris-virginica')\n",
    "df_virginica.boxplot()"
   ]
  },
  {
   "cell_type": "markdown",
   "metadata": {},
   "source": [
    "#### Histograms for Petal Length with 13 bins, 3 bins and 25 bins"
   ]
  },
  {
   "cell_type": "code",
   "execution_count": null,
   "metadata": {},
   "outputs": [],
   "source": [
    "# Create list with bin values\n",
    "bins = [13, 3, 25]\n",
    "\n",
    "# Loop thru bins\n",
    "for bin in bins:\n",
    "    plt.figure(figsize = (10, 7)) \n",
    "    x = df.PetalLengthCm \n",
    "\n",
    "    plt.hist(x, bins = bin, color = \"green\") \n",
    "    plt.title(\"Petal Length in cm\") \n",
    "    plt.xlabel(\"Petal_Length_cm\") \n",
    "    plt.ylabel(\"Count\") \n",
    "\n",
    "    plt.show()"
   ]
  },
  {
   "cell_type": "code",
   "execution_count": null,
   "metadata": {},
   "outputs": [],
   "source": []
  }
 ],
 "metadata": {
  "kernelspec": {
   "display_name": "Python 3",
   "language": "python",
   "name": "python3"
  },
  "language_info": {
   "codemirror_mode": {
    "name": "ipython",
    "version": 3
   },
   "file_extension": ".py",
   "mimetype": "text/x-python",
   "name": "python",
   "nbconvert_exporter": "python",
   "pygments_lexer": "ipython3",
   "version": "3.7.3"
  }
 },
 "nbformat": 4,
 "nbformat_minor": 2
}
