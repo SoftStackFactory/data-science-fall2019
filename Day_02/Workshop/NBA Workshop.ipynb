{
 "cells": [
  {
   "cell_type": "markdown",
   "metadata": {},
   "source": [
    "# How has the NBA changed since 1950?\n",
    "\n",
    "For this workshop we'll explore NBA data going all the way back to 1950! We'll explore the data and try to answer the question that was proposed to us which is, has the NBA changed since 1950 & does the college a player attends impact the success in the NBA.\n",
    "\n",
    "First, we'll compare shooting percentages from 1950 & 2017. We'll structure the data we want then we'll visualize the data to see what the data is telling us.\n",
    "\n",
    "After looking at percentages, we'll try to determine if the College that a player attended affects performance in NBA?\n",
    "\n",
    "##### Resources:\n",
    "- [Basketball Data Definitions](https://www.basketball-reference.com/about/glossary.html)"
   ]
  },
  {
   "cell_type": "markdown",
   "metadata": {},
   "source": [
    "#### Import Libraries"
   ]
  },
  {
   "cell_type": "code",
   "execution_count": null,
   "metadata": {},
   "outputs": [],
   "source": [
    "import numpy as np\n",
    "import pandas as pd\n",
    "import matplotlib.pyplot as plt"
   ]
  },
  {
   "cell_type": "markdown",
   "metadata": {},
   "source": [
    "#### Import Data"
   ]
  },
  {
   "cell_type": "code",
   "execution_count": null,
   "metadata": {},
   "outputs": [],
   "source": [
    "nba = pd.read_csv(\"../../data/nba_1950/season_stats.csv\")"
   ]
  },
  {
   "cell_type": "markdown",
   "metadata": {},
   "source": [
    "#### Quick feel for the data"
   ]
  },
  {
   "cell_type": "code",
   "execution_count": null,
   "metadata": {
    "scrolled": false
   },
   "outputs": [],
   "source": [
    "line_break = '='*60\n",
    "\n",
    "# Look at head\n",
    "print('{}\\n{}\\n{}\\n'.format('HEAD', nba.head(5), line_break))\n",
    "\n",
    "# Look at tail\n",
    "print('{}\\n{}\\n{}\\n'.format('TAIL', nba.head(5), line_break))\n",
    "\n",
    "# Look at info\n",
    "print('{}\\n{}\\n{}\\n'.format('INFORMATION', nba.info(), line_break))\n",
    "\n",
    "# Look at describe\n",
    "print('{}\\n{}\\n{}\\n'.format('DESCRIBE', nba.describe(), line_break))"
   ]
  },
  {
   "cell_type": "markdown",
   "metadata": {},
   "source": [
    "# Shooting Percentage"
   ]
  },
  {
   "cell_type": "code",
   "execution_count": null,
   "metadata": {},
   "outputs": [],
   "source": [
    "# Use pandas .value_counts() to look at the distribution of TS%\n",
    "shoot_percentage = nba['TS%'].value_counts()\n",
    "shoot_percentage.head()"
   ]
  },
  {
   "cell_type": "code",
   "execution_count": null,
   "metadata": {},
   "outputs": [],
   "source": [
    "# Use pandas .hist() method to visualize distribution of TS%\n",
    "nba['TS%'].hist(bins=20)\n",
    "\n",
    "# Make it pretty\n",
    "ax = plt.gca()\n",
    "ax.set_title(\"True Shooting % Across all NBA Seasons\")\n",
    "ax.set_xlabel(\"True Shooting Percentage\")\n",
    "ax.set_ylabel(\"# of Players\")\n",
    "\n",
    "# \"print\" the plot\n",
    "plt.show()"
   ]
  },
  {
   "cell_type": "code",
   "execution_count": null,
   "metadata": {},
   "outputs": [],
   "source": [
    "# Prep our data to answer the question asked by grabbing data from the year 1950 & 2017\n",
    "first_year = nba['Year'].min()\n",
    "last_year = nba['Year'].max()\n",
    "\n",
    "# Print years to confirm\n",
    "print('First year: {}\\nLast year: {}'.format(first_year, last_year))\n",
    "\n",
    "# Create new dataframes with records from specific years\n",
    "nba_1950 = nba[nba['Year'] == first_year]\n",
    "nba_2017 = nba[nba['Year'] == last_year]\n"
   ]
  },
  {
   "cell_type": "code",
   "execution_count": null,
   "metadata": {},
   "outputs": [],
   "source": [
    "# Histogram of Shooting Percentage in 1950\n",
    "nba_1950['TS%'].hist(bins=20)\n",
    "\n",
    "# Make it pretty\n",
    "ax = plt.gca()\n",
    "ax.set_title(\"True Shooting in 1950\")\n",
    "ax.set_xlabel(\"True Shooting Percentage\")\n",
    "ax.set_ylabel(\"# of Players\")\n",
    "\n",
    "# \"print\" the plot\n",
    "plt.show()"
   ]
  },
  {
   "cell_type": "code",
   "execution_count": null,
   "metadata": {},
   "outputs": [],
   "source": [
    "# Histogram of Shooting Percentage in 2017\n",
    "nba_2017['TS%'].hist(bins=20)\n",
    "\n",
    "# Make it pretty\n",
    "ax = plt.gca()\n",
    "ax.set_title(\"True Shooting % in 2017\")\n",
    "ax.set_xlabel(\"True Shooting Percentage\")\n",
    "ax.set_ylabel(\"# of Players\")\n",
    "\n",
    "# \"print\" the plot\n",
    "plt.show()"
   ]
  },
  {
   "cell_type": "markdown",
   "metadata": {},
   "source": [
    "### Using only the data from the Histograms for both years... \n",
    "\n",
    "### What has happened to the True Shooting Percentage between 1950 and 2017?"
   ]
  },
  {
   "cell_type": "code",
   "execution_count": null,
   "metadata": {},
   "outputs": [],
   "source": [
    "# Provide your short answer here\n",
    "\n"
   ]
  },
  {
   "cell_type": "markdown",
   "metadata": {},
   "source": [
    "# Does The College that a player attended affect performance in NBA?"
   ]
  },
  {
   "cell_type": "markdown",
   "metadata": {},
   "source": [
    "#### Import player data"
   ]
  },
  {
   "cell_type": "code",
   "execution_count": null,
   "metadata": {},
   "outputs": [],
   "source": [
    "players = pd.read_csv('../../data/nba_1950/player_data.csv')"
   ]
  },
  {
   "cell_type": "code",
   "execution_count": null,
   "metadata": {},
   "outputs": [],
   "source": [
    "top_5_colleges = ['University of Kentucky',\n",
    "                  'Duke Univeristy',\n",
    "                  'University of Kansas',\n",
    "                  'Syracuse University',\n",
    "                  'University of California, Los Angeles']"
   ]
  },
  {
   "cell_type": "code",
   "execution_count": null,
   "metadata": {},
   "outputs": [],
   "source": [
    "# Lets take a look at college column of players\n",
    "players['college'].value_counts().head(10)"
   ]
  },
  {
   "cell_type": "code",
   "execution_count": null,
   "metadata": {},
   "outputs": [],
   "source": [
    "# We'll use Pandas .isin() method to check college column against\n",
    "in_top_5_colleges = players['college'].isin(top_5_colleges)"
   ]
  },
  {
   "cell_type": "code",
   "execution_count": null,
   "metadata": {},
   "outputs": [],
   "source": [
    "# index entire players df by \"in_top_5\"\n",
    "players_in_top_5 = players[in_top_5_colleges]['name']\n",
    "players_in_top_5.head(20)"
   ]
  },
  {
   "cell_type": "code",
   "execution_count": null,
   "metadata": {},
   "outputs": [],
   "source": [
    "# We'll use Pandas .isin() method to check players column in nba \n",
    "# against the players_in_top_5 series we just constructed\n",
    "in_top_colleges = nba['Player'].isin(players_in_top_5)"
   ]
  },
  {
   "cell_type": "code",
   "execution_count": null,
   "metadata": {},
   "outputs": [],
   "source": [
    "# We will divide all of the rows of nba into 2 dataframes, \n",
    "# those players who attended the top colleges, and those who did not\n",
    "top_college = nba[in_top_colleges]\n",
    "bottom_college = nba[~in_top_colleges]"
   ]
  },
  {
   "cell_type": "code",
   "execution_count": null,
   "metadata": {},
   "outputs": [],
   "source": [
    "# Plot the Players NOT FROM Top 5\n",
    "bottom_college['PER'].hist(bins=50) \n",
    "\n",
    "# Make it pretty\n",
    "ax = plt.gca()\n",
    "ax.set_title(\"PER for players NOT FROM Top 5 Colleges\")\n",
    "ax.set_xlabel(\"Player Efficiency Rating\")\n",
    "ax.set_ylabel(\"# of Players\")\n",
    "\n",
    "# \"print\" the plot\n",
    "plt.show()"
   ]
  },
  {
   "cell_type": "code",
   "execution_count": null,
   "metadata": {},
   "outputs": [],
   "source": [
    "# Plot the Players FROM Top 5\n",
    "top_college['PER'].hist(bins=50) \n",
    "\n",
    "# Make it pretty\n",
    "ax = plt.gca()\n",
    "ax.set_title(\"PER for players FROM Top 5 Colleges\")\n",
    "ax.set_xlabel(\"Player Efficiency Rating\")\n",
    "ax.set_ylabel(\"# of Players\")\n",
    "\n",
    "# \"print\" the plot\n",
    "plt.show()"
   ]
  },
  {
   "cell_type": "markdown",
   "metadata": {},
   "source": [
    "### What conclusions can we draw about these 2 groups?"
   ]
  },
  {
   "cell_type": "code",
   "execution_count": null,
   "metadata": {},
   "outputs": [],
   "source": [
    "# Provide your short answer here\n",
    "# What could we do better? ..."
   ]
  }
 ],
 "metadata": {
  "kernelspec": {
   "display_name": "Python 3",
   "language": "python",
   "name": "python3"
  },
  "language_info": {
   "codemirror_mode": {
    "name": "ipython",
    "version": 3
   },
   "file_extension": ".py",
   "mimetype": "text/x-python",
   "name": "python",
   "nbconvert_exporter": "python",
   "pygments_lexer": "ipython3",
   "version": "3.7.3"
  }
 },
 "nbformat": 4,
 "nbformat_minor": 2
}
