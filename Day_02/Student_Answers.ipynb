{
 "cells": [
  {
   "cell_type": "markdown",
   "metadata": {},
   "source": [
    "# Pandas Exercise\n",
    "\n",
    "- Read CSV to dataframe\n",
    "- View Info and Shape\n",
    "- Use isin() method to filter by SepalLengthCm = 5.9\n",
    "- Create new dataframe consisting of only SepalLengthCm = 5.9\n",
    "- View the head & tail of new dataframe to confirm you filtered it correctly\n",
    "- Save the new dataframe to CSV"
   ]
  },
  {
   "cell_type": "code",
   "execution_count": null,
   "metadata": {
    "scrolled": false
   },
   "outputs": [],
   "source": [
    "# Import Libraries\n",
    "import pandas as pd\n",
    "\n",
    "# Read CSV\n",
    "df = pd.read_csv('../data/iris.csv')\n",
    "\n",
    "# View Info and Shape\n",
    "print(df.info())\n",
    "print(df.describe())\n",
    "\n",
    "# Use isin() method to filter by SepalLengthCm = 5.9\n",
    "new = df[\"SepalLengthCm\"].isin([5.9]) \n",
    "\n",
    "# Create new dataframe consisting of only SepalLengthCm = 5.9\n",
    "new_df = df[new]\n",
    "\n",
    "# View the head & tail of new dataframe to confirm you filtered it correctly\n",
    "print(new_df.head())\n",
    "print(new_df.tail())\n",
    "\n",
    "# Save the new dataframe to CSV\n",
    "new_df.to_csv('pandas_exercise.csv', index=None)"
   ]
  },
  {
   "cell_type": "markdown",
   "metadata": {},
   "source": [
    "# Numpy Stats Exercise\n",
    "\n",
    "- Use Pandas to read the iris dataset\n",
    "- Use Numpy to check the mean of any feature in the dataset\n",
    "- Use Numpy to check the standard of deviation of any feature in the dataset\n",
    "- Use Pandas .describe() to compare your Numpy results"
   ]
  },
  {
   "cell_type": "code",
   "execution_count": null,
   "metadata": {},
   "outputs": [],
   "source": [
    "import numpy as np\n",
    "import pandas as pd\n",
    "\n",
    "# Read CSV\n",
    "df = pd.read_csv('../data/iris.csv')\n",
    "\n",
    "# Get the mean using Numpy\n",
    "mean = np.mean(df['SepalLengthCm'])\n",
    "\n",
    "# # Get the standard of deviation using Numpy\n",
    "std_dev = np.std(df['PetalLengthCm'])\n",
    "\n",
    "# # Check your results\n",
    "print('Mean of SepalLengthCm using Numpy = {}'.format(mean))\n",
    "print('Standard of Deviation of PetalLengthCm using Numpy = {}'.format(std_dev))\n",
    "\n",
    "df.describe()"
   ]
  },
  {
   "cell_type": "markdown",
   "metadata": {},
   "source": [
    "# Descriptive Statistical Plots Exercise\n",
    "\n",
    "The purpose of this exercise is to get you comfortable with using and customizing graphing charts.\n",
    "\n",
    "- Select any of the charts we just reviewed and paste that code below and run the cell\n",
    "- In a new cell, paste that same code but now go to the documentation and look at ways you can modify the chart.\n",
    "    - Example: Change the font color\n",
    "    - Example: Adjust spacing"
   ]
  },
  {
   "cell_type": "code",
   "execution_count": null,
   "metadata": {},
   "outputs": [],
   "source": [
    "# Paste example here\n",
    "import matplotlib.pyplot as plt\n",
    "\n",
    "# Look at index 4 and 6, which demonstrate overlapping cases.\n",
    "x1 = [1, 3, 4, 5, 6, 7, 9]\n",
    "y1 = [4, 7, 2, 4, 7, 8, 3]\n",
    "\n",
    "x2 = [2, 4, 6, 8, 10]\n",
    "y2 = [5, 6, 2, 6, 2]\n",
    "\n",
    "plt.bar(x1, y1, label=\"Blue Bar\", color='b')\n",
    "plt.bar(x2, y2, label=\"Green Bar\", color='g')\n",
    "plt.plot()\n",
    "\n",
    "plt.xlabel(\"bar number\")\n",
    "plt.ylabel(\"bar height\")\n",
    "title_obj = plt.title(\"Bar Chart Example\")\n",
    "plt.setp(title_obj, color='b') \n",
    "plt.legend()\n",
    "plt.show()"
   ]
  },
  {
   "cell_type": "code",
   "execution_count": null,
   "metadata": {},
   "outputs": [],
   "source": [
    "# Modify the example here\n",
    "import matplotlib.pyplot as plt\n",
    "\n",
    "# Look at index 4 and 6, which demonstrate overlapping cases.\n",
    "x1 = [1, 3, 4, 5, 6, 7, 9]\n",
    "y1 = [4, 7, 2, 4, 7, 8, 3]\n",
    "\n",
    "x2 = [2, 4, 6, 8, 10]\n",
    "y2 = [5, 6, 2, 6, 2]\n",
    "\n",
    "plt.bar(x1, y1, label=\"Red Bar\", color='r')\n",
    "plt.bar(x2, y2, label=\"Green Bar\", color='g')\n",
    "plt.plot()\n",
    "\n",
    "plt.xlabel(\"bar number\")\n",
    "plt.ylabel(\"bar height\")\n",
    "title_obj = plt.title(\"Bar Chart Example\")\n",
    "plt.setp(title_obj, color='black') \n",
    "plt.legend()\n",
    "plt.show()"
   ]
  },
  {
   "cell_type": "code",
   "execution_count": null,
   "metadata": {},
   "outputs": [],
   "source": []
  }
 ],
 "metadata": {
  "kernelspec": {
   "display_name": "Python 3",
   "language": "python",
   "name": "python3"
  },
  "language_info": {
   "codemirror_mode": {
    "name": "ipython",
    "version": 3
   },
   "file_extension": ".py",
   "mimetype": "text/x-python",
   "name": "python",
   "nbconvert_exporter": "python",
   "pygments_lexer": "ipython3",
   "version": "3.7.3"
  }
 },
 "nbformat": 4,
 "nbformat_minor": 2
}
